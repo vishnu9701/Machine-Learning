{
 "cells": [
  {
   "cell_type": "markdown",
   "id": "1af9ffcb",
   "metadata": {
    "id": "1af9ffcb"
   },
   "source": [
    "# Numpy \n",
    "NumPy is a Python library used for working with arrays.\\n\n",
    "It also has functions for working in domain of linear algebra, fourier transform, and matrice"
   ]
  },
  {
   "cell_type": "markdown",
   "id": "4d9f617c",
   "metadata": {
    "id": "4d9f617c"
   },
   "source": [
    "# Create a NumPy ndarray Object"
   ]
  },
  {
   "cell_type": "code",
   "execution_count": 1,
   "id": "f9f451d4",
   "metadata": {
    "colab": {
     "base_uri": "https://localhost:8080/"
    },
    "executionInfo": {
     "elapsed": 47,
     "status": "ok",
     "timestamp": 1675939011161,
     "user": {
      "displayName": "Vishnu Pandey",
      "userId": "14136930795597363772"
     },
     "user_tz": -330
    },
    "id": "f9f451d4",
    "outputId": "d5f5c306-c00d-4e0b-c09e-79221e5e6cc5"
   },
   "outputs": [
    {
     "name": "stdout",
     "output_type": "stream",
     "text": [
      "[3 6 9]\n",
      "<class 'numpy.ndarray'>\n"
     ]
    }
   ],
   "source": [
    "import numpy as np\n",
    "arr=np.array([3,6,9])\n",
    "print(arr)\n",
    "print(type(arr))"
   ]
  },
  {
   "cell_type": "markdown",
   "id": "3dcddf79",
   "metadata": {
    "id": "3dcddf79"
   },
   "source": [
    "# 0-D Arrays\n",
    "0-D arrays, or Scalars, are the elements in an array. Each value in an array is a 0-D array."
   ]
  },
  {
   "cell_type": "code",
   "execution_count": 2,
   "id": "09f55164",
   "metadata": {
    "colab": {
     "base_uri": "https://localhost:8080/"
    },
    "executionInfo": {
     "elapsed": 44,
     "status": "ok",
     "timestamp": 1675939011162,
     "user": {
      "displayName": "Vishnu Pandey",
      "userId": "14136930795597363772"
     },
     "user_tz": -330
    },
    "id": "09f55164",
    "outputId": "8ee47238-447d-406e-968c-9b46ba1f8fec"
   },
   "outputs": [
    {
     "name": "stdout",
     "output_type": "stream",
     "text": [
      "3\n"
     ]
    }
   ],
   "source": [
    "arr=np.array(3)\n",
    "print(arr)"
   ]
  },
  {
   "cell_type": "markdown",
   "id": "9ebfc126",
   "metadata": {
    "id": "9ebfc126"
   },
   "source": [
    "# 1-D Arrays\n",
    "An array that has 0-D arrays as its elements is called uni-dimensional or 1-D array."
   ]
  },
  {
   "cell_type": "code",
   "execution_count": 3,
   "id": "1295849f",
   "metadata": {
    "colab": {
     "base_uri": "https://localhost:8080/"
    },
    "executionInfo": {
     "elapsed": 42,
     "status": "ok",
     "timestamp": 1675939011163,
     "user": {
      "displayName": "Vishnu Pandey",
      "userId": "14136930795597363772"
     },
     "user_tz": -330
    },
    "id": "1295849f",
    "outputId": "5de8e4e2-ada6-411b-88bf-3fd104c510ef"
   },
   "outputs": [
    {
     "name": "stdout",
     "output_type": "stream",
     "text": [
      "[3 6 9]\n"
     ]
    }
   ],
   "source": [
    "arr=np.array([3,6,9])\n",
    "print(arr)"
   ]
  },
  {
   "cell_type": "markdown",
   "id": "f32378b7",
   "metadata": {
    "id": "f32378b7"
   },
   "source": [
    "# 2-D Arrays\n",
    "An array that has 1-D arrays as its elements is called a 2-D array."
   ]
  },
  {
   "cell_type": "code",
   "execution_count": 4,
   "id": "4ca37d01",
   "metadata": {
    "colab": {
     "base_uri": "https://localhost:8080/"
    },
    "executionInfo": {
     "elapsed": 40,
     "status": "ok",
     "timestamp": 1675939011164,
     "user": {
      "displayName": "Vishnu Pandey",
      "userId": "14136930795597363772"
     },
     "user_tz": -330
    },
    "id": "4ca37d01",
    "outputId": "f17d878d-a752-4749-af2c-26c3f666ce60"
   },
   "outputs": [
    {
     "name": "stdout",
     "output_type": "stream",
     "text": [
      "[[3 6 9]\n",
      " [3 6 9]]\n"
     ]
    }
   ],
   "source": [
    "arr=np.array([[3,6,9],[3,6,9]])\n",
    "print(arr)"
   ]
  },
  {
   "cell_type": "markdown",
   "id": "2e0ea21a",
   "metadata": {
    "id": "2e0ea21a"
   },
   "source": [
    "# Array of zeros\n",
    "NumPy lets you create an array of all zeros using the np.zeros() method"
   ]
  },
  {
   "cell_type": "code",
   "execution_count": 5,
   "id": "2e6763bb",
   "metadata": {
    "colab": {
     "base_uri": "https://localhost:8080/"
    },
    "executionInfo": {
     "elapsed": 36,
     "status": "ok",
     "timestamp": 1675939011165,
     "user": {
      "displayName": "Vishnu Pandey",
      "userId": "14136930795597363772"
     },
     "user_tz": -330
    },
    "id": "2e6763bb",
    "outputId": "6ab6529a-b612-4f9e-b6b5-50768a6edb1b"
   },
   "outputs": [
    {
     "name": "stdout",
     "output_type": "stream",
     "text": [
      "[0. 0. 0. 0. 0. 0.]\n"
     ]
    }
   ],
   "source": [
    "arr=np.zeros(6)\n",
    "print(arr)"
   ]
  },
  {
   "cell_type": "markdown",
   "id": "d3ad0cf7",
   "metadata": {
    "id": "d3ad0cf7"
   },
   "source": [
    "# Array of ones\n",
    "Create an array of all 1s using the np.ones() method:"
   ]
  },
  {
   "cell_type": "code",
   "execution_count": 6,
   "id": "dd1d891b",
   "metadata": {
    "colab": {
     "base_uri": "https://localhost:8080/"
    },
    "executionInfo": {
     "elapsed": 32,
     "status": "ok",
     "timestamp": 1675939011165,
     "user": {
      "displayName": "Vishnu Pandey",
      "userId": "14136930795597363772"
     },
     "user_tz": -330
    },
    "id": "dd1d891b",
    "outputId": "9cc6ca83-151a-43e3-ba5d-c39de709e10c"
   },
   "outputs": [
    {
     "name": "stdout",
     "output_type": "stream",
     "text": [
      "[1. 1. 1. 1. 1. 1. 1. 1. 1.]\n"
     ]
    }
   ],
   "source": [
    "arr=np.ones(9)\n",
    "print(arr)"
   ]
  },
  {
   "cell_type": "markdown",
   "id": "fad9b97b",
   "metadata": {
    "id": "fad9b97b"
   },
   "source": [
    "# Random numbers in ndarrays\n",
    "Create ndarrays is np.random.rand() method. It creates an array of a given shape with random values from [0,1):"
   ]
  },
  {
   "cell_type": "code",
   "execution_count": 7,
   "id": "11eb7a84",
   "metadata": {
    "colab": {
     "base_uri": "https://localhost:8080/"
    },
    "executionInfo": {
     "elapsed": 31,
     "status": "ok",
     "timestamp": 1675939011166,
     "user": {
      "displayName": "Vishnu Pandey",
      "userId": "14136930795597363772"
     },
     "user_tz": -330
    },
    "id": "11eb7a84",
    "outputId": "8f5be6ca-e62d-4bd8-ab08-95e727ee50d7"
   },
   "outputs": [
    {
     "name": "stdout",
     "output_type": "stream",
     "text": [
      "[[0.00696553 0.44362705]\n",
      " [0.14154635 0.39258997]\n",
      " [0.51726128 0.10882286]]\n"
     ]
    }
   ],
   "source": [
    "arr=np.random.rand(3,2)  # 3 Rows & 2 Colomns\n",
    "print(arr)"
   ]
  },
  {
   "cell_type": "markdown",
   "id": "36e2a91e",
   "metadata": {
    "id": "36e2a91e"
   },
   "source": [
    "# Array of your choice\n",
    "Create an array filled with any given value using the np.full() method. Just pass in the shape of the desired array and the value you want:"
   ]
  },
  {
   "cell_type": "code",
   "execution_count": 8,
   "id": "3dbae72f",
   "metadata": {
    "colab": {
     "base_uri": "https://localhost:8080/"
    },
    "executionInfo": {
     "elapsed": 30,
     "status": "ok",
     "timestamp": 1675939011167,
     "user": {
      "displayName": "Vishnu Pandey",
      "userId": "14136930795597363772"
     },
     "user_tz": -330
    },
    "id": "3dbae72f",
    "outputId": "5b6ea96a-6758-419e-c4dd-0e530060c38d"
   },
   "outputs": [
    {
     "name": "stdout",
     "output_type": "stream",
     "text": [
      "[[3 3]\n",
      " [3 3]]\n"
     ]
    }
   ],
   "source": [
    "arr=np.full((2,2),3)\n",
    "print(arr)"
   ]
  },
  {
   "cell_type": "markdown",
   "id": "c517b0b4",
   "metadata": {
    "id": "c517b0b4"
   },
   "source": [
    "# Arange Array"
   ]
  },
  {
   "cell_type": "code",
   "execution_count": 9,
   "id": "4fd800d0",
   "metadata": {
    "colab": {
     "base_uri": "https://localhost:8080/"
    },
    "executionInfo": {
     "elapsed": 28,
     "status": "ok",
     "timestamp": 1675939011168,
     "user": {
      "displayName": "Vishnu Pandey",
      "userId": "14136930795597363772"
     },
     "user_tz": -330
    },
    "id": "4fd800d0",
    "outputId": "8ff96cba-2f09-49eb-feb4-0ba58a4ccbb3"
   },
   "outputs": [
    {
     "name": "stdout",
     "output_type": "stream",
     "text": [
      "[ 0  1  2  3  4  5  6  7  8  9 10 11]\n"
     ]
    }
   ],
   "source": [
    "arr=np.arange(12)\n",
    "print(arr)"
   ]
  },
  {
   "cell_type": "code",
   "execution_count": 10,
   "id": "9bbc858a",
   "metadata": {
    "colab": {
     "base_uri": "https://localhost:8080/"
    },
    "executionInfo": {
     "elapsed": 25,
     "status": "ok",
     "timestamp": 1675939011168,
     "user": {
      "displayName": "Vishnu Pandey",
      "userId": "14136930795597363772"
     },
     "user_tz": -330
    },
    "id": "9bbc858a",
    "outputId": "c5c82127-fdfc-42b4-c988-c68e4e779e28"
   },
   "outputs": [
    {
     "name": "stdout",
     "output_type": "stream",
     "text": [
      "[ 2  5  8 11]\n"
     ]
    }
   ],
   "source": [
    "arr=np.arange(2,12,3)\n",
    "print(arr)"
   ]
  },
  {
   "cell_type": "code",
   "execution_count": 11,
   "id": "297e4b3d",
   "metadata": {
    "colab": {
     "base_uri": "https://localhost:8080/"
    },
    "executionInfo": {
     "elapsed": 22,
     "status": "ok",
     "timestamp": 1675939011169,
     "user": {
      "displayName": "Vishnu Pandey",
      "userId": "14136930795597363772"
     },
     "user_tz": -330
    },
    "id": "297e4b3d",
    "outputId": "2f1a7076-18e3-487e-8c4b-c4c91e2f21d8"
   },
   "outputs": [
    {
     "name": "stdout",
     "output_type": "stream",
     "text": [
      "[[ 0  1  2  3  4]\n",
      " [ 5  6  7  8  9]\n",
      " [10 11 12 13 14]\n",
      " [15 16 17 18 19]\n",
      " [20 21 22 23 24]]\n"
     ]
    }
   ],
   "source": [
    "arr=np.arange(25)\n",
    "arr=arr.reshape(5,5)\n",
    "print(arr)"
   ]
  }
 ],
 "metadata": {
  "colab": {
   "provenance": [
    {
     "file_id": "1a-W58VyOPc95l5npwVvDI8RLU_rs6Oph",
     "timestamp": 1675939069583
    }
   ]
  },
  "kernelspec": {
   "display_name": "Python 3 (ipykernel)",
   "language": "python",
   "name": "python3"
  },
  "language_info": {
   "codemirror_mode": {
    "name": "ipython",
    "version": 3
   },
   "file_extension": ".py",
   "mimetype": "text/x-python",
   "name": "python",
   "nbconvert_exporter": "python",
   "pygments_lexer": "ipython3",
   "version": "3.10.5"
  }
 },
 "nbformat": 4,
 "nbformat_minor": 5
}

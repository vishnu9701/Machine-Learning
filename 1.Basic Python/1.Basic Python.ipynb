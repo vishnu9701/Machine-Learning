{
 "cells": [
  {
   "cell_type": "markdown",
   "id": "178a7c22",
   "metadata": {
    "id": "178a7c22"
   },
   "source": [
    "# Basic Python"
   ]
  },
  {
   "cell_type": "code",
   "execution_count": 1,
   "id": "7f20b336",
   "metadata": {
    "colab": {
     "base_uri": "https://localhost:8080/"
    },
    "executionInfo": {
     "elapsed": 153,
     "status": "ok",
     "timestamp": 1675938795664,
     "user": {
      "displayName": "Vishnu Pandey",
      "userId": "14136930795597363772"
     },
     "user_tz": -330
    },
    "id": "7f20b336",
    "outputId": "65103cc7-535c-46de-f63d-e49958da800e"
   },
   "outputs": [
    {
     "name": "stdout",
     "output_type": "stream",
     "text": [
      "Vishnu Pandey\n"
     ]
    }
   ],
   "source": [
    "print(\"Vishnu Pandey\")  # The Function to print anything"
   ]
  },
  {
   "cell_type": "markdown",
   "id": "c9f00b34",
   "metadata": {
    "id": "c9f00b34"
   },
   "source": [
    "# Built-in Data Types"
   ]
  },
  {
   "cell_type": "code",
   "execution_count": 2,
   "id": "07d8a6b7",
   "metadata": {
    "colab": {
     "base_uri": "https://localhost:8080/"
    },
    "executionInfo": {
     "elapsed": 149,
     "status": "ok",
     "timestamp": 1675938795667,
     "user": {
      "displayName": "Vishnu Pandey",
      "userId": "14136930795597363772"
     },
     "user_tz": -330
    },
    "id": "07d8a6b7",
    "outputId": "bef2252b-8aea-440f-8381-f4428ca5cf7e"
   },
   "outputs": [
    {
     "name": "stdout",
     "output_type": "stream",
     "text": [
      "21\n",
      "<class 'int'>\n"
     ]
    }
   ],
   "source": [
    "age=21  # Int\n",
    "print(age)\n",
    "print(type(age))"
   ]
  },
  {
   "cell_type": "code",
   "execution_count": 3,
   "id": "d59d7bdb",
   "metadata": {
    "colab": {
     "base_uri": "https://localhost:8080/"
    },
    "executionInfo": {
     "elapsed": 145,
     "status": "ok",
     "timestamp": 1675938795669,
     "user": {
      "displayName": "Vishnu Pandey",
      "userId": "14136930795597363772"
     },
     "user_tz": -330
    },
    "id": "d59d7bdb",
    "outputId": "339e7538-7c72-48fb-e7be-a0155d02f361"
   },
   "outputs": [
    {
     "name": "stdout",
     "output_type": "stream",
     "text": [
      "167.5\n",
      "<class 'float'>\n"
     ]
    }
   ],
   "source": [
    "height=167.5 # Float\n",
    "print(height)\n",
    "print(type(height))"
   ]
  },
  {
   "cell_type": "code",
   "execution_count": 4,
   "id": "0f42c083",
   "metadata": {
    "colab": {
     "base_uri": "https://localhost:8080/"
    },
    "executionInfo": {
     "elapsed": 143,
     "status": "ok",
     "timestamp": 1675938795670,
     "user": {
      "displayName": "Vishnu Pandey",
      "userId": "14136930795597363772"
     },
     "user_tz": -330
    },
    "id": "0f42c083",
    "outputId": "e84d1950-54ac-4eb4-cf5f-fff0204ddab9"
   },
   "outputs": [
    {
     "name": "stdout",
     "output_type": "stream",
     "text": [
      "Vishnu\n",
      "<class 'str'>\n"
     ]
    }
   ],
   "source": [
    "name=\"Vishnu\" # String\n",
    "print(name)\n",
    "print(type(name))"
   ]
  },
  {
   "cell_type": "code",
   "execution_count": 5,
   "id": "f46460d8",
   "metadata": {
    "colab": {
     "base_uri": "https://localhost:8080/"
    },
    "executionInfo": {
     "elapsed": 142,
     "status": "ok",
     "timestamp": 1675938795673,
     "user": {
      "displayName": "Vishnu Pandey",
      "userId": "14136930795597363772"
     },
     "user_tz": -330
    },
    "id": "f46460d8",
    "outputId": "e7bb8071-328d-41a5-a700-01e292e91c33"
   },
   "outputs": [
    {
     "name": "stdout",
     "output_type": "stream",
     "text": [
      "(3+2j)\n",
      "<class 'complex'>\n"
     ]
    }
   ],
   "source": [
    "pos=3+2j # Complex\n",
    "print(pos)\n",
    "print(type(pos))"
   ]
  },
  {
   "cell_type": "code",
   "execution_count": 6,
   "id": "75905d85",
   "metadata": {
    "colab": {
     "base_uri": "https://localhost:8080/"
    },
    "executionInfo": {
     "elapsed": 141,
     "status": "ok",
     "timestamp": 1675938795675,
     "user": {
      "displayName": "Vishnu Pandey",
      "userId": "14136930795597363772"
     },
     "user_tz": -330
    },
    "id": "75905d85",
    "outputId": "14910492-5f27-47b6-d5d4-e9abdc3414f0"
   },
   "outputs": [
    {
     "name": "stdout",
     "output_type": "stream",
     "text": [
      "True\n",
      "<class 'bool'>\n"
     ]
    }
   ],
   "source": [
    "status=True # Boolean\n",
    "print(status)\n",
    "print(type(status))"
   ]
  },
  {
   "cell_type": "code",
   "execution_count": 7,
   "id": "873b20ae",
   "metadata": {
    "colab": {
     "base_uri": "https://localhost:8080/"
    },
    "executionInfo": {
     "elapsed": 136,
     "status": "ok",
     "timestamp": 1675938795676,
     "user": {
      "displayName": "Vishnu Pandey",
      "userId": "14136930795597363772"
     },
     "user_tz": -330
    },
    "id": "873b20ae",
    "outputId": "add4f731-e171-4c67-d107-92276bb663e9"
   },
   "outputs": [
    {
     "name": "stdout",
     "output_type": "stream",
     "text": [
      "[3, 6, 9]\n",
      "<class 'list'>\n"
     ]
    }
   ],
   "source": [
    "list=[3,6,9]\n",
    "print(list)\n",
    "print(type(list))"
   ]
  },
  {
   "cell_type": "code",
   "execution_count": 8,
   "id": "748be44b",
   "metadata": {
    "colab": {
     "base_uri": "https://localhost:8080/"
    },
    "executionInfo": {
     "elapsed": 133,
     "status": "ok",
     "timestamp": 1675938795677,
     "user": {
      "displayName": "Vishnu Pandey",
      "userId": "14136930795597363772"
     },
     "user_tz": -330
    },
    "id": "748be44b",
    "outputId": "3cfa104b-1a31-4f0b-9cb0-39c647e27593"
   },
   "outputs": [
    {
     "name": "stdout",
     "output_type": "stream",
     "text": [
      "(3, 6, 9)\n",
      "<class 'tuple'>\n"
     ]
    }
   ],
   "source": [
    "tuple=(3,6,9)\n",
    "print(tuple)\n",
    "print(type(tuple))"
   ]
  },
  {
   "cell_type": "code",
   "execution_count": 9,
   "id": "ffd3dbd4",
   "metadata": {
    "colab": {
     "base_uri": "https://localhost:8080/"
    },
    "executionInfo": {
     "elapsed": 131,
     "status": "ok",
     "timestamp": 1675938795678,
     "user": {
      "displayName": "Vishnu Pandey",
      "userId": "14136930795597363772"
     },
     "user_tz": -330
    },
    "id": "ffd3dbd4",
    "outputId": "45bab944-3a93-478e-cc7a-260be5921f20"
   },
   "outputs": [
    {
     "name": "stdout",
     "output_type": "stream",
     "text": [
      "{9, 3, 6}\n",
      "<class 'set'>\n"
     ]
    }
   ],
   "source": [
    "set={3,6,9}\n",
    "print(set)\n",
    "print(type(set))"
   ]
  },
  {
   "cell_type": "code",
   "execution_count": 10,
   "id": "3ceae67a",
   "metadata": {
    "colab": {
     "base_uri": "https://localhost:8080/"
    },
    "executionInfo": {
     "elapsed": 129,
     "status": "ok",
     "timestamp": 1675938795679,
     "user": {
      "displayName": "Vishnu Pandey",
      "userId": "14136930795597363772"
     },
     "user_tz": -330
    },
    "id": "3ceae67a",
    "outputId": "bc0e60c1-a651-4403-94f2-c91424c80d3e"
   },
   "outputs": [
    {
     "name": "stdout",
     "output_type": "stream",
     "text": [
      "{3: 'Vishnu', 6: 'Vedu', 9: 'Pandey'}\n",
      "<class 'dict'>\n"
     ]
    }
   ],
   "source": [
    "dict={3:\"Vishnu\",6:\"Vedu\",9:\"Pandey\"}\n",
    "print(dict)\n",
    "print(type(dict))"
   ]
  },
  {
   "cell_type": "markdown",
   "id": "3d5643b3",
   "metadata": {
    "id": "3d5643b3"
   },
   "source": [
    "# Numeric operators\n"
   ]
  },
  {
   "cell_type": "code",
   "execution_count": 11,
   "id": "bc131f6f",
   "metadata": {
    "colab": {
     "base_uri": "https://localhost:8080/"
    },
    "executionInfo": {
     "elapsed": 123,
     "status": "ok",
     "timestamp": 1675938795679,
     "user": {
      "displayName": "Vishnu Pandey",
      "userId": "14136930795597363772"
     },
     "user_tz": -330
    },
    "id": "bc131f6f",
    "outputId": "0069d12d-e234-46c8-ee3e-e3d6b1282cf9"
   },
   "outputs": [
    {
     "name": "stdout",
     "output_type": "stream",
     "text": [
      "a= 6 b= 3\n",
      "a+b 9\n",
      "a-b 3\n",
      "a*b 18\n",
      "a/b 2.0\n",
      "a//b 2\n",
      "a**b 216\n"
     ]
    }
   ],
   "source": [
    "a=6\n",
    "b=3\n",
    "print(\"a=\",a,\"b=\",b)\n",
    "print(\"a+b\",a+b) # Addition\n",
    "print(\"a-b\",a-b) # Subtractions\n",
    "print(\"a*b\",a*b) # Multiplication\n",
    "print(\"a/b\",a/b) # Division\n",
    "print(\"a//b\",a//b) # Float Division\n",
    "print(\"a**b\",a**b) # Exponent"
   ]
  },
  {
   "cell_type": "markdown",
   "id": "7bbb3556",
   "metadata": {
    "id": "7bbb3556"
   },
   "source": [
    "# Comparison operators"
   ]
  },
  {
   "cell_type": "code",
   "execution_count": 12,
   "id": "7711feb1",
   "metadata": {
    "colab": {
     "base_uri": "https://localhost:8080/"
    },
    "executionInfo": {
     "elapsed": 120,
     "status": "ok",
     "timestamp": 1675938795680,
     "user": {
      "displayName": "Vishnu Pandey",
      "userId": "14136930795597363772"
     },
     "user_tz": -330
    },
    "id": "7711feb1",
    "outputId": "569be203-dd9d-41d3-ee36-35245e545663"
   },
   "outputs": [
    {
     "name": "stdout",
     "output_type": "stream",
     "text": [
      "a= 3 b= 6\n",
      "a==b False\n",
      "a!=b True\n",
      "a>b False\n",
      "a<b True\n"
     ]
    }
   ],
   "source": [
    "a=3\n",
    "b=6\n",
    "print(\"a=\",a,\"b=\",b)\n",
    "print(\"a==b\",a==b)\n",
    "print(\"a!=b\",a!=b)\n",
    "print(\"a>b\",a>b)\n",
    "print(\"a<b\",a<b)"
   ]
  },
  {
   "cell_type": "markdown",
   "id": "8a124b4b",
   "metadata": {
    "id": "8a124b4b"
   },
   "source": [
    "# Boolean operators"
   ]
  },
  {
   "cell_type": "code",
   "execution_count": 13,
   "id": "79ddc5d4",
   "metadata": {
    "colab": {
     "base_uri": "https://localhost:8080/"
    },
    "executionInfo": {
     "elapsed": 118,
     "status": "ok",
     "timestamp": 1675938795681,
     "user": {
      "displayName": "Vishnu Pandey",
      "userId": "14136930795597363772"
     },
     "user_tz": -330
    },
    "id": "79ddc5d4",
    "outputId": "850305d0-c806-492c-c00f-1831c73a3613"
   },
   "outputs": [
    {
     "name": "stdout",
     "output_type": "stream",
     "text": [
      "a and b = 6\n",
      "a or b = 3\n",
      "not a = False\n"
     ]
    }
   ],
   "source": [
    "a,b=3,6\n",
    "print(\"a and b =\",a and b)\n",
    "print(\"a or b =\",a or b)\n",
    "print(\"not a =\",not a)"
   ]
  },
  {
   "cell_type": "markdown",
   "id": "a50efb9e",
   "metadata": {
    "id": "a50efb9e"
   },
   "source": [
    "# Identify Opeartors"
   ]
  },
  {
   "cell_type": "code",
   "execution_count": 14,
   "id": "b9eece5b",
   "metadata": {
    "colab": {
     "base_uri": "https://localhost:8080/"
    },
    "executionInfo": {
     "elapsed": 113,
     "status": "ok",
     "timestamp": 1675938795681,
     "user": {
      "displayName": "Vishnu Pandey",
      "userId": "14136930795597363772"
     },
     "user_tz": -330
    },
    "id": "b9eece5b",
    "outputId": "655a0cc3-c8bd-4da2-b519-a62696eaf00c"
   },
   "outputs": [
    {
     "name": "stdout",
     "output_type": "stream",
     "text": [
      "a is b False\n",
      "a is not b True\n"
     ]
    }
   ],
   "source": [
    "a,b=3,6\n",
    "print(\"a is b\",a is b)\n",
    "print(\"a is not b\",a is not b)"
   ]
  },
  {
   "cell_type": "markdown",
   "id": "c0a42bc2",
   "metadata": {
    "id": "c0a42bc2"
   },
   "source": [
    "# Membership Opeartors"
   ]
  },
  {
   "cell_type": "code",
   "execution_count": 15,
   "id": "e82743e4",
   "metadata": {
    "colab": {
     "base_uri": "https://localhost:8080/"
    },
    "executionInfo": {
     "elapsed": 107,
     "status": "ok",
     "timestamp": 1675938795682,
     "user": {
      "displayName": "Vishnu Pandey",
      "userId": "14136930795597363772"
     },
     "user_tz": -330
    },
    "id": "e82743e4",
    "outputId": "521de14b-bc20-4215-d51b-577598777498"
   },
   "outputs": [
    {
     "name": "stdout",
     "output_type": "stream",
     "text": [
      "Is 6 in list True\n",
      "Is 12 not in list True\n"
     ]
    }
   ],
   "source": [
    "list=[3,6,9]\n",
    "print(\"Is 6 in list\",6 in list)\n",
    "print(\"Is 12 not in list\",12 not in list)"
   ]
  },
  {
   "cell_type": "markdown",
   "id": "dead4083",
   "metadata": {
    "id": "dead4083"
   },
   "source": [
    "# Bitwise Opeartors"
   ]
  },
  {
   "cell_type": "code",
   "execution_count": 16,
   "id": "1da977d5",
   "metadata": {
    "colab": {
     "base_uri": "https://localhost:8080/"
    },
    "executionInfo": {
     "elapsed": 103,
     "status": "ok",
     "timestamp": 1675938795683,
     "user": {
      "displayName": "Vishnu Pandey",
      "userId": "14136930795597363772"
     },
     "user_tz": -330
    },
    "id": "1da977d5",
    "outputId": "ccf73978-f62a-4d16-e351-a0d289eec968"
   },
   "outputs": [
    {
     "name": "stdout",
     "output_type": "stream",
     "text": [
      "a&b 0\n",
      "a|b 3\n",
      "a^b 3\n",
      "~a -3\n",
      "a<<1 4\n",
      "a>>1 1\n"
     ]
    }
   ],
   "source": [
    "a,b=2,1\n",
    "print(\"a&b\",a&b)\n",
    "print(\"a|b\",a|b)\n",
    "print(\"a^b\",a^b)\n",
    "print(\"~a\",~a)\n",
    "print(\"a<<1\",a<<1)\n",
    "print(\"a>>1\",a>>1)"
   ]
  },
  {
   "cell_type": "markdown",
   "id": "6d52f567",
   "metadata": {
    "id": "6d52f567"
   },
   "source": [
    "# String"
   ]
  },
  {
   "cell_type": "code",
   "execution_count": 17,
   "id": "674d7b99",
   "metadata": {
    "colab": {
     "base_uri": "https://localhost:8080/"
    },
    "executionInfo": {
     "elapsed": 100,
     "status": "ok",
     "timestamp": 1675938795683,
     "user": {
      "displayName": "Vishnu Pandey",
      "userId": "14136930795597363772"
     },
     "user_tz": -330
    },
    "id": "674d7b99",
    "outputId": "42cb548e-9156-4ec5-b7db-c7024dc81d9e"
   },
   "outputs": [
    {
     "name": "stdout",
     "output_type": "stream",
     "text": [
      "a= Vishnu b= Pandey\n",
      "a+b VishnuPandey\n",
      "a*3 VishnuVishnuVishnu\n",
      "nu in a True\n",
      "a[:3] Vis\n"
     ]
    }
   ],
   "source": [
    "a=\"Vishnu\"\n",
    "b=\"Pandey\"\n",
    "print(\"a=\",a,\"b=\",b)\n",
    "print(\"a+b\",a+b)\n",
    "print(\"a*3\",a*3)\n",
    "print(\"nu in a\", \"nu\" in a)  \n",
    "print(\"a[:3]\",a[:3])"
   ]
  },
  {
   "cell_type": "code",
   "execution_count": 18,
   "id": "ec7cca2f",
   "metadata": {
    "colab": {
     "base_uri": "https://localhost:8080/"
    },
    "executionInfo": {
     "elapsed": 96,
     "status": "ok",
     "timestamp": 1675938795684,
     "user": {
      "displayName": "Vishnu Pandey",
      "userId": "14136930795597363772"
     },
     "user_tz": -330
    },
    "id": "ec7cca2f",
    "outputId": "3f5df486-b096-4f53-d3f6-34c202c80f98"
   },
   "outputs": [
    {
     "name": "stdout",
     "output_type": "stream",
     "text": [
      "str.upper() VISHNU PANDEY\n",
      "str.lower() vishnu pandey\n",
      "str.count('n') 2\n",
      "str.replace('u','V') VishnV Pandey\n",
      "str.strip() Vishnu \n"
     ]
    }
   ],
   "source": [
    "str=\"Vishnu Pandey\"\n",
    "print(\"str.upper()\",str.upper())\n",
    "print(\"str.lower()\",str.lower())\n",
    "print(\"str.count('n')\",str.count('n'))\n",
    "print(\"str.replace('u','V')\",str.replace('u','V'))\n",
    "print(\"str.strip()\",str.strip(\"Pandey\"))"
   ]
  },
  {
   "cell_type": "markdown",
   "id": "61b05b7b",
   "metadata": {
    "id": "61b05b7b"
   },
   "source": [
    "# List"
   ]
  },
  {
   "cell_type": "code",
   "execution_count": 19,
   "id": "0d9e07fe",
   "metadata": {
    "colab": {
     "base_uri": "https://localhost:8080/"
    },
    "executionInfo": {
     "elapsed": 90,
     "status": "ok",
     "timestamp": 1675938795684,
     "user": {
      "displayName": "Vishnu Pandey",
      "userId": "14136930795597363772"
     },
     "user_tz": -330
    },
    "id": "0d9e07fe",
    "outputId": "f18ef3ef-c8f4-4a3b-d4e4-e3945b20d6ea"
   },
   "outputs": [
    {
     "name": "stdout",
     "output_type": "stream",
     "text": [
      "[3, 6, 9]\n",
      "l.append(12) [3, 6, 9, 12]\n",
      "l.remove(12) [3, 6, 9]\n",
      "l.insert(2,12) [3, 6, 12, 9]\n",
      "l.pop() [3, 6, 12]\n",
      "l.reverse() [12, 6, 3]\n",
      "l.sort() [3, 6, 12]\n",
      "l.count(3) 1\n",
      "[6, 12]\n"
     ]
    }
   ],
   "source": [
    "l=[3,6,9]\n",
    "print(l)\n",
    "print(\"l.append(12)\",end=\" \")\n",
    "l.append(12)\n",
    "print(l)\n",
    "print(\"l.remove(12)\",end=\" \")\n",
    "l.remove(12)\n",
    "print(l)\n",
    "print(\"l.insert(2,12)\",end=\" \")\n",
    "l.insert(2,12)\n",
    "print(l)\n",
    "print(\"l.pop()\",end=\" \")\n",
    "l.pop()\n",
    "print(l)\n",
    "print(\"l.reverse()\",end=\" \")\n",
    "l.reverse()\n",
    "print(l)\n",
    "print(\"l.sort()\",end=\" \")\n",
    "l.sort()\n",
    "print(l)\n",
    "print(\"l.count(3)\",end=\" \")\n",
    "print(l.count(3))\n",
    "del l[0:1]\n",
    "print(l)\n"
   ]
  },
  {
   "cell_type": "markdown",
   "id": "62fb3813",
   "metadata": {
    "id": "62fb3813"
   },
   "source": [
    "# Tuple"
   ]
  },
  {
   "cell_type": "code",
   "execution_count": 20,
   "id": "9b4893c8",
   "metadata": {
    "colab": {
     "base_uri": "https://localhost:8080/"
    },
    "executionInfo": {
     "elapsed": 84,
     "status": "ok",
     "timestamp": 1675938795685,
     "user": {
      "displayName": "Vishnu Pandey",
      "userId": "14136930795597363772"
     },
     "user_tz": -330
    },
    "id": "9b4893c8",
    "outputId": "d3372900-93ee-4b28-b414-cc09ff039d55"
   },
   "outputs": [
    {
     "name": "stdout",
     "output_type": "stream",
     "text": [
      "(3, 6, 9)\n",
      "<class 'tuple'>\n",
      "len(t) 3\n",
      "max(t) 9\n",
      "min(t) 3\n"
     ]
    }
   ],
   "source": [
    "t=(3,6,9)\n",
    "print(t)\n",
    "print(type(t))\n",
    "print(\"len(t)\",len(t))\n",
    "print(\"max(t)\",max(t))\n",
    "print(\"min(t)\",min(t))"
   ]
  },
  {
   "cell_type": "markdown",
   "id": "74771030",
   "metadata": {
    "id": "74771030"
   },
   "source": [
    "# Set"
   ]
  },
  {
   "cell_type": "code",
   "execution_count": 21,
   "id": "e887d9dd",
   "metadata": {
    "colab": {
     "base_uri": "https://localhost:8080/"
    },
    "executionInfo": {
     "elapsed": 76,
     "status": "ok",
     "timestamp": 1675938795686,
     "user": {
      "displayName": "Vishnu Pandey",
      "userId": "14136930795597363772"
     },
     "user_tz": -330
    },
    "id": "e887d9dd",
    "outputId": "52127c36-6f8d-46ba-977d-5624b7ce45fd"
   },
   "outputs": [
    {
     "name": "stdout",
     "output_type": "stream",
     "text": [
      "{9, 3, 6} <class 'set'>\n"
     ]
    }
   ],
   "source": [
    "s={3,9,6}\n",
    "print(s,type(s))"
   ]
  },
  {
   "cell_type": "code",
   "execution_count": 22,
   "id": "6f0381ff",
   "metadata": {
    "colab": {
     "base_uri": "https://localhost:8080/"
    },
    "executionInfo": {
     "elapsed": 76,
     "status": "ok",
     "timestamp": 1675938795689,
     "user": {
      "displayName": "Vishnu Pandey",
      "userId": "14136930795597363772"
     },
     "user_tz": -330
    },
    "id": "6f0381ff",
    "outputId": "17e4dcc8-51c0-45df-ea14-cf966eec6ba7"
   },
   "outputs": [
    {
     "name": "stdout",
     "output_type": "stream",
     "text": [
      "s.add(12)\n",
      "{9, 3, 12, 6} s.remove(12)\n",
      "{9, 3, 6} "
     ]
    }
   ],
   "source": [
    "s={3,6,9}\n",
    "print(\"s.add(12)\")\n",
    "s.add(12)\n",
    "print(s,end=\" \")\n",
    "print(\"s.remove(12)\")\n",
    "s.remove(12)\n",
    "print(s,end=\" \")"
   ]
  },
  {
   "cell_type": "code",
   "execution_count": 23,
   "id": "442a604d",
   "metadata": {
    "colab": {
     "base_uri": "https://localhost:8080/"
    },
    "executionInfo": {
     "elapsed": 74,
     "status": "ok",
     "timestamp": 1675938795690,
     "user": {
      "displayName": "Vishnu Pandey",
      "userId": "14136930795597363772"
     },
     "user_tz": -330
    },
    "id": "442a604d",
    "outputId": "e753828e-607c-49c5-9a8d-d6a8676ce148"
   },
   "outputs": [
    {
     "name": "stdout",
     "output_type": "stream",
     "text": [
      "s1.difference(s2) {1, 2}\n",
      "s1.intersection(s2) {3}\n",
      "s1.union(s2) {1, 2, 3, 6, 9}\n"
     ]
    }
   ],
   "source": [
    "s1={1,2,3}\n",
    "s2={3,6,9}\n",
    "print(\"s1.difference(s2)\",s1.difference(s2))\n",
    "print(\"s1.intersection(s2)\",s1.intersection(s2))\n",
    "print(\"s1.union(s2)\",s1.union(s2))"
   ]
  },
  {
   "cell_type": "markdown",
   "id": "832c618b",
   "metadata": {
    "id": "832c618b"
   },
   "source": [
    "# Dictionary"
   ]
  },
  {
   "cell_type": "code",
   "execution_count": 24,
   "id": "a3b01178",
   "metadata": {
    "colab": {
     "base_uri": "https://localhost:8080/"
    },
    "executionInfo": {
     "elapsed": 72,
     "status": "ok",
     "timestamp": 1675938795692,
     "user": {
      "displayName": "Vishnu Pandey",
      "userId": "14136930795597363772"
     },
     "user_tz": -330
    },
    "id": "a3b01178",
    "outputId": "35e882a0-a07c-4bbb-b47a-b8670d52ee00"
   },
   "outputs": [
    {
     "name": "stdout",
     "output_type": "stream",
     "text": [
      "{'name': 'Vishnu', 'age': 21, 'Gender': 'Male'} <class 'dict'>\n"
     ]
    }
   ],
   "source": [
    "data={\"name\":\"Vishnu\",\"age\":21,\"Gender\":\"Male\"}\n",
    "print(data,type(data))"
   ]
  },
  {
   "cell_type": "code",
   "execution_count": 25,
   "id": "1c66986a",
   "metadata": {
    "colab": {
     "base_uri": "https://localhost:8080/"
    },
    "executionInfo": {
     "elapsed": 71,
     "status": "ok",
     "timestamp": 1675938795696,
     "user": {
      "displayName": "Vishnu Pandey",
      "userId": "14136930795597363772"
     },
     "user_tz": -330
    },
    "id": "1c66986a",
    "outputId": "2eb3ba7a-737e-4103-dcee-f4620490dca1"
   },
   "outputs": [
    {
     "name": "stdout",
     "output_type": "stream",
     "text": [
      "age 21\n",
      "data.keys() dict_keys(['name', 'age', 'Gender'])\n",
      "data.values() dict_values(['Vishnu', 21, 'Male'])\n",
      "{'name': 'Vishnu', 'age': 21, 'Gender': 'Male', 'Married': 'No'}\n"
     ]
    }
   ],
   "source": [
    "print(\"age\",data[\"age\"])\n",
    "print(\"data.keys()\",data.keys())\n",
    "print(\"data.values()\",data.values())\n",
    "data.update({\"Married\":\"No\"})\n",
    "print(data)"
   ]
  },
  {
   "cell_type": "markdown",
   "id": "e86b403d",
   "metadata": {
    "id": "e86b403d"
   },
   "source": [
    "# If-Else Statement"
   ]
  },
  {
   "cell_type": "code",
   "execution_count": 26,
   "id": "6941df48",
   "metadata": {
    "colab": {
     "base_uri": "https://localhost:8080/"
    },
    "executionInfo": {
     "elapsed": 74,
     "status": "ok",
     "timestamp": 1675938795703,
     "user": {
      "displayName": "Vishnu Pandey",
      "userId": "14136930795597363772"
     },
     "user_tz": -330
    },
    "id": "6941df48",
    "outputId": "d61f74dc-bf28-4ca9-c81c-ceeb06ab5906"
   },
   "outputs": [
    {
     "name": "stdout",
     "output_type": "stream",
     "text": [
      "Lower than 5\n"
     ]
    }
   ],
   "source": [
    "n=3\n",
    "if(n>5):\n",
    "    print(\"Graeter than 5\")\n",
    "elif(n==5):\n",
    "    print(\"Equal to 5\")\n",
    "else:\n",
    "    print(\"Lower than 5\")"
   ]
  },
  {
   "cell_type": "markdown",
   "id": "2ff43b60",
   "metadata": {
    "id": "2ff43b60"
   },
   "source": [
    "# Switch Statement"
   ]
  },
  {
   "cell_type": "code",
   "execution_count": 27,
   "id": "2b0101ee",
   "metadata": {
    "colab": {
     "base_uri": "https://localhost:8080/",
     "height": 130
    },
    "executionInfo": {
     "elapsed": 77,
     "status": "error",
     "timestamp": 1675938795708,
     "user": {
      "displayName": "Vishnu Pandey",
      "userId": "14136930795597363772"
     },
     "user_tz": -330
    },
    "id": "2b0101ee",
    "outputId": "27b4c2e6-3c4f-46d6-f095-6df2e7ac65cc"
   },
   "outputs": [
    {
     "name": "stdout",
     "output_type": "stream",
     "text": [
      "One\n"
     ]
    }
   ],
   "source": [
    "n=1\n",
    "match n:\n",
    "    case 0:\n",
    "        print(\"Zero\")        \n",
    "    case 1:\n",
    "        print(\"One\")        \n",
    "    case 2:\n",
    "        print(\"Two\")       \n",
    "    case default:\n",
    "        print(\"None\")"
   ]
  },
  {
   "cell_type": "markdown",
   "id": "41b56b30",
   "metadata": {
    "id": "41b56b30"
   },
   "source": [
    "# For-Loop"
   ]
  },
  {
   "cell_type": "code",
   "execution_count": 28,
   "id": "b2b6cb74",
   "metadata": {
    "id": "b2b6cb74"
   },
   "outputs": [
    {
     "name": "stdout",
     "output_type": "stream",
     "text": [
      "Vishnu Pandey\n",
      "Vishnu Pandey\n",
      "Vishnu Pandey\n"
     ]
    }
   ],
   "source": [
    "for i in range(3):\n",
    "    print(\"Vishnu Pandey\")"
   ]
  },
  {
   "cell_type": "code",
   "execution_count": 29,
   "id": "db381e27",
   "metadata": {
    "id": "db381e27"
   },
   "outputs": [
    {
     "name": "stdout",
     "output_type": "stream",
     "text": [
      "V\n",
      "V\n",
      "P\n"
     ]
    }
   ],
   "source": [
    "name=\"VVP\"\n",
    "for i in name:\n",
    "    print(i)"
   ]
  },
  {
   "cell_type": "code",
   "execution_count": 30,
   "id": "c4e5e104",
   "metadata": {
    "id": "c4e5e104"
   },
   "outputs": [
    {
     "name": "stdout",
     "output_type": "stream",
     "text": [
      " *  *  * \n",
      " *  *  * \n",
      " *  *  * \n"
     ]
    }
   ],
   "source": [
    "for i in range(3):\n",
    "    for j in range(3):\n",
    "        print(\" * \",end=\"\")\n",
    "    print()"
   ]
  },
  {
   "cell_type": "markdown",
   "id": "148c25f4",
   "metadata": {
    "id": "148c25f4"
   },
   "source": [
    "# While Loop"
   ]
  },
  {
   "cell_type": "code",
   "execution_count": 31,
   "id": "18dedd78",
   "metadata": {
    "colab": {
     "base_uri": "https://localhost:8080/"
    },
    "executionInfo": {
     "elapsed": 688,
     "status": "ok",
     "timestamp": 1675938796322,
     "user": {
      "displayName": "Vishnu Pandey",
      "userId": "14136930795597363772"
     },
     "user_tz": -330
    },
    "id": "18dedd78",
    "outputId": "acbbd1df-6956-469e-9d6e-be6299f5f770"
   },
   "outputs": [
    {
     "name": "stdout",
     "output_type": "stream",
     "text": [
      "3\n",
      "2\n",
      "1\n"
     ]
    }
   ],
   "source": [
    "n=3\n",
    "while n>0:\n",
    "    print(n)\n",
    "    n=n-1"
   ]
  },
  {
   "cell_type": "markdown",
   "id": "bf99d456",
   "metadata": {
    "id": "bf99d456"
   },
   "source": [
    "# Function"
   ]
  },
  {
   "cell_type": "code",
   "execution_count": 32,
   "id": "9080f14a",
   "metadata": {
    "colab": {
     "base_uri": "https://localhost:8080/"
    },
    "executionInfo": {
     "elapsed": 16,
     "status": "ok",
     "timestamp": 1675938796323,
     "user": {
      "displayName": "Vishnu Pandey",
      "userId": "14136930795597363772"
     },
     "user_tz": -330
    },
    "id": "9080f14a",
    "outputId": "237a3c3f-40f7-438f-d15c-6b0879700187"
   },
   "outputs": [
    {
     "name": "stdout",
     "output_type": "stream",
     "text": [
      "Your name is  Vishnu\n"
     ]
    }
   ],
   "source": [
    "def fun(name):\n",
    "    print(\"Your name is \",name)\n",
    "fun(\"Vishnu\")"
   ]
  },
  {
   "cell_type": "code",
   "execution_count": null,
   "id": "dd0655c0",
   "metadata": {
    "colab": {
     "base_uri": "https://localhost:8080/"
    },
    "executionInfo": {
     "elapsed": 870,
     "status": "ok",
     "timestamp": 1675938797889,
     "user": {
      "displayName": "Vishnu Pandey",
      "userId": "14136930795597363772"
     },
     "user_tz": -330
    },
    "id": "dd0655c0",
    "outputId": "af788d97-bbfc-44ca-d047-ef01e40b36c9"
   },
   "outputs": [
    {
     "data": {
      "text/plain": [
       "30"
      ]
     },
     "execution_count": 30,
     "metadata": {},
     "output_type": "execute_result"
    }
   ],
   "source": [
    "def marks(num):\n",
    "    return num*3\n",
    "marks(10)"
   ]
  }
 ],
 "metadata": {
  "colab": {
   "provenance": [
    {
     "file_id": "1_wnKFZ7nGKaMV-9Y2z9nub6wfvOcCRc6",
     "timestamp": 1675938809900
    }
   ]
  },
  "kernelspec": {
   "display_name": "Python 3 (ipykernel)",
   "language": "python",
   "name": "python3"
  },
  "language_info": {
   "codemirror_mode": {
    "name": "ipython",
    "version": 3
   },
   "file_extension": ".py",
   "mimetype": "text/x-python",
   "name": "python",
   "nbconvert_exporter": "python",
   "pygments_lexer": "ipython3",
   "version": "3.10.5"
  }
 },
 "nbformat": 4,
 "nbformat_minor": 5
}

{
 "cells": [
  {
   "cell_type": "markdown",
   "metadata": {
    "id": "7gaeih5wi2ui"
   },
   "source": [
    "## Naive Bayes"
   ]
  },
  {
   "cell_type": "markdown",
   "metadata": {
    "id": "WwtqeEAujMRg"
   },
   "source": [
    "* Naïve Bayes algorithm is a supervised learning algorithm, which is based on Bayes theorem and used for solving classification problems.\n",
    "* It is mainly used in text classification that includes a high-dimensional training dataset.\n",
    "* Naïve Bayes Classifier is one of the simple and most effective Classification algorithms which helps in building the fast machine learning models that can make quick predictions.\n",
    "* It is a probabilistic classifier, which means it predicts on the basis of the probability of an object."
   ]
  },
  {
   "cell_type": "markdown",
   "metadata": {
    "id": "kuidQMEijVEW"
   },
   "source": [
    "### Why is it called Naïve Bayes?"
   ]
  },
  {
   "cell_type": "markdown",
   "metadata": {
    "id": "RcKRPhaajXvm"
   },
   "source": [
    "* **Naïve**: It is called Naïve because it assumes that the occurrence of a certain feature is independent of the occurrence of other features. Such as if the fruit is identified on the bases of color, shape, and taste, then red, spherical, and sweet fruit is recognized as an apple. Hence each feature individually contributes to identify that it is an apple without depending on each other.\n",
    "* **Bayes:** It is called Bayes because it depends on the principle of Bayes' Theorem."
   ]
  },
  {
   "cell_type": "markdown",
   "metadata": {
    "id": "eJ48UAeejioA"
   },
   "source": [
    "### Bayes' Theorem:"
   ]
  },
  {
   "cell_type": "markdown",
   "metadata": {
    "id": "9hobswbLjnG1"
   },
   "source": [
    "Bayes' theorem is also known as Bayes' Rule or Bayes' law, which is used to determine the probability of a hypothesis with prior knowledge. It depends on the conditional probability."
   ]
  },
  {
   "cell_type": "markdown",
   "metadata": {
    "id": "SN6raxVRjpGd"
   },
   "source": [
    "![image.png](data:image/png;base64,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)"
   ]
  },
  {
   "cell_type": "markdown",
   "metadata": {
    "id": "9dYK8J5MjsU9"
   },
   "source": [
    "## Working of Naïve Bayes' Classifier"
   ]
  },
  {
   "cell_type": "markdown",
   "metadata": {
    "id": "PH9qnwDGjwIt"
   },
   "source": [
    "* Convert the given dataset into frequency tables.\n",
    "* Generate Likelihood table by finding the probabilities of given features.\n",
    "* Now, use Bayes theorem to calculate the posterior probability."
   ]
  },
  {
   "cell_type": "markdown",
   "metadata": {
    "id": "4-phHIlUNa65"
   },
   "source": [
    "# Types of Naive Bayes\n",
    "## Gaussian Naive Bayes\n",
    " In Gaussian Naive Bayes, when the predictors take up a continuous value and are not discrete, we assume that these values are sampled from a gaussian distribution.\n",
    "## Multinomial Naive Bayes\n",
    "In multinomial Naive Bayes, the features or predictors used by the classifier are the frequency of the words present in the document. This type of Naive Bayes is mostly used for document classification problems i.e whether a document belongs to the category of sports, politics, technology, etc.\n",
    "\n",
    "### Bernoulli Naive Bayes\n",
    "Bernoulli Naive Bayes is similar to the multinomial Naive Bayes but the predictors are boolean variables. The parameters that we use to predict the class variable take up only values of yes or no. For example, if a word occurs in the text or not."
   ]
  },
  {
   "cell_type": "markdown",
   "metadata": {
    "id": "2Q7OmylUNa-5"
   },
   "source": [
    "# Advantages of Naive Bayes\n",
    "* Naïve Bayes is one of the fast and easy ML algorithms to predict a class of datasets.\n",
    "* It can be used for Binary as well as Multi-class Classifications.\n",
    "* It performs well in Multi-class predictions as compared to the other Algorithms."
   ]
  },
  {
   "cell_type": "markdown",
   "metadata": {
    "id": "yPGrQc7eNbBn"
   },
   "source": [
    "# Disadvantages of Naive Bayes\n",
    "* If a categorical variable has a category, which was not observed in the training data set, then the model will assign a 0 (zero) probability and will be unable to make a prediction. This is often known as “Zero Frequency”.\n",
    "* Naive Bayes is also known as a bad estimator, so the probability outputs are not to be taken too seriously.\n",
    "* Naive Bayes assumes that all features are independent or unrelated, so it cannot learn the relationship between features."
   ]
  }
 ],
 "metadata": {
  "colab": {
   "authorship_tag": "ABX9TyO6BwZmBP+WQM3z5EHwXr/l",
   "provenance": []
  },
  "kernelspec": {
   "display_name": "Python 3 (ipykernel)",
   "language": "python",
   "name": "python3"
  },
  "language_info": {
   "codemirror_mode": {
    "name": "ipython",
    "version": 3
   },
   "file_extension": ".py",
   "mimetype": "text/x-python",
   "name": "python",
   "nbconvert_exporter": "python",
   "pygments_lexer": "ipython3",
   "version": "3.10.5"
  }
 },
 "nbformat": 4,
 "nbformat_minor": 1
}

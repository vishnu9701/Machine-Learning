{
 "cells": [
  {
   "cell_type": "markdown",
   "metadata": {
    "id": "VafHPb0eY0mF"
   },
   "source": [
    "## Linear Regression"
   ]
  },
  {
   "cell_type": "markdown",
   "metadata": {
    "id": "5iNVGdhuY8LU"
   },
   "source": [
    "It is used to estimate real values (cost of houses, number of calls, total sales etc.) based on continuous variable(s). We basically establish relationship between independent and dependent variables by fitting a best line. This best fit line is known as regression line and\n",
    "represented by a linear equation Y= a *X + b<br>\n",
    "In this equation:\n",
    "* Y – Dependent Variable\n",
    "* a – Slope\n",
    "* X – Independent variable\n",
    "* b – Intercept\n"
   ]
  },
  {
   "cell_type": "markdown",
   "metadata": {
    "id": "XkCfEg42Z5_s"
   },
   "source": [
    "![image.png](https://static.javatpoint.com/tutorial/machine-learning/images/linear-regression-in-machine-learning.png)"
   ]
  },
  {
   "cell_type": "markdown",
   "metadata": {
    "id": "J5diAkqAY8op"
   },
   "source": [
    "## Types of Linear Regression"
   ]
  },
  {
   "cell_type": "markdown",
   "metadata": {
    "id": "rfEIhP9XY8rM"
   },
   "source": [
    "### Simple Linear Regression:\n",
    "If a single independent variable is used to predict the value of a numerical dependent variable, then such a Linear Regression algorithm is called Simple Linear Regression."
   ]
  },
  {
   "cell_type": "code",
   "execution_count": 1,
   "metadata": {
    "id": "IZRIt994b8e2"
   },
   "outputs": [],
   "source": [
    "#Y=a*x+c"
   ]
  },
  {
   "cell_type": "markdown",
   "metadata": {
    "id": "zUzJ1tnUY8vZ"
   },
   "source": [
    "## Multiple Linear regression:\n",
    "If more than one independent variable is used to predict the value of a numerical dependent variable, then such a Linear Regression algorithm is called Multiple Linear Regression"
   ]
  },
  {
   "cell_type": "code",
   "execution_count": 2,
   "metadata": {
    "id": "77hcDu74bpFq"
   },
   "outputs": [],
   "source": [
    "#y = b1x1 + b2x2 + … + bnxn + c."
   ]
  },
  {
   "cell_type": "markdown",
   "metadata": {
    "id": "KAgOKx2qY8yl"
   },
   "source": [
    "## Polynomial Regression\n",
    "Polynomial Regression is a regression algorithm that models the relationship between a dependent(y) and independent variable(x) as nth degree polynomial "
   ]
  },
  {
   "cell_type": "code",
   "execution_count": 3,
   "metadata": {
    "id": "vkW7HaH2b5uG"
   },
   "outputs": [],
   "source": [
    "#y= b0+b1x1+ b2x12+ b2x13+...... bnx1n"
   ]
  },
  {
   "cell_type": "markdown",
   "metadata": {
    "id": "zr4F9gABcXDc"
   },
   "source": [
    "![image.png](data:image/png;base64,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)"
   ]
  },
  {
   "cell_type": "markdown",
   "metadata": {
    "id": "KfzxddRvY9DU"
   },
   "source": [
    "## Cost function\n",
    "* The different values for weights or coefficient of lines (a0, a1) gives the different line of regression, and the cost function is used to estimate the values of the coefficient for the best fit line.\n",
    "* Cost function optimizes the regression coefficients or weights. It measures how a linear regression model is performing.\n",
    "* We can use the cost function to find the accuracy of the mapping function, which maps the input variable to the output variable. This mapping function is also known as Hypothesis function."
   ]
  },
  {
   "cell_type": "markdown",
   "metadata": {
    "id": "CTLfCX-5Y9JY"
   },
   "source": [
    "## Gradient Descent:\n",
    "* Gradient descent is used to minimize the MSE by calculating the gradient of the cost function.\n",
    "* A regression model uses gradient descent to update the coefficients of the line by reducing the cost function.\n",
    "* It is done by a random selection of values of coefficient and then iteratively update the values to reach the minimum cost function."
   ]
  },
  {
   "cell_type": "markdown",
   "metadata": {
    "id": "hajC8AuACV6F"
   },
   "source": [
    "# Advantages of Linear Regression\n",
    "\n",
    "* The implementation of Linear regression is very simple.\n",
    "* Linear regression fits linearly separable datasets almost perfectly and is often used to find the nature of the relationship between variables.\n",
    "* In Linear regression, the Overfitting of data can be reduced by regularization\n",
    "\n"
   ]
  },
  {
   "cell_type": "markdown",
   "metadata": {
    "id": "jxphohWJCi7S"
   },
   "source": [
    "# Disadvantages of Linear Regression\n",
    "* The linear regression algorithm is prone to underfitting\n",
    "* It is sensitive to outliers\n",
    "* The linear Regression algorithm assumes that the data is independent"
   ]
  }
 ],
 "metadata": {
  "colab": {
   "authorship_tag": "ABX9TyPi3cb6r75Cv6Sx5E/i1xF4",
   "provenance": []
  },
  "kernelspec": {
   "display_name": "Python 3 (ipykernel)",
   "language": "python",
   "name": "python3"
  },
  "language_info": {
   "codemirror_mode": {
    "name": "ipython",
    "version": 3
   },
   "file_extension": ".py",
   "mimetype": "text/x-python",
   "name": "python",
   "nbconvert_exporter": "python",
   "pygments_lexer": "ipython3",
   "version": "3.10.5"
  }
 },
 "nbformat": 4,
 "nbformat_minor": 1
}

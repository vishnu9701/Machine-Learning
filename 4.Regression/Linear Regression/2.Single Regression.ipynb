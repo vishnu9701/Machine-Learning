{
 "cells": [
  {
   "cell_type": "markdown",
   "metadata": {
    "id": "--rOYuA5Omcg"
   },
   "source": [
    "## **Home Price Predication using Linear Regression**\n",
    "Simple Linear Regression model estimates the relationship between 2 variables.\n",
    "One is called Independent varible(x), other is dependent varible(y).\n",
    "\n",
    "Linear Equation Y=mX+C <br>\n",
    "Y=Dependent varible. <br>\n",
    "X=Independent varible. <br>\n",
    "m=Slope/Coefficient. <br>\n",
    "c=Intercept/Constant. <br>"
   ]
  },
  {
   "cell_type": "markdown",
   "metadata": {
    "id": "uVt5ZVkVO6JV"
   },
   "source": [
    "Import Libraries"
   ]
  },
  {
   "cell_type": "code",
   "execution_count": 1,
   "metadata": {
    "executionInfo": {
     "elapsed": 27,
     "status": "ok",
     "timestamp": 1676019928206,
     "user": {
      "displayName": "Vishnu Pandey",
      "userId": "14136930795597363772"
     },
     "user_tz": -330
    },
    "id": "UbeOEKxfOwNU"
   },
   "outputs": [],
   "source": [
    "import pandas as pd\n",
    "import matplotlib.pyplot as plt"
   ]
  },
  {
   "cell_type": "code",
   "execution_count": 2,
   "metadata": {
    "executionInfo": {
     "elapsed": 1511,
     "status": "ok",
     "timestamp": 1676019942172,
     "user": {
      "displayName": "Vishnu Pandey",
      "userId": "14136930795597363772"
     },
     "user_tz": -330
    },
    "id": "MndtZf1iPC3W"
   },
   "outputs": [],
   "source": [
    "df=pd.read_csv(\"Home_Price.csv\")"
   ]
  },
  {
   "cell_type": "code",
   "execution_count": 3,
   "metadata": {
    "colab": {
     "base_uri": "https://localhost:8080/",
     "height": 269
    },
    "executionInfo": {
     "elapsed": 1378,
     "status": "ok",
     "timestamp": 1676019948397,
     "user": {
      "displayName": "Vishnu Pandey",
      "userId": "14136930795597363772"
     },
     "user_tz": -330
    },
    "id": "JTvgn4tTPSd4",
    "outputId": "861e6224-b133-4c21-f2c4-0ff2c7908a7b"
   },
   "outputs": [
    {
     "data": {
      "text/html": [
       "<div>\n",
       "<style scoped>\n",
       "    .dataframe tbody tr th:only-of-type {\n",
       "        vertical-align: middle;\n",
       "    }\n",
       "\n",
       "    .dataframe tbody tr th {\n",
       "        vertical-align: top;\n",
       "    }\n",
       "\n",
       "    .dataframe thead th {\n",
       "        text-align: right;\n",
       "    }\n",
       "</style>\n",
       "<table border=\"1\" class=\"dataframe\">\n",
       "  <thead>\n",
       "    <tr style=\"text-align: right;\">\n",
       "      <th></th>\n",
       "      <th>Area</th>\n",
       "      <th>Price</th>\n",
       "    </tr>\n",
       "  </thead>\n",
       "  <tbody>\n",
       "    <tr>\n",
       "      <th>0</th>\n",
       "      <td>2000</td>\n",
       "      <td>250000</td>\n",
       "    </tr>\n",
       "    <tr>\n",
       "      <th>1</th>\n",
       "      <td>2700</td>\n",
       "      <td>270500</td>\n",
       "    </tr>\n",
       "    <tr>\n",
       "      <th>2</th>\n",
       "      <td>3000</td>\n",
       "      <td>300000</td>\n",
       "    </tr>\n",
       "    <tr>\n",
       "      <th>3</th>\n",
       "      <td>3500</td>\n",
       "      <td>350000</td>\n",
       "    </tr>\n",
       "    <tr>\n",
       "      <th>4</th>\n",
       "      <td>4000</td>\n",
       "      <td>380000</td>\n",
       "    </tr>\n",
       "    <tr>\n",
       "      <th>5</th>\n",
       "      <td>4500</td>\n",
       "      <td>450000</td>\n",
       "    </tr>\n",
       "    <tr>\n",
       "      <th>6</th>\n",
       "      <td>5000</td>\n",
       "      <td>480000</td>\n",
       "    </tr>\n",
       "  </tbody>\n",
       "</table>\n",
       "</div>"
      ],
      "text/plain": [
       "   Area   Price\n",
       "0  2000  250000\n",
       "1  2700  270500\n",
       "2  3000  300000\n",
       "3  3500  350000\n",
       "4  4000  380000\n",
       "5  4500  450000\n",
       "6  5000  480000"
      ]
     },
     "execution_count": 3,
     "metadata": {},
     "output_type": "execute_result"
    }
   ],
   "source": [
    "df"
   ]
  },
  {
   "cell_type": "markdown",
   "metadata": {
    "id": "HpKKaNvLPV2a"
   },
   "source": [
    "# Plot of Dataset"
   ]
  },
  {
   "cell_type": "code",
   "execution_count": 4,
   "metadata": {
    "colab": {
     "base_uri": "https://localhost:8080/",
     "height": 279
    },
    "executionInfo": {
     "elapsed": 751,
     "status": "ok",
     "timestamp": 1676019959274,
     "user": {
      "displayName": "Vishnu Pandey",
      "userId": "14136930795597363772"
     },
     "user_tz": -330
    },
    "id": "r5Mh2kpAPTeY",
    "outputId": "e98ca5aa-1cfa-4d25-a0b0-cf3d5970bcd1"
   },
   "outputs": [
    {
     "data": {
      "image/png": "[encoded data removed]",
      "text/plain": [
       "<Figure size 640x480 with 1 Axes>"
      ]
     },
     "metadata": {},
     "output_type": "display_data"
    }
   ],
   "source": [
    "plt.xlabel(\"area\")\n",
    "plt.ylabel(\"price\")\n",
    "plt.scatter(df.Area,df.Price,color=\"r\",marker=\"*\")\n",
    "plt.show()"
   ]
  },
  {
   "cell_type": "markdown",
   "metadata": {
    "id": "-cKWdgeePf39"
   },
   "source": [
    "# Building Model"
   ]
  },
  {
   "cell_type": "code",
   "execution_count": 5,
   "metadata": {
    "executionInfo": {
     "elapsed": 1250,
     "status": "ok",
     "timestamp": 1676019968467,
     "user": {
      "displayName": "Vishnu Pandey",
      "userId": "14136930795597363772"
     },
     "user_tz": -330
    },
    "id": "snEB9qhtPcOM"
   },
   "outputs": [],
   "source": [
    "from sklearn.linear_model import LinearRegression\n",
    "model=LinearRegression()"
   ]
  },
  {
   "cell_type": "code",
   "execution_count": 6,
   "metadata": {
    "colab": {
     "base_uri": "https://localhost:8080/"
    },
    "executionInfo": {
     "elapsed": 14,
     "status": "ok",
     "timestamp": 1676019971995,
     "user": {
      "displayName": "Vishnu Pandey",
      "userId": "14136930795597363772"
     },
     "user_tz": -330
    },
    "id": "jy6lVzXRPjyl",
    "outputId": "22dd5ccb-a31a-4184-f867-095784130db5"
   },
   "outputs": [
    {
     "data": {
      "text/plain": [
       "array([[2000],\n",
       "       [2700],\n",
       "       [3000],\n",
       "       [3500],\n",
       "       [4000],\n",
       "       [4500],\n",
       "       [5000]], dtype=int64)"
      ]
     },
     "execution_count": 6,
     "metadata": {},
     "output_type": "execute_result"
    }
   ],
   "source": [
    "df[[\"Area\"]].values"
   ]
  },
  {
   "cell_type": "code",
   "execution_count": 7,
   "metadata": {
    "colab": {
     "base_uri": "https://localhost:8080/"
    },
    "executionInfo": {
     "elapsed": 12,
     "status": "ok",
     "timestamp": 1676019975348,
     "user": {
      "displayName": "Vishnu Pandey",
      "userId": "14136930795597363772"
     },
     "user_tz": -330
    },
    "id": "AYuBVrJ6PmD8",
    "outputId": "dbffdbcb-c9b0-4295-e43d-c08e6e90a330"
   },
   "outputs": [
    {
     "data": {
      "text/plain": [
       "0    250000\n",
       "1    270500\n",
       "2    300000\n",
       "3    350000\n",
       "4    380000\n",
       "5    450000\n",
       "6    480000\n",
       "Name: Price, dtype: int64"
      ]
     },
     "execution_count": 7,
     "metadata": {},
     "output_type": "execute_result"
    }
   ],
   "source": [
    "df.Price"
   ]
  },
  {
   "cell_type": "code",
   "execution_count": 8,
   "metadata": {
    "colab": {
     "base_uri": "https://localhost:8080/"
    },
    "executionInfo": {
     "elapsed": 564,
     "status": "ok",
     "timestamp": 1676019981440,
     "user": {
      "displayName": "Vishnu Pandey",
      "userId": "14136930795597363772"
     },
     "user_tz": -330
    },
    "id": "Cgs6AvrfPoPU",
    "outputId": "6d7b3705-1c63-45c4-91b8-ea7b1aa5006a"
   },
   "outputs": [
    {
     "data": {
      "text/html": [
       "<style>#sk-container-id-1 {color: black;background-color: white;}#sk-container-id-1 pre{padding: 0;}#sk-container-id-1 div.sk-toggleable {background-color: white;}#sk-container-id-1 label.sk-toggleable__label {cursor: pointer;display: block;width: 100%;margin-bottom: 0;padding: 0.3em;box-sizing: border-box;text-align: center;}#sk-container-id-1 label.sk-toggleable__label-arrow:before {content: \"▸\";float: left;margin-right: 0.25em;color: #696969;}#sk-container-id-1 label.sk-toggleable__label-arrow:hover:before {color: black;}#sk-container-id-1 div.sk-estimator:hover label.sk-toggleable__label-arrow:before {color: black;}#sk-container-id-1 div.sk-toggleable__content {max-height: 0;max-width: 0;overflow: hidden;text-align: left;background-color: #f0f8ff;}#sk-container-id-1 div.sk-toggleable__content pre {margin: 0.2em;color: black;border-radius: 0.25em;background-color: #f0f8ff;}#sk-container-id-1 input.sk-toggleable__control:checked~div.sk-toggleable__content {max-height: 200px;max-width: 100%;overflow: auto;}#sk-container-id-1 input.sk-toggleable__control:checked~label.sk-toggleable__label-arrow:before {content: \"▾\";}#sk-container-id-1 div.sk-estimator input.sk-toggleable__control:checked~label.sk-toggleable__label {background-color: #d4ebff;}#sk-container-id-1 div.sk-label input.sk-toggleable__control:checked~label.sk-toggleable__label {background-color: #d4ebff;}#sk-container-id-1 input.sk-hidden--visually {border: 0;clip: rect(1px 1px 1px 1px);clip: rect(1px, 1px, 1px, 1px);height: 1px;margin: -1px;overflow: hidden;padding: 0;position: absolute;width: 1px;}#sk-container-id-1 div.sk-estimator {font-family: monospace;background-color: #f0f8ff;border: 1px dotted black;border-radius: 0.25em;box-sizing: border-box;margin-bottom: 0.5em;}#sk-container-id-1 div.sk-estimator:hover {background-color: #d4ebff;}#sk-container-id-1 div.sk-parallel-item::after {content: \"\";width: 100%;border-bottom: 1px solid gray;flex-grow: 1;}#sk-container-id-1 div.sk-label:hover label.sk-toggleable__label {background-color: #d4ebff;}#sk-container-id-1 div.sk-serial::before {content: \"\";position: absolute;border-left: 1px solid gray;box-sizing: border-box;top: 0;bottom: 0;left: 50%;z-index: 0;}#sk-container-id-1 div.sk-serial {display: flex;flex-direction: column;align-items: center;background-color: white;padding-right: 0.2em;padding-left: 0.2em;position: relative;}#sk-container-id-1 div.sk-item {position: relative;z-index: 1;}#sk-container-id-1 div.sk-parallel {display: flex;align-items: stretch;justify-content: center;background-color: white;position: relative;}#sk-container-id-1 div.sk-item::before, #sk-container-id-1 div.sk-parallel-item::before {content: \"\";position: absolute;border-left: 1px solid gray;box-sizing: border-box;top: 0;bottom: 0;left: 50%;z-index: -1;}#sk-container-id-1 div.sk-parallel-item {display: flex;flex-direction: column;z-index: 1;position: relative;background-color: white;}#sk-container-id-1 div.sk-parallel-item:first-child::after {align-self: flex-end;width: 50%;}#sk-container-id-1 div.sk-parallel-item:last-child::after {align-self: flex-start;width: 50%;}#sk-container-id-1 div.sk-parallel-item:only-child::after {width: 0;}#sk-container-id-1 div.sk-dashed-wrapped {border: 1px dashed gray;margin: 0 0.4em 0.5em 0.4em;box-sizing: border-box;padding-bottom: 0.4em;background-color: white;}#sk-container-id-1 div.sk-label label {font-family: monospace;font-weight: bold;display: inline-block;line-height: 1.2em;}#sk-container-id-1 div.sk-label-container {text-align: center;}#sk-container-id-1 div.sk-container {/* jupyter's `normalize.less` sets `[hidden] { display: none; }` but bootstrap.min.css set `[hidden] { display: none !important; }` so we also need the `!important` here to be able to override the default hidden behavior on the sphinx rendered scikit-learn.org. See: https://github.com/scikit-learn/scikit-learn/issues/21755 */display: inline-block !important;position: relative;}#sk-container-id-1 div.sk-text-repr-fallback {display: none;}</style><div id=\"sk-container-id-1\" class=\"sk-top-container\"><div class=\"sk-text-repr-fallback\"><pre>LinearRegression()</pre><b>In a Jupyter environment, please rerun this cell to show the HTML representation or trust the notebook. <br />On GitHub, the HTML representation is unable to render, please try loading this page with nbviewer.org.</b></div><div class=\"sk-container\" hidden><div class=\"sk-item\"><div class=\"sk-estimator sk-toggleable\"><input class=\"sk-toggleable__control sk-hidden--visually\" id=\"sk-estimator-id-1\" type=\"checkbox\" checked><label for=\"sk-estimator-id-1\" class=\"sk-toggleable__label sk-toggleable__label-arrow\">LinearRegression</label><div class=\"sk-toggleable__content\"><pre>LinearRegression()</pre></div></div></div></div></div>"
      ],
      "text/plain": [
       "LinearRegression()"
      ]
     },
     "execution_count": 8,
     "metadata": {},
     "output_type": "execute_result"
    }
   ],
   "source": [
    "model.fit(df[['Area']].values,df.Price)"
   ]
  },
  {
   "cell_type": "code",
   "execution_count": 9,
   "metadata": {
    "colab": {
     "base_uri": "https://localhost:8080/",
     "height": 279
    },
    "executionInfo": {
     "elapsed": 624,
     "status": "ok",
     "timestamp": 1676019985372,
     "user": {
      "displayName": "Vishnu Pandey",
      "userId": "14136930795597363772"
     },
     "user_tz": -330
    },
    "id": "guPgHQX7PrB0",
    "outputId": "f57c8599-ee0a-4d27-e112-98b5fb175126"
   },
   "outputs": [
    {
     "data": {
      "image/png": "[encoded data removed]",
      "text/plain": [
       "<Figure size 640x480 with 1 Axes>"
      ]
     },
     "metadata": {},
     "output_type": "display_data"
    }
   ],
   "source": [
    "plt.xlabel(\"Area\")\n",
    "plt.ylabel(\"Price\")\n",
    "plt.scatter(df.Area,df.Price,color=\"r\",marker=\"D\")\n",
    "plt.plot(df.Area,model.predict(df[[\"Area\"]].values),color=\"red\")\n",
    "plt.show()"
   ]
  },
  {
   "cell_type": "markdown",
   "metadata": {
    "id": "q2kpj2v3Pw2X"
   },
   "source": [
    "# Prediaction of model"
   ]
  },
  {
   "cell_type": "code",
   "execution_count": 10,
   "metadata": {
    "colab": {
     "base_uri": "https://localhost:8080/"
    },
    "executionInfo": {
     "elapsed": 448,
     "status": "ok",
     "timestamp": 1676019991260,
     "user": {
      "displayName": "Vishnu Pandey",
      "userId": "14136930795597363772"
     },
     "user_tz": -330
    },
    "id": "fYmTuGYQPtnW",
    "outputId": "e20b56ec-8d4f-406c-b125-d254e666ae26"
   },
   "outputs": [
    {
     "data": {
      "text/plain": [
       "array([327230.18949182])"
      ]
     },
     "execution_count": 10,
     "metadata": {},
     "output_type": "execute_result"
    }
   ],
   "source": [
    "model.predict([[3200]])"
   ]
  },
  {
   "cell_type": "code",
   "execution_count": 11,
   "metadata": {
    "colab": {
     "base_uri": "https://localhost:8080/"
    },
    "executionInfo": {
     "elapsed": 15,
     "status": "ok",
     "timestamp": 1676019993343,
     "user": {
      "displayName": "Vishnu Pandey",
      "userId": "14136930795597363772"
     },
     "user_tz": -330
    },
    "id": "v2oEjCjsP0Wd",
    "outputId": "72bc6f45-a742-46e0-8a7b-c06cd048ca5d"
   },
   "outputs": [
    {
     "data": {
      "text/plain": [
       "array([82.56029285])"
      ]
     },
     "execution_count": 11,
     "metadata": {},
     "output_type": "execute_result"
    }
   ],
   "source": [
    "#Y=MmX+C\n",
    "model.coef_"
   ]
  },
  {
   "cell_type": "code",
   "execution_count": 12,
   "metadata": {
    "colab": {
     "base_uri": "https://localhost:8080/"
    },
    "executionInfo": {
     "elapsed": 8,
     "status": "ok",
     "timestamp": 1676019995255,
     "user": {
      "displayName": "Vishnu Pandey",
      "userId": "14136930795597363772"
     },
     "user_tz": -330
    },
    "id": "w8mlnGOEP3Rk",
    "outputId": "7a027ad0-566c-443d-d850-34da0f83bd68"
   },
   "outputs": [
    {
     "data": {
      "text/plain": [
       "63037.25236864766"
      ]
     },
     "execution_count": 12,
     "metadata": {},
     "output_type": "execute_result"
    }
   ],
   "source": [
    "model.intercept_"
   ]
  },
  {
   "cell_type": "markdown",
   "metadata": {
    "id": "EoV0cHWNP_XP"
   },
   "source": [
    "# Model Accuracy"
   ]
  },
  {
   "cell_type": "code",
   "execution_count": 13,
   "metadata": {
    "colab": {
     "base_uri": "https://localhost:8080/"
    },
    "executionInfo": {
     "elapsed": 14,
     "status": "ok",
     "timestamp": 1676019999464,
     "user": {
      "displayName": "Vishnu Pandey",
      "userId": "14136930795597363772"
     },
     "user_tz": -330
    },
    "id": "reuqxiCOP8XO",
    "outputId": "f717dcac-d7b2-4e1f-f96d-694bb45292cf"
   },
   "outputs": [
    {
     "data": {
      "text/plain": [
       "0.972751174497468"
      ]
     },
     "execution_count": 13,
     "metadata": {},
     "output_type": "execute_result"
    }
   ],
   "source": [
    "model.score(df[['Area']].values,df['Price'].values)"
   ]
  },
  {
   "cell_type": "code",
   "execution_count": 14,
   "metadata": {
    "executionInfo": {
     "elapsed": 421,
     "status": "ok",
     "timestamp": 1676020007881,
     "user": {
      "displayName": "Vishnu Pandey",
      "userId": "14136930795597363772"
     },
     "user_tz": -330
    },
    "id": "-lTC2yu9QDqF"
   },
   "outputs": [],
   "source": [
    "def Check_Price():\n",
    "    n=int(input(\"Enter Area of Home\"))\n",
    "    return model.predict([[n]])"
   ]
  },
  {
   "cell_type": "code",
   "execution_count": 15,
   "metadata": {
    "colab": {
     "base_uri": "https://localhost:8080/"
    },
    "executionInfo": {
     "elapsed": 5446,
     "status": "ok",
     "timestamp": 1676020015088,
     "user": {
      "displayName": "Vishnu Pandey",
      "userId": "14136930795597363772"
     },
     "user_tz": -330
    },
    "id": "jDAgwKibQGm1",
    "outputId": "8c967d34-3e47-4f68-8cf4-e168fae484be"
   },
   "outputs": [
    {
     "name": "stdout",
     "output_type": "stream",
     "text": [
      "Enter Area of Home2500\n"
     ]
    },
    {
     "data": {
      "text/plain": [
       "array([269437.98449612])"
      ]
     },
     "execution_count": 15,
     "metadata": {},
     "output_type": "execute_result"
    }
   ],
   "source": [
    "Check_Price()"
   ]
  }
 ],
 "metadata": {
  "colab": {
   "authorship_tag": "ABX9TyN3TBJCbTXEowtXoXvQEvar",
   "provenance": []
  },
  "kernelspec": {
   "display_name": "Python 3 (ipykernel)",
   "language": "python",
   "name": "python3"
  },
  "language_info": {
   "codemirror_mode": {
    "name": "ipython",
    "version": 3
   },
   "file_extension": ".py",
   "mimetype": "text/x-python",
   "name": "python",
   "nbconvert_exporter": "python",
   "pygments_lexer": "ipython3",
   "version": "3.10.5"
  }
 },
 "nbformat": 4,
 "nbformat_minor": 1
}

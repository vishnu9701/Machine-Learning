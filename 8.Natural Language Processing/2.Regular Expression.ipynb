{
 "cells": [
  {
   "cell_type": "markdown",
   "metadata": {
    "id": "QpkuipbQRhkp"
   },
   "source": [
    "## Regular Exression"
   ]
  },
  {
   "cell_type": "markdown",
   "metadata": {
    "id": "KHbxkLiARis1"
   },
   "source": [
    "Regular expressions or RegEx is a sequence of characters mainly used to find or replace patterns embedded in the text."
   ]
  },
  {
   "cell_type": "markdown",
   "metadata": {
    "id": "Usudg7uRRivt"
   },
   "source": [
    "## Python Built-in Module for Regular Expressions"
   ]
  },
  {
   "cell_type": "markdown",
   "metadata": {
    "id": "QKPAeBkCRi0j"
   },
   "source": [
    "### re.match(pattern, string)\n",
    "The re.match function returns a match object on success and none on failure."
   ]
  },
  {
   "cell_type": "code",
   "execution_count": 1,
   "metadata": {
    "colab": {
     "base_uri": "https://localhost:8080/"
    },
    "executionInfo": {
     "elapsed": 15,
     "status": "ok",
     "timestamp": 1676368193142,
     "user": {
      "displayName": "Vishnu Pandey",
      "userId": "14136930795597363772"
     },
     "user_tz": -330
    },
    "id": "o75Ba-ilUQju",
    "outputId": "94ea6c1b-1aec-4076-90b4-c40ae9b2de09"
   },
   "outputs": [
    {
     "name": "stdout",
     "output_type": "stream",
     "text": [
      "<re.Match object; span=(0, 6), match='Vishnu'>\n"
     ]
    }
   ],
   "source": [
    "import re\n",
    "result = re.match('Vishnu','Vishnu is student')\n",
    "print(result)"
   ]
  },
  {
   "cell_type": "markdown",
   "metadata": {
    "id": "mc_kJtaDRi4E"
   },
   "source": [
    "### re.search(pattern, string)\n",
    "Matches the first occurrence of a pattern in the entire string(and not just at the beginning)."
   ]
  },
  {
   "cell_type": "code",
   "execution_count": 2,
   "metadata": {
    "colab": {
     "base_uri": "https://localhost:8080/"
    },
    "executionInfo": {
     "elapsed": 13,
     "status": "ok",
     "timestamp": 1676368363100,
     "user": {
      "displayName": "Vishnu Pandey",
      "userId": "14136930795597363772"
     },
     "user_tz": -330
    },
    "id": "N3BQams8VbC_",
    "outputId": "0d7dcb73-24b1-4067-de2f-7e0998dc2e85"
   },
   "outputs": [
    {
     "name": "stdout",
     "output_type": "stream",
     "text": [
      "<re.Match object; span=(10, 14), match='good'>\n"
     ]
    }
   ],
   "source": [
    "result = re.search('good','Vishnu is good student ')\n",
    "print(result)"
   ]
  },
  {
   "cell_type": "markdown",
   "metadata": {
    "id": "0bfM2MttRi7W"
   },
   "source": [
    "## re.findall(pattern, string)\n",
    "It will return all the occurrences of the pattern from the string."
   ]
  },
  {
   "cell_type": "code",
   "execution_count": 3,
   "metadata": {
    "colab": {
     "base_uri": "https://localhost:8080/"
    },
    "executionInfo": {
     "elapsed": 644,
     "status": "ok",
     "timestamp": 1676368412227,
     "user": {
      "displayName": "Vishnu Pandey",
      "userId": "14136930795597363772"
     },
     "user_tz": -330
    },
    "id": "7vyHygpAV8Sa",
    "outputId": "079c8b5e-8f51-442f-b86b-430e06a2f8b4"
   },
   "outputs": [
    {
     "name": "stdout",
     "output_type": "stream",
     "text": [
      "['founded', 'founded']\n"
     ]
    }
   ],
   "source": [
    "result = re.findall('founded','Andrew NG founded Coursera. He also founded deeplearning.ai')\n",
    "print(result)"
   ]
  },
  {
   "cell_type": "markdown",
   "metadata": {
    "id": "wgE94DCMRi-I"
   },
   "source": [
    "## Special Sequences in Regular Expressions"
   ]
  },
  {
   "cell_type": "markdown",
   "metadata": {
    "id": "5JK2Z_IDRjEC"
   },
   "source": [
    "# \\b\n",
    "\\b returns a match where the specified pattern is at the beginning or at the end of a word.\n",
    "\n"
   ]
  },
  {
   "cell_type": "code",
   "execution_count": 4,
   "metadata": {
    "colab": {
     "base_uri": "https://localhost:8080/"
    },
    "executionInfo": {
     "elapsed": 12,
     "status": "ok",
     "timestamp": 1676368628604,
     "user": {
      "displayName": "Vishnu Pandey",
      "userId": "14136930795597363772"
     },
     "user_tz": -330
    },
    "id": "IVOPoDu1WTqP",
    "outputId": "1e46ccd6-d96e-477a-9e8a-7e8c2fb674c6"
   },
   "outputs": [
    {
     "name": "stdout",
     "output_type": "stream",
     "text": [
      "['ool', 'ool']\n"
     ]
    }
   ],
   "source": [
    "str ='Vishnu is cool and fool'\n",
    "#Check if there is any word that ends with \"ool\"\n",
    "x = re.findall(r\"ool\\b\", str)\n",
    "print(x)"
   ]
  },
  {
   "cell_type": "markdown",
   "metadata": {
    "id": "8Dw-yOgFRjHa"
   },
   "source": [
    "# /d \n",
    "It returns a match where the string contains digits (numbers from 0-9)."
   ]
  },
  {
   "cell_type": "code",
   "execution_count": 5,
   "metadata": {
    "colab": {
     "base_uri": "https://localhost:8080/"
    },
    "executionInfo": {
     "elapsed": 11,
     "status": "ok",
     "timestamp": 1676368684170,
     "user": {
      "displayName": "Vishnu Pandey",
      "userId": "14136930795597363772"
     },
     "user_tz": -330
    },
    "id": "-roQoNJ6WrOG",
    "outputId": "e96e8b23-192f-4111-bcf7-d6ca02e645bd"
   },
   "outputs": [
    {
     "name": "stdout",
     "output_type": "stream",
     "text": [
      "['2', '1', '9']\n"
     ]
    }
   ],
   "source": [
    "str = \"2 million monthly visits in Jan'19.\"\n",
    "#Check if the string contains any digits (numbers from 0-9):\n",
    "x = re.findall(\"\\d\", str)\n",
    "print(x)"
   ]
  },
  {
   "cell_type": "markdown",
   "metadata": {
    "id": "qHdEmF6_RjLk"
   },
   "source": [
    "# \\D\n",
    "\\D returns a match where the string does not contain any digit. It is basically the opposite of \\d."
   ]
  },
  {
   "cell_type": "code",
   "execution_count": 6,
   "metadata": {
    "colab": {
     "base_uri": "https://localhost:8080/"
    },
    "executionInfo": {
     "elapsed": 14,
     "status": "ok",
     "timestamp": 1676368739124,
     "user": {
      "displayName": "Vishnu Pandey",
      "userId": "14136930795597363772"
     },
     "user_tz": -330
    },
    "id": "9smFEqQBXJO8",
    "outputId": "042640ff-88a6-4a5d-cf9f-77ffecc3d115"
   },
   "outputs": [
    {
     "name": "stdout",
     "output_type": "stream",
     "text": [
      "[' ', 'm', 'i', 'l', 'l', 'i', 'o', 'n', ' ', 'm', 'o', 'n', 't', 'h', 'l', 'y', ' ', 'v', 'i', 's', 'i', 't', 's', ' ', 'i', 'n', ' ', 'J', 'a', 'n', \"'\", '.']\n"
     ]
    }
   ],
   "source": [
    "str = \"2 million monthly visits in Jan'19.\"\n",
    "#Check if the word character does not contain any digits (numbers from 0-9):\n",
    "x = re.findall(\"\\D\", str)\n",
    "print(x)"
   ]
  },
  {
   "cell_type": "markdown",
   "metadata": {
    "id": "tfj_TDn_RjfM"
   },
   "source": [
    "# \\w\n",
    "\\w helps in extraction of alphanumeric characters only (characters from a to Z, digits from 0-9, and the underscore _ character)"
   ]
  },
  {
   "cell_type": "code",
   "execution_count": 7,
   "metadata": {
    "colab": {
     "base_uri": "https://localhost:8080/"
    },
    "executionInfo": {
     "elapsed": 415,
     "status": "ok",
     "timestamp": 1676368805604,
     "user": {
      "displayName": "Vishnu Pandey",
      "userId": "14136930795597363772"
     },
     "user_tz": -330
    },
    "id": "o_-1o0QCXaLa",
    "outputId": "edcc5f13-9064-4655-d4fe-5a2a982ff9b1"
   },
   "outputs": [
    {
     "name": "stdout",
     "output_type": "stream",
     "text": [
      "['2', 'million', 'monthly', 'visits']\n"
     ]
    }
   ],
   "source": [
    "str = \"2 million monthly visits!\"\n",
    "#returns a match at every word character (characters from a to Z, digits from 0-9, and the underscore _ character)\n",
    "x = re.findall(\"\\w+\",str)\n",
    "print(x)"
   ]
  },
  {
   "cell_type": "markdown",
   "metadata": {
    "id": "EiMusaL3Rjhf"
   },
   "source": [
    "# \\W\n",
    "\\W returns match at every non-alphanumeric character. Basically opposite of \\w.\n"
   ]
  },
  {
   "cell_type": "code",
   "execution_count": 8,
   "metadata": {
    "colab": {
     "base_uri": "https://localhost:8080/"
    },
    "executionInfo": {
     "elapsed": 400,
     "status": "ok",
     "timestamp": 1676368886360,
     "user": {
      "displayName": "Vishnu Pandey",
      "userId": "14136930795597363772"
     },
     "user_tz": -330
    },
    "id": "01x0AJmaXmZh",
    "outputId": "ff28c26c-21e4-4124-d302-a9501eab5b30"
   },
   "outputs": [
    {
     "name": "stdout",
     "output_type": "stream",
     "text": [
      "[' ', ' ', '?', ' ', ' ', ' ', ' ', '!']\n"
     ]
    }
   ],
   "source": [
    "str = \"How are You? and wow beautiful !\"\n",
    "#returns a match at every NON word character (characters NOT between a and Z. Like \"!\", \"?\" white-space etc.):\n",
    "x = re.findall(\"\\W\", str)\n",
    "print(x)"
   ]
  },
  {
   "cell_type": "markdown",
   "metadata": {
    "id": "Funa_fV9YB25"
   },
   "source": [
    "# Metacharacters in Regular Expression\n",
    "Metacharacters are characters with a special meaning.\n"
   ]
  },
  {
   "cell_type": "markdown",
   "metadata": {
    "id": "qsTYin4aYLHw"
   },
   "source": [
    "### (.) matches any character (except newline character)"
   ]
  },
  {
   "cell_type": "code",
   "execution_count": 9,
   "metadata": {
    "colab": {
     "base_uri": "https://localhost:8080/"
    },
    "executionInfo": {
     "elapsed": 602,
     "status": "ok",
     "timestamp": 1676369028297,
     "user": {
      "displayName": "Vishnu Pandey",
      "userId": "14136930795597363772"
     },
     "user_tz": -330
    },
    "id": "xkOAVw47YQTX",
    "outputId": "d32a3c39-d1bc-4da5-c468-761b3e8eae4c"
   },
   "outputs": [
    {
     "name": "stdout",
     "output_type": "stream",
     "text": [
      "['roh', 'roh']\n",
      "['rohan', 'rohit']\n"
     ]
    }
   ],
   "source": [
    "str = \"rohan and rohit recently published a research paper!\"\n",
    "#Search for a string that starts with \"ro\", followed by any number of characters\n",
    "\n",
    "x = re.findall(\"ro.\", str)           #searches one character after ro\n",
    "x2 = re.findall(\"ro...\", str)        #searches three characters after ro\n",
    "\n",
    "print(x)\n",
    "print(x2)"
   ]
  },
  {
   "cell_type": "markdown",
   "metadata": {
    "id": "u_Ksmx8ZYLKF"
   },
   "source": [
    "# (^) starts with\n",
    "It checks whether the string starts with the given pattern or not.\n",
    "\n"
   ]
  },
  {
   "cell_type": "code",
   "execution_count": 10,
   "metadata": {
    "colab": {
     "base_uri": "https://localhost:8080/"
    },
    "executionInfo": {
     "elapsed": 9,
     "status": "ok",
     "timestamp": 1676369119832,
     "user": {
      "displayName": "Vishnu Pandey",
      "userId": "14136930795597363772"
     },
     "user_tz": -330
    },
    "id": "KRcu2FBnYhH6",
    "outputId": "1f07690f-b22f-4c74-9374-a60af891dd74"
   },
   "outputs": [
    {
     "name": "stdout",
     "output_type": "stream",
     "text": [
      "Yes, the string starts with 'Data'\n"
     ]
    }
   ],
   "source": [
    "str = \"Data Science\"\n",
    "#Check if the string starts with 'Data':\n",
    "x = re.findall(\"^Data\", str)\n",
    "if (x):\n",
    "    print(\"Yes, the string starts with 'Data'\")\n",
    "else:\n",
    "    print(\"No match\")"
   ]
  },
  {
   "cell_type": "markdown",
   "metadata": {
    "id": "tKJaKwLgYLMj"
   },
   "source": [
    "# ($) ends with\n",
    "It checks whether the string ends with the given pattern or not."
   ]
  },
  {
   "cell_type": "code",
   "execution_count": 11,
   "metadata": {
    "colab": {
     "base_uri": "https://localhost:8080/"
    },
    "executionInfo": {
     "elapsed": 11,
     "status": "ok",
     "timestamp": 1676369167174,
     "user": {
      "displayName": "Vishnu Pandey",
      "userId": "14136930795597363772"
     },
     "user_tz": -330
    },
    "id": "B1ULVIApYznw",
    "outputId": "6424def2-da5f-450d-96bb-34780f73d5d6"
   },
   "outputs": [
    {
     "name": "stdout",
     "output_type": "stream",
     "text": [
      "Yes, the string ends with 'Science'\n"
     ]
    }
   ],
   "source": [
    "str = \"Data Science\"\n",
    "#Check if the string ends with 'Science':\n",
    "x = re.findall(\"Science$\", str)\n",
    "if (x):\n",
    "  print(\"Yes, the string ends with 'Science'\")\n",
    "else:\n",
    "  print(\"No match\")"
   ]
  },
  {
   "cell_type": "markdown",
   "metadata": {
    "id": "Bl4Eo_btYLPF"
   },
   "source": [
    "## (*) matches for zero or more occurrences of the pattern to the left of i"
   ]
  },
  {
   "cell_type": "code",
   "execution_count": 12,
   "metadata": {
    "colab": {
     "base_uri": "https://localhost:8080/"
    },
    "executionInfo": {
     "elapsed": 19,
     "status": "ok",
     "timestamp": 1676369255309,
     "user": {
      "displayName": "Vishnu Pandey",
      "userId": "14136930795597363772"
     },
     "user_tz": -330
    },
    "id": "37t_JEKZZH3a",
    "outputId": "dd6c5571-ab1c-4b29-fa1e-fd07ac801c08"
   },
   "outputs": [
    {
     "name": "stdout",
     "output_type": "stream",
     "text": [
      "['easy', 'easssy', 'eay']\n",
      "Yes, there is at least one match!\n"
     ]
    }
   ],
   "source": [
    "str = \"easy easssy eay ey\"\n",
    "#Check if the string contains \"ea\" followed by 0 or more \"s\" characters and ending with y\n",
    "x = re.findall(\"eas*y\", str)\n",
    "print(x)\n",
    "\n",
    "if (x):\n",
    " print(\"Yes, there is at least one match!\")\n",
    "else:\n",
    "  print(\"No match\")"
   ]
  },
  {
   "cell_type": "markdown",
   "metadata": {
    "id": "qREwwaU8ZSa-"
   },
   "source": [
    "## (+) matches one or more occurrences of the pattern to the left of it"
   ]
  },
  {
   "cell_type": "code",
   "execution_count": 13,
   "metadata": {
    "colab": {
     "base_uri": "https://localhost:8080/"
    },
    "executionInfo": {
     "elapsed": 13,
     "status": "ok",
     "timestamp": 1676369306129,
     "user": {
      "displayName": "Vishnu Pandey",
      "userId": "14136930795597363772"
     },
     "user_tz": -330
    },
    "id": "rzFhEULwZQcs",
    "outputId": "1cd1a678-0f4a-4087-eaa8-958ff0e38d59"
   },
   "outputs": [
    {
     "name": "stdout",
     "output_type": "stream",
     "text": [
      "['easy', 'easssy']\n"
     ]
    }
   ],
   "source": [
    "#Check if the string contains \"ea\" followed by 1 or more \"s\" characters and ends with y\n",
    "\n",
    "x = re.findall(\"eas+y\", str)\n",
    "print(x)"
   ]
  },
  {
   "cell_type": "markdown",
   "metadata": {
    "id": "PojKDtgBZpA4"
   },
   "source": [
    "# (|) either or\n"
   ]
  },
  {
   "cell_type": "code",
   "execution_count": 14,
   "metadata": {
    "colab": {
     "base_uri": "https://localhost:8080/"
    },
    "executionInfo": {
     "elapsed": 17,
     "status": "ok",
     "timestamp": 1676369393753,
     "user": {
      "displayName": "Vishnu Pandey",
      "userId": "14136930795597363772"
     },
     "user_tz": -330
    },
    "id": "7X2WPnxBYBRR",
    "outputId": "bcc88f0a-17e5-4b4a-8e68-426acbfb8f21"
   },
   "outputs": [
    {
     "name": "stdout",
     "output_type": "stream",
     "text": [
      "['data', 'India']\n"
     ]
    }
   ],
   "source": [
    "str = \"Analytics Vidhya is the largest data science community of India\"\n",
    "#Check if the string contains either \"data\" or \"India\":\n",
    "x = re.findall(\"data|India\", str)\n",
    "print(x)"
   ]
  }
 ],
 "metadata": {
  "colab": {
   "authorship_tag": "ABX9TyNRHC+xZ9rEYJNzgwipBvjJ",
   "provenance": []
  },
  "kernelspec": {
   "display_name": "Python 3 (ipykernel)",
   "language": "python",
   "name": "python3"
  },
  "language_info": {
   "codemirror_mode": {
    "name": "ipython",
    "version": 3
   },
   "file_extension": ".py",
   "mimetype": "text/x-python",
   "name": "python",
   "nbconvert_exporter": "python",
   "pygments_lexer": "ipython3",
   "version": "3.10.5"
  }
 },
 "nbformat": 4,
 "nbformat_minor": 1
}

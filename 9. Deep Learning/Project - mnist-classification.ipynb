{
 "cells": [
  {
   "cell_type": "markdown",
   "metadata": {
    "id": "79eoVp9aNdvL"
   },
   "source": [
    "## mnist-classification"
   ]
  },
  {
   "cell_type": "code",
   "execution_count": 1,
   "metadata": {
    "executionInfo": {
     "elapsed": 4654,
     "status": "ok",
     "timestamp": 1676450113049,
     "user": {
      "displayName": "Vishnu Pandey",
      "userId": "14136930795597363772"
     },
     "user_tz": -330
    },
    "id": "TEbrOZeLNf2S"
   },
   "outputs": [],
   "source": [
    "import tensorflow\n",
    "from tensorflow import keras\n",
    "from tensorflow.keras import Sequential\n",
    "from tensorflow.keras.layers import Dense,Flatten"
   ]
  },
  {
   "cell_type": "code",
   "execution_count": 2,
   "metadata": {
    "colab": {
     "base_uri": "https://localhost:8080/"
    },
    "executionInfo": {
     "elapsed": 1714,
     "status": "ok",
     "timestamp": 1676450114712,
     "user": {
      "displayName": "Vishnu Pandey",
      "userId": "14136930795597363772"
     },
     "user_tz": -330
    },
    "id": "pNVaAH3LNilQ",
    "outputId": "8a0cb4ee-c6de-49fb-d46e-4cbb0bacd365"
   },
   "outputs": [
    {
     "name": "stdout",
     "output_type": "stream",
     "text": [
      "Downloading data from https://storage.googleapis.com/tensorflow/tf-keras-datasets/mnist.npz\n",
      "11490434/11490434 [==============================] - 2s 0us/step\n"
     ]
    }
   ],
   "source": [
    "(X_train,y_train),(X_test,y_test) = keras.datasets.mnist.load_data()"
   ]
  },
  {
   "cell_type": "code",
   "execution_count": 3,
   "metadata": {
    "colab": {
     "base_uri": "https://localhost:8080/"
    },
    "executionInfo": {
     "elapsed": 28,
     "status": "ok",
     "timestamp": 1676450114714,
     "user": {
      "displayName": "Vishnu Pandey",
      "userId": "14136930795597363772"
     },
     "user_tz": -330
    },
    "id": "cSQSPY_9Nkv5",
    "outputId": "cd54033e-cc02-4ca9-88cc-2fcd09fb801d"
   },
   "outputs": [
    {
     "data": {
      "text/plain": [
       "(10000, 28, 28)"
      ]
     },
     "execution_count": 3,
     "metadata": {},
     "output_type": "execute_result"
    }
   ],
   "source": [
    "X_test.shape"
   ]
  },
  {
   "cell_type": "code",
   "execution_count": 4,
   "metadata": {
    "colab": {
     "base_uri": "https://localhost:8080/"
    },
    "executionInfo": {
     "elapsed": 21,
     "status": "ok",
     "timestamp": 1676450114718,
     "user": {
      "displayName": "Vishnu Pandey",
      "userId": "14136930795597363772"
     },
     "user_tz": -330
    },
    "id": "m5LoYgzbNnhB",
    "outputId": "2512b59f-9cb5-4249-c824-77edc1f6bc79"
   },
   "outputs": [
    {
     "data": {
      "text/plain": [
       "array([5, 0, 4, ..., 5, 6, 8], dtype=uint8)"
      ]
     },
     "execution_count": 4,
     "metadata": {},
     "output_type": "execute_result"
    }
   ],
   "source": [
    "y_train"
   ]
  },
  {
   "cell_type": "code",
   "execution_count": 5,
   "metadata": {
    "colab": {
     "base_uri": "https://localhost:8080/",
     "height": 283
    },
    "executionInfo": {
     "elapsed": 678,
     "status": "ok",
     "timestamp": 1676450125856,
     "user": {
      "displayName": "Vishnu Pandey",
      "userId": "14136930795597363772"
     },
     "user_tz": -330
    },
    "id": "CAPtzIzpNpaq",
    "outputId": "125f8919-ab38-42bd-8e2b-96e6d79f5660"
   },
   "outputs": [
    {
     "data": {
      "text/plain": [
       "<matplotlib.image.AxesImage at 0x7efe663217c0>"
      ]
     },
     "execution_count": 5,
     "metadata": {},
     "output_type": "execute_result"
    },
    {
     "data": {
      "image/png": "[encoded data removed]",
      "text/plain": [
       "<Figure size 432x288 with 1 Axes>"
      ]
     },
     "metadata": {
      "needs_background": "light"
     },
     "output_type": "display_data"
    }
   ],
   "source": [
    "import matplotlib.pyplot as plt\n",
    "plt.imshow(X_train[2])"
   ]
  },
  {
   "cell_type": "code",
   "execution_count": 6,
   "metadata": {
    "executionInfo": {
     "elapsed": 11,
     "status": "ok",
     "timestamp": 1676450135085,
     "user": {
      "displayName": "Vishnu Pandey",
      "userId": "14136930795597363772"
     },
     "user_tz": -330
    },
    "id": "Ud2Qp7aZNsuh"
   },
   "outputs": [],
   "source": [
    "X_train = X_train/255\n",
    "X_test = X_test/255"
   ]
  },
  {
   "cell_type": "code",
   "execution_count": 7,
   "metadata": {
    "executionInfo": {
     "elapsed": 22,
     "status": "ok",
     "timestamp": 1676450160148,
     "user": {
      "displayName": "Vishnu Pandey",
      "userId": "14136930795597363772"
     },
     "user_tz": -330
    },
    "id": "qmuqaGMSNvKx"
   },
   "outputs": [],
   "source": [
    "model = Sequential()\n",
    "\n",
    "model.add(Flatten(input_shape=(28,28)))\n",
    "model.add(Dense(128,activation='relu'))\n",
    "model.add(Dense(32,activation='relu'))\n",
    "model.add(Dense(10,activation='softmax'))"
   ]
  },
  {
   "cell_type": "code",
   "execution_count": 8,
   "metadata": {
    "colab": {
     "base_uri": "https://localhost:8080/"
    },
    "executionInfo": {
     "elapsed": 690,
     "status": "ok",
     "timestamp": 1676450167430,
     "user": {
      "displayName": "Vishnu Pandey",
      "userId": "14136930795597363772"
     },
     "user_tz": -330
    },
    "id": "cufW-LBiN1Mx",
    "outputId": "f6af1c93-2754-4a94-f8c2-1c63250061dc"
   },
   "outputs": [
    {
     "name": "stdout",
     "output_type": "stream",
     "text": [
      "Model: \"sequential\"\n",
      "_________________________________________________________________\n",
      " Layer (type)                Output Shape              Param #   \n",
      "=================================================================\n",
      " flatten (Flatten)           (None, 784)               0         \n",
      "                                                                 \n",
      " dense (Dense)               (None, 128)               100480    \n",
      "                                                                 \n",
      " dense_1 (Dense)             (None, 32)                4128      \n",
      "                                                                 \n",
      " dense_2 (Dense)             (None, 10)                330       \n",
      "                                                                 \n",
      "=================================================================\n",
      "Total params: 104,938\n",
      "Trainable params: 104,938\n",
      "Non-trainable params: 0\n",
      "_________________________________________________________________\n"
     ]
    }
   ],
   "source": [
    "model.summary()"
   ]
  },
  {
   "cell_type": "code",
   "execution_count": 9,
   "metadata": {
    "executionInfo": {
     "elapsed": 12,
     "status": "ok",
     "timestamp": 1676450173766,
     "user": {
      "displayName": "Vishnu Pandey",
      "userId": "14136930795597363772"
     },
     "user_tz": -330
    },
    "id": "BE8QCNQjN23P"
   },
   "outputs": [],
   "source": [
    "model.compile(loss='sparse_categorical_crossentropy',optimizer='Adam',metrics=['accuracy'])"
   ]
  },
  {
   "cell_type": "code",
   "execution_count": 10,
   "metadata": {
    "colab": {
     "base_uri": "https://localhost:8080/"
    },
    "executionInfo": {
     "elapsed": 203050,
     "status": "ok",
     "timestamp": 1676450385896,
     "user": {
      "displayName": "Vishnu Pandey",
      "userId": "14136930795597363772"
     },
     "user_tz": -330
    },
    "id": "i6ms0WKrN46g",
    "outputId": "c42601d9-8720-45fa-e8a3-16a920b2f1db"
   },
   "outputs": [
    {
     "name": "stdout",
     "output_type": "stream",
     "text": [
      "Epoch 1/25\n",
      "1500/1500 [==============================] - 11s 7ms/step - loss: 0.2808 - accuracy: 0.9198 - val_loss: 0.1520 - val_accuracy: 0.9536\n",
      "Epoch 2/25\n",
      "1500/1500 [==============================] - 8s 5ms/step - loss: 0.1181 - accuracy: 0.9653 - val_loss: 0.1030 - val_accuracy: 0.9693\n",
      "Epoch 3/25\n",
      "1500/1500 [==============================] - 11s 7ms/step - loss: 0.0820 - accuracy: 0.9755 - val_loss: 0.1031 - val_accuracy: 0.9688\n",
      "Epoch 4/25\n",
      "1500/1500 [==============================] - 9s 6ms/step - loss: 0.0619 - accuracy: 0.9807 - val_loss: 0.0886 - val_accuracy: 0.9722\n",
      "Epoch 5/25\n",
      "1500/1500 [==============================] - 7s 5ms/step - loss: 0.0470 - accuracy: 0.9850 - val_loss: 0.0942 - val_accuracy: 0.9727\n",
      "Epoch 6/25\n",
      "1500/1500 [==============================] - 6s 4ms/step - loss: 0.0386 - accuracy: 0.9879 - val_loss: 0.0995 - val_accuracy: 0.9727\n",
      "Epoch 7/25\n",
      "1500/1500 [==============================] - 8s 5ms/step - loss: 0.0318 - accuracy: 0.9895 - val_loss: 0.0950 - val_accuracy: 0.9747\n",
      "Epoch 8/25\n",
      "1500/1500 [==============================] - 8s 5ms/step - loss: 0.0250 - accuracy: 0.9919 - val_loss: 0.1033 - val_accuracy: 0.9735\n",
      "Epoch 9/25\n",
      "1500/1500 [==============================] - 7s 5ms/step - loss: 0.0216 - accuracy: 0.9927 - val_loss: 0.0995 - val_accuracy: 0.9762\n",
      "Epoch 10/25\n",
      "1500/1500 [==============================] - 6s 4ms/step - loss: 0.0205 - accuracy: 0.9930 - val_loss: 0.1242 - val_accuracy: 0.9725\n",
      "Epoch 11/25\n",
      "1500/1500 [==============================] - 7s 5ms/step - loss: 0.0174 - accuracy: 0.9940 - val_loss: 0.1092 - val_accuracy: 0.9753\n",
      "Epoch 12/25\n",
      "1500/1500 [==============================] - 6s 4ms/step - loss: 0.0158 - accuracy: 0.9945 - val_loss: 0.1144 - val_accuracy: 0.9745\n",
      "Epoch 13/25\n",
      "1500/1500 [==============================] - 7s 5ms/step - loss: 0.0149 - accuracy: 0.9949 - val_loss: 0.1435 - val_accuracy: 0.9683\n",
      "Epoch 14/25\n",
      "1500/1500 [==============================] - 6s 4ms/step - loss: 0.0167 - accuracy: 0.9941 - val_loss: 0.1318 - val_accuracy: 0.9737\n",
      "Epoch 15/25\n",
      "1500/1500 [==============================] - 7s 5ms/step - loss: 0.0102 - accuracy: 0.9965 - val_loss: 0.1273 - val_accuracy: 0.9744\n",
      "Epoch 16/25\n",
      "1500/1500 [==============================] - 6s 4ms/step - loss: 0.0131 - accuracy: 0.9958 - val_loss: 0.1387 - val_accuracy: 0.9729\n",
      "Epoch 17/25\n",
      "1500/1500 [==============================] - 7s 5ms/step - loss: 0.0138 - accuracy: 0.9957 - val_loss: 0.1222 - val_accuracy: 0.9765\n",
      "Epoch 18/25\n",
      "1500/1500 [==============================] - 6s 4ms/step - loss: 0.0086 - accuracy: 0.9973 - val_loss: 0.1697 - val_accuracy: 0.9699\n",
      "Epoch 19/25\n",
      "1500/1500 [==============================] - 7s 5ms/step - loss: 0.0093 - accuracy: 0.9970 - val_loss: 0.1373 - val_accuracy: 0.9769\n",
      "Epoch 20/25\n",
      "1500/1500 [==============================] - 6s 4ms/step - loss: 0.0098 - accuracy: 0.9969 - val_loss: 0.1572 - val_accuracy: 0.9735\n",
      "Epoch 21/25\n",
      "1500/1500 [==============================] - 7s 5ms/step - loss: 0.0106 - accuracy: 0.9966 - val_loss: 0.1459 - val_accuracy: 0.9746\n",
      "Epoch 22/25\n",
      "1500/1500 [==============================] - 6s 4ms/step - loss: 0.0068 - accuracy: 0.9976 - val_loss: 0.1400 - val_accuracy: 0.9765\n",
      "Epoch 23/25\n",
      "1500/1500 [==============================] - 7s 5ms/step - loss: 0.0093 - accuracy: 0.9971 - val_loss: 0.1630 - val_accuracy: 0.9753\n",
      "Epoch 24/25\n",
      "1500/1500 [==============================] - 6s 4ms/step - loss: 0.0096 - accuracy: 0.9972 - val_loss: 0.1558 - val_accuracy: 0.9728\n",
      "Epoch 25/25\n",
      "1500/1500 [==============================] - 7s 5ms/step - loss: 0.0095 - accuracy: 0.9971 - val_loss: 0.1644 - val_accuracy: 0.9749\n"
     ]
    }
   ],
   "source": [
    "history = model.fit(X_train,y_train,epochs=25,validation_split=0.2)"
   ]
  },
  {
   "cell_type": "code",
   "execution_count": 11,
   "metadata": {
    "colab": {
     "base_uri": "https://localhost:8080/"
    },
    "executionInfo": {
     "elapsed": 1460,
     "status": "ok",
     "timestamp": 1676450387306,
     "user": {
      "displayName": "Vishnu Pandey",
      "userId": "14136930795597363772"
     },
     "user_tz": -330
    },
    "id": "Ez7CkvdWN6vg",
    "outputId": "042fcc35-fb06-4311-b088-6e8ace6bd253"
   },
   "outputs": [
    {
     "name": "stdout",
     "output_type": "stream",
     "text": [
      "313/313 [==============================] - 1s 2ms/step\n"
     ]
    }
   ],
   "source": [
    "y_prob = model.predict(X_test)"
   ]
  },
  {
   "cell_type": "code",
   "execution_count": 12,
   "metadata": {
    "executionInfo": {
     "elapsed": 7,
     "status": "ok",
     "timestamp": 1676450387307,
     "user": {
      "displayName": "Vishnu Pandey",
      "userId": "14136930795597363772"
     },
     "user_tz": -330
    },
    "id": "XFloqWHkN8qJ"
   },
   "outputs": [],
   "source": [
    "y_pred = y_prob.argmax(axis=1)"
   ]
  },
  {
   "cell_type": "code",
   "execution_count": 13,
   "metadata": {
    "colab": {
     "base_uri": "https://localhost:8080/"
    },
    "executionInfo": {
     "elapsed": 1154,
     "status": "ok",
     "timestamp": 1676450388455,
     "user": {
      "displayName": "Vishnu Pandey",
      "userId": "14136930795597363772"
     },
     "user_tz": -330
    },
    "id": "hSB8rsP5N-_4",
    "outputId": "1fa99f7f-cd72-42c5-bdae-c12df673ed5e"
   },
   "outputs": [
    {
     "data": {
      "text/plain": [
       "0.9751"
      ]
     },
     "execution_count": 13,
     "metadata": {},
     "output_type": "execute_result"
    }
   ],
   "source": [
    "from sklearn.metrics import accuracy_score\n",
    "accuracy_score(y_test,y_pred)"
   ]
  },
  {
   "cell_type": "code",
   "execution_count": 14,
   "metadata": {
    "colab": {
     "base_uri": "https://localhost:8080/",
     "height": 283
    },
    "executionInfo": {
     "elapsed": 45,
     "status": "ok",
     "timestamp": 1676450388456,
     "user": {
      "displayName": "Vishnu Pandey",
      "userId": "14136930795597363772"
     },
     "user_tz": -330
    },
    "id": "FOSnr-QaOAaU",
    "outputId": "e1248a40-847e-4459-bce6-70002910bbe7"
   },
   "outputs": [
    {
     "data": {
      "text/plain": [
       "[<matplotlib.lines.Line2D at 0x7efe38989fd0>]"
      ]
     },
     "execution_count": 14,
     "metadata": {},
     "output_type": "execute_result"
    },
    {
     "data": {
      "image/png": "[encoded data removed]",
      "text/plain": [
       "<Figure size 432x288 with 1 Axes>"
      ]
     },
     "metadata": {
      "needs_background": "light"
     },
     "output_type": "display_data"
    }
   ],
   "source": [
    "plt.plot(history.history['loss'])\n",
    "plt.plot(history.history['val_loss'])"
   ]
  },
  {
   "cell_type": "code",
   "execution_count": 15,
   "metadata": {
    "colab": {
     "base_uri": "https://localhost:8080/",
     "height": 283
    },
    "executionInfo": {
     "elapsed": 40,
     "status": "ok",
     "timestamp": 1676450388457,
     "user": {
      "displayName": "Vishnu Pandey",
      "userId": "14136930795597363772"
     },
     "user_tz": -330
    },
    "id": "kF83c1YuOCMv",
    "outputId": "43387072-9163-4de9-a356-1e784d79d91a"
   },
   "outputs": [
    {
     "data": {
      "text/plain": [
       "[<matplotlib.lines.Line2D at 0x7efe389788e0>]"
      ]
     },
     "execution_count": 15,
     "metadata": {},
     "output_type": "execute_result"
    },
    {
     "data": {
      "image/png": "[encoded data removed]",
      "text/plain": [
       "<Figure size 432x288 with 1 Axes>"
      ]
     },
     "metadata": {
      "needs_background": "light"
     },
     "output_type": "display_data"
    }
   ],
   "source": [
    "plt.plot(history.history['accuracy'])\n",
    "plt.plot(history.history['val_accuracy'])"
   ]
  },
  {
   "cell_type": "code",
   "execution_count": 18,
   "metadata": {
    "colab": {
     "base_uri": "https://localhost:8080/",
     "height": 283
    },
    "executionInfo": {
     "elapsed": 10,
     "status": "ok",
     "timestamp": 1676450450374,
     "user": {
      "displayName": "Vishnu Pandey",
      "userId": "14136930795597363772"
     },
     "user_tz": -330
    },
    "id": "rMbqABV0OEDh",
    "outputId": "b0033877-4d73-4785-a37d-959fd513dd82"
   },
   "outputs": [
    {
     "data": {
      "text/plain": [
       "<matplotlib.image.AxesImage at 0x7efe3a7c8460>"
      ]
     },
     "execution_count": 18,
     "metadata": {},
     "output_type": "execute_result"
    },
    {
     "data": {
      "image/png": "[encoded data removed]",
      "text/plain": [
       "<Figure size 432x288 with 1 Axes>"
      ]
     },
     "metadata": {
      "needs_background": "light"
     },
     "output_type": "display_data"
    }
   ],
   "source": [
    "plt.imshow(X_test[3])"
   ]
  },
  {
   "cell_type": "code",
   "execution_count": 19,
   "metadata": {
    "colab": {
     "base_uri": "https://localhost:8080/"
    },
    "executionInfo": {
     "elapsed": 4,
     "status": "ok",
     "timestamp": 1676450451001,
     "user": {
      "displayName": "Vishnu Pandey",
      "userId": "14136930795597363772"
     },
     "user_tz": -330
    },
    "id": "DkJ8PtgZOIPm",
    "outputId": "2344dbef-8e11-4ae6-f4ea-1e7d5a0b44fe"
   },
   "outputs": [
    {
     "name": "stdout",
     "output_type": "stream",
     "text": [
      "1/1 [==============================] - 0s 46ms/step\n"
     ]
    },
    {
     "data": {
      "text/plain": [
       "array([2])"
      ]
     },
     "execution_count": 19,
     "metadata": {},
     "output_type": "execute_result"
    }
   ],
   "source": [
    "model.predict(X_test[1].reshape(1,28,28)).argmax(axis=1)"
   ]
  }
 ],
 "metadata": {
  "colab": {
   "authorship_tag": "ABX9TyP4EvWOwEhOxIFZHCGi00VM",
   "provenance": []
  },
  "kernelspec": {
   "display_name": "Python 3 (ipykernel)",
   "language": "python",
   "name": "python3"
  },
  "language_info": {
   "codemirror_mode": {
    "name": "ipython",
    "version": 3
   },
   "file_extension": ".py",
   "mimetype": "text/x-python",
   "name": "python",
   "nbconvert_exporter": "python",
   "pygments_lexer": "ipython3",
   "version": "3.10.5"
  }
 },
 "nbformat": 4,
 "nbformat_minor": 1
}

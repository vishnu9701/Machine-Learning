{
 "cells": [
  {
   "cell_type": "markdown",
   "metadata": {
    "id": "ohZH3LEnIyVW"
   },
   "source": [
    "## Customer Churn Prediction"
   ]
  },
  {
   "cell_type": "markdown",
   "metadata": {
    "id": "F-93XiQlIzKi"
   },
   "source": [
    "### Import Libraries"
   ]
  },
  {
   "cell_type": "code",
   "execution_count": 22,
   "metadata": {
    "executionInfo": {
     "elapsed": 606,
     "status": "ok",
     "timestamp": 1676449924914,
     "user": {
      "displayName": "Vishnu Pandey",
      "userId": "14136930795597363772"
     },
     "user_tz": -330
    },
    "id": "rBQ1smCBJNGl"
   },
   "outputs": [],
   "source": [
    "import numpy as np\n",
    "import matplotlib.pyplot as plt\n",
    "import pandas as pd"
   ]
  },
  {
   "cell_type": "code",
   "execution_count": 23,
   "metadata": {
    "executionInfo": {
     "elapsed": 616,
     "status": "ok",
     "timestamp": 1676449925998,
     "user": {
      "displayName": "Vishnu Pandey",
      "userId": "14136930795597363772"
     },
     "user_tz": -330
    },
    "id": "5gOHYGXhMsr6"
   },
   "outputs": [],
   "source": [
    "df = pd.read_csv('BankCustomers.csv')"
   ]
  },
  {
   "cell_type": "code",
   "execution_count": 24,
   "metadata": {
    "colab": {
     "base_uri": "https://localhost:8080/",
     "height": 270
    },
    "executionInfo": {
     "elapsed": 47,
     "status": "ok",
     "timestamp": 1676449926011,
     "user": {
      "displayName": "Vishnu Pandey",
      "userId": "14136930795597363772"
     },
     "user_tz": -330
    },
    "id": "3eRHvtPvJk8x",
    "outputId": "e4be5ab4-29b2-45cd-8c47-c8100e766678"
   },
   "outputs": [
    {
     "data": {
      "text/html": [
       "<div>\n",
       "<style scoped>\n",
       "    .dataframe tbody tr th:only-of-type {\n",
       "        vertical-align: middle;\n",
       "    }\n",
       "\n",
       "    .dataframe tbody tr th {\n",
       "        vertical-align: top;\n",
       "    }\n",
       "\n",
       "    .dataframe thead th {\n",
       "        text-align: right;\n",
       "    }\n",
       "</style>\n",
       "<table border=\"1\" class=\"dataframe\">\n",
       "  <thead>\n",
       "    <tr style=\"text-align: right;\">\n",
       "      <th></th>\n",
       "      <th>RowNumber</th>\n",
       "      <th>CustomerId</th>\n",
       "      <th>Surname</th>\n",
       "      <th>CreditScore</th>\n",
       "      <th>Geography</th>\n",
       "      <th>Gender</th>\n",
       "      <th>Age</th>\n",
       "      <th>Tenure</th>\n",
       "      <th>Balance</th>\n",
       "      <th>NumOfProducts</th>\n",
       "      <th>HasCrCard</th>\n",
       "      <th>IsActiveMember</th>\n",
       "      <th>EstimatedSalary</th>\n",
       "      <th>Exited</th>\n",
       "    </tr>\n",
       "  </thead>\n",
       "  <tbody>\n",
       "    <tr>\n",
       "      <th>0</th>\n",
       "      <td>1</td>\n",
       "      <td>15634602</td>\n",
       "      <td>Hargrave</td>\n",
       "      <td>619</td>\n",
       "      <td>France</td>\n",
       "      <td>Female</td>\n",
       "      <td>42</td>\n",
       "      <td>2</td>\n",
       "      <td>0.00</td>\n",
       "      <td>1</td>\n",
       "      <td>1</td>\n",
       "      <td>1</td>\n",
       "      <td>101348.88</td>\n",
       "      <td>1</td>\n",
       "    </tr>\n",
       "    <tr>\n",
       "      <th>1</th>\n",
       "      <td>2</td>\n",
       "      <td>15647311</td>\n",
       "      <td>Hill</td>\n",
       "      <td>608</td>\n",
       "      <td>Spain</td>\n",
       "      <td>Female</td>\n",
       "      <td>41</td>\n",
       "      <td>1</td>\n",
       "      <td>83807.86</td>\n",
       "      <td>1</td>\n",
       "      <td>0</td>\n",
       "      <td>1</td>\n",
       "      <td>112542.58</td>\n",
       "      <td>0</td>\n",
       "    </tr>\n",
       "    <tr>\n",
       "      <th>2</th>\n",
       "      <td>3</td>\n",
       "      <td>15619304</td>\n",
       "      <td>Onio</td>\n",
       "      <td>502</td>\n",
       "      <td>France</td>\n",
       "      <td>Female</td>\n",
       "      <td>42</td>\n",
       "      <td>8</td>\n",
       "      <td>159660.80</td>\n",
       "      <td>3</td>\n",
       "      <td>1</td>\n",
       "      <td>0</td>\n",
       "      <td>113931.57</td>\n",
       "      <td>1</td>\n",
       "    </tr>\n",
       "    <tr>\n",
       "      <th>3</th>\n",
       "      <td>4</td>\n",
       "      <td>15701354</td>\n",
       "      <td>Boni</td>\n",
       "      <td>699</td>\n",
       "      <td>France</td>\n",
       "      <td>Female</td>\n",
       "      <td>39</td>\n",
       "      <td>1</td>\n",
       "      <td>0.00</td>\n",
       "      <td>2</td>\n",
       "      <td>0</td>\n",
       "      <td>0</td>\n",
       "      <td>93826.63</td>\n",
       "      <td>0</td>\n",
       "    </tr>\n",
       "    <tr>\n",
       "      <th>4</th>\n",
       "      <td>5</td>\n",
       "      <td>15737888</td>\n",
       "      <td>Mitchell</td>\n",
       "      <td>850</td>\n",
       "      <td>Spain</td>\n",
       "      <td>Female</td>\n",
       "      <td>43</td>\n",
       "      <td>2</td>\n",
       "      <td>125510.82</td>\n",
       "      <td>1</td>\n",
       "      <td>1</td>\n",
       "      <td>1</td>\n",
       "      <td>79084.10</td>\n",
       "      <td>0</td>\n",
       "    </tr>\n",
       "  </tbody>\n",
       "</table>\n",
       "</div>"
      ],
      "text/plain": [
       "   RowNumber  CustomerId   Surname  CreditScore Geography  Gender  Age  \\\n",
       "0          1    15634602  Hargrave          619    France  Female   42   \n",
       "1          2    15647311      Hill          608     Spain  Female   41   \n",
       "2          3    15619304      Onio          502    France  Female   42   \n",
       "3          4    15701354      Boni          699    France  Female   39   \n",
       "4          5    15737888  Mitchell          850     Spain  Female   43   \n",
       "\n",
       "   Tenure    Balance  NumOfProducts  HasCrCard  IsActiveMember  \\\n",
       "0       2       0.00              1          1               1   \n",
       "1       1   83807.86              1          0               1   \n",
       "2       8  159660.80              3          1               0   \n",
       "3       1       0.00              2          0               0   \n",
       "4       2  125510.82              1          1               1   \n",
       "\n",
       "   EstimatedSalary  Exited  \n",
       "0        101348.88       1  \n",
       "1        112542.58       0  \n",
       "2        113931.57       1  \n",
       "3         93826.63       0  \n",
       "4         79084.10       0  "
      ]
     },
     "execution_count": 24,
     "metadata": {},
     "output_type": "execute_result"
    }
   ],
   "source": [
    "df.head()"
   ]
  },
  {
   "cell_type": "code",
   "execution_count": 25,
   "metadata": {
    "executionInfo": {
     "elapsed": 48,
     "status": "ok",
     "timestamp": 1676449926023,
     "user": {
      "displayName": "Vishnu Pandey",
      "userId": "14136930795597363772"
     },
     "user_tz": -330
    },
    "id": "UQHU3YLxJotj"
   },
   "outputs": [],
   "source": [
    "df.drop(columns = ['RowNumber','CustomerId','Surname'],inplace=True)"
   ]
  },
  {
   "cell_type": "code",
   "execution_count": 26,
   "metadata": {
    "colab": {
     "base_uri": "https://localhost:8080/"
    },
    "executionInfo": {
     "elapsed": 9,
     "status": "ok",
     "timestamp": 1676449926422,
     "user": {
      "displayName": "Vishnu Pandey",
      "userId": "14136930795597363772"
     },
     "user_tz": -330
    },
    "id": "9yKAkjA_Kl3f",
    "outputId": "9ae478dc-ba5e-45e9-ca64-e5d83f62a95c"
   },
   "outputs": [
    {
     "data": {
      "text/plain": [
       "France     5014\n",
       "Germany    2509\n",
       "Spain      2477\n",
       "Name: Geography, dtype: int64"
      ]
     },
     "execution_count": 26,
     "metadata": {},
     "output_type": "execute_result"
    }
   ],
   "source": [
    "df['Geography'].value_counts()"
   ]
  },
  {
   "cell_type": "code",
   "execution_count": 27,
   "metadata": {
    "colab": {
     "base_uri": "https://localhost:8080/"
    },
    "executionInfo": {
     "elapsed": 10,
     "status": "ok",
     "timestamp": 1676449927008,
     "user": {
      "displayName": "Vishnu Pandey",
      "userId": "14136930795597363772"
     },
     "user_tz": -330
    },
    "id": "VPHlsLMDKof_",
    "outputId": "32f87e58-6d79-4a6a-9ced-0fbb8109143a"
   },
   "outputs": [
    {
     "data": {
      "text/plain": [
       "Male      5457\n",
       "Female    4543\n",
       "Name: Gender, dtype: int64"
      ]
     },
     "execution_count": 27,
     "metadata": {},
     "output_type": "execute_result"
    }
   ],
   "source": [
    "df['Gender'].value_counts()"
   ]
  },
  {
   "cell_type": "code",
   "execution_count": 28,
   "metadata": {
    "executionInfo": {
     "elapsed": 9,
     "status": "ok",
     "timestamp": 1676449927821,
     "user": {
      "displayName": "Vishnu Pandey",
      "userId": "14136930795597363772"
     },
     "user_tz": -330
    },
    "id": "qvOnAND7KrxX"
   },
   "outputs": [],
   "source": [
    "df = pd.get_dummies(df,columns=['Geography','Gender'],drop_first=True)"
   ]
  },
  {
   "cell_type": "code",
   "execution_count": 29,
   "metadata": {
    "executionInfo": {
     "elapsed": 4,
     "status": "ok",
     "timestamp": 1676449929049,
     "user": {
      "displayName": "Vishnu Pandey",
      "userId": "14136930795597363772"
     },
     "user_tz": -330
    },
    "id": "CAWLjUjCKtvW"
   },
   "outputs": [],
   "source": [
    "X = df.drop(columns=['Exited'])\n",
    "y = df['Exited'].values\n",
    "\n",
    "from sklearn.model_selection import train_test_split\n",
    "X_train,X_test,y_train,y_test = train_test_split(X,y,test_size=0.2,random_state=0)"
   ]
  },
  {
   "cell_type": "code",
   "execution_count": 30,
   "metadata": {
    "executionInfo": {
     "elapsed": 3,
     "status": "ok",
     "timestamp": 1676449929049,
     "user": {
      "displayName": "Vishnu Pandey",
      "userId": "14136930795597363772"
     },
     "user_tz": -330
    },
    "id": "cCelO79IKwr_"
   },
   "outputs": [],
   "source": [
    "from sklearn.preprocessing import StandardScaler\n",
    "scaler = StandardScaler()\n",
    "\n",
    "X_train_trf = scaler.fit_transform(X_train)\n",
    "X_test_trf = scaler.transform(X_test)"
   ]
  },
  {
   "cell_type": "code",
   "execution_count": 31,
   "metadata": {
    "executionInfo": {
     "elapsed": 4,
     "status": "ok",
     "timestamp": 1676449929692,
     "user": {
      "displayName": "Vishnu Pandey",
      "userId": "14136930795597363772"
     },
     "user_tz": -330
    },
    "id": "z-nT8V4jKzW1"
   },
   "outputs": [],
   "source": [
    "import tensorflow\n",
    "from tensorflow import keras\n",
    "from tensorflow.keras import Sequential \n",
    "from tensorflow.keras.layers import Dense"
   ]
  },
  {
   "cell_type": "code",
   "execution_count": 32,
   "metadata": {
    "executionInfo": {
     "elapsed": 7,
     "status": "ok",
     "timestamp": 1676449930356,
     "user": {
      "displayName": "Vishnu Pandey",
      "userId": "14136930795597363772"
     },
     "user_tz": -330
    },
    "id": "n0J6rNZeK1Jo"
   },
   "outputs": [],
   "source": [
    "model = Sequential()\n",
    "\n",
    "model.add(Dense(11,activation='sigmoid',input_dim=11))\n",
    "model.add(Dense(11,activation='sigmoid'))\n",
    "model.add(Dense(1,activation='sigmoid'))"
   ]
  },
  {
   "cell_type": "code",
   "execution_count": 33,
   "metadata": {
    "colab": {
     "base_uri": "https://localhost:8080/"
    },
    "executionInfo": {
     "elapsed": 12,
     "status": "ok",
     "timestamp": 1676449930806,
     "user": {
      "displayName": "Vishnu Pandey",
      "userId": "14136930795597363772"
     },
     "user_tz": -330
    },
    "id": "2h1Ia-IhK3OF",
    "outputId": "1dfc188b-ae6d-4808-8b62-62cbc8b2147e"
   },
   "outputs": [
    {
     "name": "stdout",
     "output_type": "stream",
     "text": [
      "Model: \"sequential_2\"\n",
      "_________________________________________________________________\n",
      " Layer (type)                Output Shape              Param #   \n",
      "=================================================================\n",
      " dense_6 (Dense)             (None, 11)                132       \n",
      "                                                                 \n",
      " dense_7 (Dense)             (None, 11)                132       \n",
      "                                                                 \n",
      " dense_8 (Dense)             (None, 1)                 12        \n",
      "                                                                 \n",
      "=================================================================\n",
      "Total params: 276\n",
      "Trainable params: 276\n",
      "Non-trainable params: 0\n",
      "_________________________________________________________________\n"
     ]
    }
   ],
   "source": [
    "model.summary()"
   ]
  },
  {
   "cell_type": "code",
   "execution_count": 34,
   "metadata": {
    "executionInfo": {
     "elapsed": 6,
     "status": "ok",
     "timestamp": 1676449931841,
     "user": {
      "displayName": "Vishnu Pandey",
      "userId": "14136930795597363772"
     },
     "user_tz": -330
    },
    "id": "sbIC-mYOK5je"
   },
   "outputs": [],
   "source": [
    "model.compile(optimizer='Adam',loss='binary_crossentropy',metrics=['accuracy'])"
   ]
  },
  {
   "cell_type": "code",
   "execution_count": 35,
   "metadata": {
    "colab": {
     "base_uri": "https://localhost:8080/"
    },
    "executionInfo": {
     "elapsed": 37180,
     "status": "ok",
     "timestamp": 1676449969579,
     "user": {
      "displayName": "Vishnu Pandey",
      "userId": "14136930795597363772"
     },
     "user_tz": -330
    },
    "id": "SBRuLjC-K8UH",
    "outputId": "e5faf506-c81a-4626-fb3d-ebf8e1732e22"
   },
   "outputs": [
    {
     "name": "stdout",
     "output_type": "stream",
     "text": [
      "Epoch 1/100\n",
      "128/128 [==============================] - 1s 4ms/step - loss: 0.6368 - accuracy: 0.6431 - val_loss: 0.5407 - val_accuracy: 0.7969\n",
      "Epoch 2/100\n",
      "128/128 [==============================] - 0s 2ms/step - loss: 0.5172 - accuracy: 0.7958 - val_loss: 0.5035 - val_accuracy: 0.7969\n",
      "Epoch 3/100\n",
      "128/128 [==============================] - 0s 2ms/step - loss: 0.5028 - accuracy: 0.7958 - val_loss: 0.4995 - val_accuracy: 0.7969\n",
      "Epoch 4/100\n",
      "128/128 [==============================] - 0s 2ms/step - loss: 0.5016 - accuracy: 0.7958 - val_loss: 0.4995 - val_accuracy: 0.7969\n",
      "Epoch 5/100\n",
      "128/128 [==============================] - 0s 2ms/step - loss: 0.5013 - accuracy: 0.7958 - val_loss: 0.4993 - val_accuracy: 0.7969\n",
      "Epoch 6/100\n",
      "128/128 [==============================] - 0s 2ms/step - loss: 0.5010 - accuracy: 0.7958 - val_loss: 0.4988 - val_accuracy: 0.7969\n",
      "Epoch 7/100\n",
      "128/128 [==============================] - 0s 2ms/step - loss: 0.5008 - accuracy: 0.7958 - val_loss: 0.4985 - val_accuracy: 0.7969\n",
      "Epoch 8/100\n",
      "128/128 [==============================] - 0s 3ms/step - loss: 0.5005 - accuracy: 0.7958 - val_loss: 0.4983 - val_accuracy: 0.7969\n",
      "Epoch 9/100\n",
      "128/128 [==============================] - 0s 4ms/step - loss: 0.5003 - accuracy: 0.7958 - val_loss: 0.4980 - val_accuracy: 0.7969\n",
      "Epoch 10/100\n",
      "128/128 [==============================] - 1s 4ms/step - loss: 0.5001 - accuracy: 0.7958 - val_loss: 0.4977 - val_accuracy: 0.7969\n",
      "Epoch 11/100\n",
      "128/128 [==============================] - 1s 4ms/step - loss: 0.5000 - accuracy: 0.7958 - val_loss: 0.4976 - val_accuracy: 0.7969\n",
      "Epoch 12/100\n",
      "128/128 [==============================] - 1s 4ms/step - loss: 0.4999 - accuracy: 0.7958 - val_loss: 0.4974 - val_accuracy: 0.7969\n",
      "Epoch 13/100\n",
      "128/128 [==============================] - 0s 4ms/step - loss: 0.4998 - accuracy: 0.7958 - val_loss: 0.4973 - val_accuracy: 0.7969\n",
      "Epoch 14/100\n",
      "128/128 [==============================] - 1s 4ms/step - loss: 0.4998 - accuracy: 0.7958 - val_loss: 0.4972 - val_accuracy: 0.7969\n",
      "Epoch 15/100\n",
      "128/128 [==============================] - 1s 4ms/step - loss: 0.4996 - accuracy: 0.7958 - val_loss: 0.4968 - val_accuracy: 0.7969\n",
      "Epoch 16/100\n",
      "128/128 [==============================] - 0s 2ms/step - loss: 0.4995 - accuracy: 0.7958 - val_loss: 0.4956 - val_accuracy: 0.7969\n",
      "Epoch 17/100\n",
      "128/128 [==============================] - 0s 2ms/step - loss: 0.4998 - accuracy: 0.7958 - val_loss: 0.4955 - val_accuracy: 0.7969\n",
      "Epoch 18/100\n",
      "128/128 [==============================] - 0s 2ms/step - loss: 0.4998 - accuracy: 0.7958 - val_loss: 0.4954 - val_accuracy: 0.7969\n",
      "Epoch 19/100\n",
      "128/128 [==============================] - 0s 2ms/step - loss: 0.4994 - accuracy: 0.7958 - val_loss: 0.4955 - val_accuracy: 0.7969\n",
      "Epoch 20/100\n",
      "128/128 [==============================] - 0s 2ms/step - loss: 0.4992 - accuracy: 0.7958 - val_loss: 0.4954 - val_accuracy: 0.7969\n",
      "Epoch 21/100\n",
      "128/128 [==============================] - 0s 3ms/step - loss: 0.4991 - accuracy: 0.7958 - val_loss: 0.4954 - val_accuracy: 0.7969\n",
      "Epoch 22/100\n",
      "128/128 [==============================] - 0s 2ms/step - loss: 0.4992 - accuracy: 0.7958 - val_loss: 0.4955 - val_accuracy: 0.7969\n",
      "Epoch 23/100\n",
      "128/128 [==============================] - 0s 2ms/step - loss: 0.4991 - accuracy: 0.7958 - val_loss: 0.4954 - val_accuracy: 0.7969\n",
      "Epoch 24/100\n",
      "128/128 [==============================] - 0s 2ms/step - loss: 0.4990 - accuracy: 0.7958 - val_loss: 0.4954 - val_accuracy: 0.7969\n",
      "Epoch 25/100\n",
      "128/128 [==============================] - 0s 2ms/step - loss: 0.4991 - accuracy: 0.7958 - val_loss: 0.4954 - val_accuracy: 0.7969\n",
      "Epoch 26/100\n",
      "128/128 [==============================] - 0s 3ms/step - loss: 0.4991 - accuracy: 0.7958 - val_loss: 0.4954 - val_accuracy: 0.7969\n",
      "Epoch 27/100\n",
      "128/128 [==============================] - 0s 2ms/step - loss: 0.4991 - accuracy: 0.7958 - val_loss: 0.4953 - val_accuracy: 0.7969\n",
      "Epoch 28/100\n",
      "128/128 [==============================] - 0s 2ms/step - loss: 0.4992 - accuracy: 0.7958 - val_loss: 0.4953 - val_accuracy: 0.7969\n",
      "Epoch 29/100\n",
      "128/128 [==============================] - 0s 2ms/step - loss: 0.4990 - accuracy: 0.7958 - val_loss: 0.4953 - val_accuracy: 0.7969\n",
      "Epoch 30/100\n",
      "128/128 [==============================] - 0s 2ms/step - loss: 0.4991 - accuracy: 0.7958 - val_loss: 0.4953 - val_accuracy: 0.7969\n",
      "Epoch 31/100\n",
      "128/128 [==============================] - 0s 2ms/step - loss: 0.4991 - accuracy: 0.7958 - val_loss: 0.4954 - val_accuracy: 0.7969\n",
      "Epoch 32/100\n",
      "128/128 [==============================] - 0s 2ms/step - loss: 0.4990 - accuracy: 0.7958 - val_loss: 0.4953 - val_accuracy: 0.7969\n",
      "Epoch 33/100\n",
      "128/128 [==============================] - 0s 2ms/step - loss: 0.4988 - accuracy: 0.7958 - val_loss: 0.4953 - val_accuracy: 0.7969\n",
      "Epoch 34/100\n",
      "128/128 [==============================] - 0s 2ms/step - loss: 0.4991 - accuracy: 0.7958 - val_loss: 0.4953 - val_accuracy: 0.7969\n",
      "Epoch 35/100\n",
      "128/128 [==============================] - 0s 2ms/step - loss: 0.4992 - accuracy: 0.7958 - val_loss: 0.4953 - val_accuracy: 0.7969\n",
      "Epoch 36/100\n",
      "128/128 [==============================] - 0s 2ms/step - loss: 0.4989 - accuracy: 0.7958 - val_loss: 0.4955 - val_accuracy: 0.7969\n",
      "Epoch 37/100\n",
      "128/128 [==============================] - 0s 2ms/step - loss: 0.4989 - accuracy: 0.7958 - val_loss: 0.4954 - val_accuracy: 0.7969\n",
      "Epoch 38/100\n",
      "128/128 [==============================] - 0s 2ms/step - loss: 0.4989 - accuracy: 0.7958 - val_loss: 0.4955 - val_accuracy: 0.7969\n",
      "Epoch 39/100\n",
      "128/128 [==============================] - 0s 2ms/step - loss: 0.4989 - accuracy: 0.7958 - val_loss: 0.4953 - val_accuracy: 0.7969\n",
      "Epoch 40/100\n",
      "128/128 [==============================] - 0s 2ms/step - loss: 0.4990 - accuracy: 0.7958 - val_loss: 0.4953 - val_accuracy: 0.7969\n",
      "Epoch 41/100\n",
      "128/128 [==============================] - 0s 2ms/step - loss: 0.4989 - accuracy: 0.7958 - val_loss: 0.4953 - val_accuracy: 0.7969\n",
      "Epoch 42/100\n",
      "128/128 [==============================] - 0s 3ms/step - loss: 0.4989 - accuracy: 0.7958 - val_loss: 0.4952 - val_accuracy: 0.7969\n",
      "Epoch 43/100\n",
      "128/128 [==============================] - 0s 3ms/step - loss: 0.4988 - accuracy: 0.7958 - val_loss: 0.4952 - val_accuracy: 0.7969\n",
      "Epoch 44/100\n",
      "128/128 [==============================] - 1s 4ms/step - loss: 0.4991 - accuracy: 0.7958 - val_loss: 0.4953 - val_accuracy: 0.7969\n",
      "Epoch 45/100\n",
      "128/128 [==============================] - 0s 4ms/step - loss: 0.4989 - accuracy: 0.7958 - val_loss: 0.4952 - val_accuracy: 0.7969\n",
      "Epoch 46/100\n",
      "128/128 [==============================] - 1s 4ms/step - loss: 0.4987 - accuracy: 0.7958 - val_loss: 0.4953 - val_accuracy: 0.7969\n",
      "Epoch 47/100\n",
      "128/128 [==============================] - 0s 4ms/step - loss: 0.4987 - accuracy: 0.7958 - val_loss: 0.4953 - val_accuracy: 0.7969\n",
      "Epoch 48/100\n",
      "128/128 [==============================] - 0s 3ms/step - loss: 0.4987 - accuracy: 0.7958 - val_loss: 0.4955 - val_accuracy: 0.7969\n",
      "Epoch 49/100\n",
      "128/128 [==============================] - 0s 2ms/step - loss: 0.4987 - accuracy: 0.7958 - val_loss: 0.4951 - val_accuracy: 0.7969\n",
      "Epoch 50/100\n",
      "128/128 [==============================] - 0s 2ms/step - loss: 0.4989 - accuracy: 0.7958 - val_loss: 0.4949 - val_accuracy: 0.7969\n",
      "Epoch 51/100\n",
      "128/128 [==============================] - 0s 2ms/step - loss: 0.4992 - accuracy: 0.7958 - val_loss: 0.4949 - val_accuracy: 0.7969\n",
      "Epoch 52/100\n",
      "128/128 [==============================] - 0s 2ms/step - loss: 0.4990 - accuracy: 0.7958 - val_loss: 0.4948 - val_accuracy: 0.7969\n",
      "Epoch 53/100\n",
      "128/128 [==============================] - 0s 2ms/step - loss: 0.4991 - accuracy: 0.7958 - val_loss: 0.4949 - val_accuracy: 0.7969\n",
      "Epoch 54/100\n",
      "128/128 [==============================] - 0s 2ms/step - loss: 0.4989 - accuracy: 0.7958 - val_loss: 0.4947 - val_accuracy: 0.7969\n",
      "Epoch 55/100\n",
      "128/128 [==============================] - 0s 2ms/step - loss: 0.4989 - accuracy: 0.7958 - val_loss: 0.4948 - val_accuracy: 0.7969\n",
      "Epoch 56/100\n",
      "128/128 [==============================] - 0s 2ms/step - loss: 0.4989 - accuracy: 0.7958 - val_loss: 0.4949 - val_accuracy: 0.7969\n",
      "Epoch 57/100\n",
      "128/128 [==============================] - 1s 4ms/step - loss: 0.4989 - accuracy: 0.7958 - val_loss: 0.4948 - val_accuracy: 0.7969\n",
      "Epoch 58/100\n",
      "128/128 [==============================] - 0s 4ms/step - loss: 0.4989 - accuracy: 0.7958 - val_loss: 0.4948 - val_accuracy: 0.7969\n",
      "Epoch 59/100\n",
      "128/128 [==============================] - 0s 4ms/step - loss: 0.4989 - accuracy: 0.7958 - val_loss: 0.4948 - val_accuracy: 0.7969\n",
      "Epoch 60/100\n",
      "128/128 [==============================] - 0s 4ms/step - loss: 0.4990 - accuracy: 0.7958 - val_loss: 0.4949 - val_accuracy: 0.7969\n",
      "Epoch 61/100\n",
      "128/128 [==============================] - 0s 4ms/step - loss: 0.4989 - accuracy: 0.7958 - val_loss: 0.4948 - val_accuracy: 0.7969\n",
      "Epoch 62/100\n",
      "128/128 [==============================] - 0s 3ms/step - loss: 0.4989 - accuracy: 0.7958 - val_loss: 0.4948 - val_accuracy: 0.7969\n",
      "Epoch 63/100\n",
      "128/128 [==============================] - 0s 2ms/step - loss: 0.4989 - accuracy: 0.7958 - val_loss: 0.4948 - val_accuracy: 0.7969\n",
      "Epoch 64/100\n",
      "128/128 [==============================] - 0s 2ms/step - loss: 0.4993 - accuracy: 0.7958 - val_loss: 0.4948 - val_accuracy: 0.7969\n",
      "Epoch 65/100\n",
      "128/128 [==============================] - 0s 3ms/step - loss: 0.4990 - accuracy: 0.7958 - val_loss: 0.4950 - val_accuracy: 0.7969\n",
      "Epoch 66/100\n",
      "128/128 [==============================] - 1s 7ms/step - loss: 0.4990 - accuracy: 0.7958 - val_loss: 0.4948 - val_accuracy: 0.7969\n",
      "Epoch 67/100\n",
      "128/128 [==============================] - 0s 2ms/step - loss: 0.4988 - accuracy: 0.7958 - val_loss: 0.4949 - val_accuracy: 0.7969\n",
      "Epoch 68/100\n",
      "128/128 [==============================] - 0s 2ms/step - loss: 0.4986 - accuracy: 0.7958 - val_loss: 0.4950 - val_accuracy: 0.7969\n",
      "Epoch 69/100\n",
      "128/128 [==============================] - 0s 3ms/step - loss: 0.4990 - accuracy: 0.7958 - val_loss: 0.4950 - val_accuracy: 0.7969\n",
      "Epoch 70/100\n",
      "128/128 [==============================] - 0s 2ms/step - loss: 0.4990 - accuracy: 0.7958 - val_loss: 0.4948 - val_accuracy: 0.7969\n",
      "Epoch 71/100\n",
      "128/128 [==============================] - 0s 2ms/step - loss: 0.4990 - accuracy: 0.7958 - val_loss: 0.4942 - val_accuracy: 0.7969\n",
      "Epoch 72/100\n",
      "128/128 [==============================] - 0s 2ms/step - loss: 0.4999 - accuracy: 0.7958 - val_loss: 0.4949 - val_accuracy: 0.7969\n",
      "Epoch 73/100\n",
      "128/128 [==============================] - 0s 2ms/step - loss: 0.5000 - accuracy: 0.7958 - val_loss: 0.4948 - val_accuracy: 0.7969\n",
      "Epoch 74/100\n",
      "128/128 [==============================] - 0s 2ms/step - loss: 0.4999 - accuracy: 0.7958 - val_loss: 0.4949 - val_accuracy: 0.7969\n",
      "Epoch 75/100\n",
      "128/128 [==============================] - 1s 4ms/step - loss: 0.4998 - accuracy: 0.7958 - val_loss: 0.4950 - val_accuracy: 0.7969\n",
      "Epoch 76/100\n",
      "128/128 [==============================] - 0s 3ms/step - loss: 0.4996 - accuracy: 0.7958 - val_loss: 0.4956 - val_accuracy: 0.7969\n",
      "Epoch 77/100\n",
      "128/128 [==============================] - 1s 4ms/step - loss: 0.4994 - accuracy: 0.7958 - val_loss: 0.4956 - val_accuracy: 0.7969\n",
      "Epoch 78/100\n",
      "128/128 [==============================] - 0s 3ms/step - loss: 0.4996 - accuracy: 0.7958 - val_loss: 0.4954 - val_accuracy: 0.7969\n",
      "Epoch 79/100\n",
      "128/128 [==============================] - 0s 3ms/step - loss: 0.4997 - accuracy: 0.7958 - val_loss: 0.4956 - val_accuracy: 0.7969\n",
      "Epoch 80/100\n",
      "128/128 [==============================] - 0s 3ms/step - loss: 0.4995 - accuracy: 0.7958 - val_loss: 0.4954 - val_accuracy: 0.7969\n",
      "Epoch 81/100\n",
      "128/128 [==============================] - 0s 2ms/step - loss: 0.4995 - accuracy: 0.7958 - val_loss: 0.4953 - val_accuracy: 0.7969\n",
      "Epoch 82/100\n",
      "128/128 [==============================] - 0s 2ms/step - loss: 0.4993 - accuracy: 0.7958 - val_loss: 0.4953 - val_accuracy: 0.7969\n",
      "Epoch 83/100\n",
      "128/128 [==============================] - 0s 2ms/step - loss: 0.4994 - accuracy: 0.7958 - val_loss: 0.4953 - val_accuracy: 0.7969\n",
      "Epoch 84/100\n",
      "128/128 [==============================] - 0s 2ms/step - loss: 0.4992 - accuracy: 0.7958 - val_loss: 0.4953 - val_accuracy: 0.7969\n",
      "Epoch 85/100\n",
      "128/128 [==============================] - 0s 2ms/step - loss: 0.4992 - accuracy: 0.7958 - val_loss: 0.4952 - val_accuracy: 0.7969\n",
      "Epoch 86/100\n",
      "128/128 [==============================] - 0s 3ms/step - loss: 0.4991 - accuracy: 0.7958 - val_loss: 0.4951 - val_accuracy: 0.7969\n",
      "Epoch 87/100\n",
      "128/128 [==============================] - 0s 2ms/step - loss: 0.4993 - accuracy: 0.7958 - val_loss: 0.4950 - val_accuracy: 0.7969\n",
      "Epoch 88/100\n",
      "128/128 [==============================] - 0s 2ms/step - loss: 0.4991 - accuracy: 0.7958 - val_loss: 0.4952 - val_accuracy: 0.7969\n",
      "Epoch 89/100\n",
      "128/128 [==============================] - 0s 2ms/step - loss: 0.4992 - accuracy: 0.7958 - val_loss: 0.4950 - val_accuracy: 0.7969\n",
      "Epoch 90/100\n",
      "128/128 [==============================] - 0s 2ms/step - loss: 0.4992 - accuracy: 0.7958 - val_loss: 0.4949 - val_accuracy: 0.7969\n",
      "Epoch 91/100\n",
      "128/128 [==============================] - 0s 2ms/step - loss: 0.4991 - accuracy: 0.7958 - val_loss: 0.4949 - val_accuracy: 0.7969\n",
      "Epoch 92/100\n",
      "128/128 [==============================] - 0s 2ms/step - loss: 0.4990 - accuracy: 0.7958 - val_loss: 0.4950 - val_accuracy: 0.7969\n",
      "Epoch 93/100\n",
      "128/128 [==============================] - 0s 2ms/step - loss: 0.4991 - accuracy: 0.7958 - val_loss: 0.4949 - val_accuracy: 0.7969\n",
      "Epoch 94/100\n",
      "128/128 [==============================] - 0s 2ms/step - loss: 0.4990 - accuracy: 0.7958 - val_loss: 0.4948 - val_accuracy: 0.7969\n",
      "Epoch 95/100\n",
      "128/128 [==============================] - 0s 2ms/step - loss: 0.4990 - accuracy: 0.7958 - val_loss: 0.4950 - val_accuracy: 0.7969\n",
      "Epoch 96/100\n",
      "128/128 [==============================] - 0s 2ms/step - loss: 0.4991 - accuracy: 0.7958 - val_loss: 0.4948 - val_accuracy: 0.7969\n",
      "Epoch 97/100\n",
      "128/128 [==============================] - 0s 2ms/step - loss: 0.4991 - accuracy: 0.7958 - val_loss: 0.4950 - val_accuracy: 0.7969\n",
      "Epoch 98/100\n",
      "128/128 [==============================] - 0s 2ms/step - loss: 0.4990 - accuracy: 0.7958 - val_loss: 0.4948 - val_accuracy: 0.7969\n",
      "Epoch 99/100\n",
      "128/128 [==============================] - 0s 2ms/step - loss: 0.4990 - accuracy: 0.7958 - val_loss: 0.4948 - val_accuracy: 0.7969\n",
      "Epoch 100/100\n",
      "128/128 [==============================] - 0s 2ms/step - loss: 0.4989 - accuracy: 0.7958 - val_loss: 0.4947 - val_accuracy: 0.7969\n"
     ]
    }
   ],
   "source": [
    "history = model.fit(X_train,y_train,batch_size=50,epochs=100,verbose=1,validation_split=0.2)"
   ]
  },
  {
   "cell_type": "code",
   "execution_count": 40,
   "metadata": {
    "colab": {
     "base_uri": "https://localhost:8080/"
    },
    "executionInfo": {
     "elapsed": 560,
     "status": "ok",
     "timestamp": 1676449996611,
     "user": {
      "displayName": "Vishnu Pandey",
      "userId": "14136930795597363772"
     },
     "user_tz": -330
    },
    "id": "gFiHOPO2K-tP",
    "outputId": "0ec5a0a9-b98c-466a-eaa5-dda6c2a98890"
   },
   "outputs": [
    {
     "name": "stdout",
     "output_type": "stream",
     "text": [
      "63/63 [==============================] - 0s 1ms/step\n"
     ]
    }
   ],
   "source": [
    "y_pred = model.predict(X_test)\n",
    "y_pred = y_pred.argmax(axis=-1)"
   ]
  },
  {
   "cell_type": "code",
   "execution_count": 41,
   "metadata": {
    "colab": {
     "base_uri": "https://localhost:8080/"
    },
    "executionInfo": {
     "elapsed": 16,
     "status": "ok",
     "timestamp": 1676449996613,
     "user": {
      "displayName": "Vishnu Pandey",
      "userId": "14136930795597363772"
     },
     "user_tz": -330
    },
    "id": "vgt83HbtNMfq",
    "outputId": "403b6ea4-e604-43bb-c97b-43dfb9ac91d4"
   },
   "outputs": [
    {
     "data": {
      "text/plain": [
       "0.7975"
      ]
     },
     "execution_count": 41,
     "metadata": {},
     "output_type": "execute_result"
    }
   ],
   "source": [
    "from sklearn.metrics import accuracy_score\n",
    "accuracy_score(y_test,y_pred)"
   ]
  },
  {
   "cell_type": "code",
   "execution_count": 37,
   "metadata": {
    "colab": {
     "base_uri": "https://localhost:8080/",
     "height": 283
    },
    "executionInfo": {
     "elapsed": 45,
     "status": "ok",
     "timestamp": 1676449970455,
     "user": {
      "displayName": "Vishnu Pandey",
      "userId": "14136930795597363772"
     },
     "user_tz": -330
    },
    "id": "y1kamOcYLKRe",
    "outputId": "a361c572-d1df-41fc-f4ba-76d16e463a98"
   },
   "outputs": [
    {
     "data": {
      "text/plain": [
       "[<matplotlib.lines.Line2D at 0x7f3997ff61f0>]"
      ]
     },
     "execution_count": 37,
     "metadata": {},
     "output_type": "execute_result"
    },
    {
     "data": {
      "image/png": "[encoded data removed]",
      "text/plain": [
       "<Figure size 432x288 with 1 Axes>"
      ]
     },
     "metadata": {
      "needs_background": "light"
     },
     "output_type": "display_data"
    }
   ],
   "source": [
    "import matplotlib.pyplot as plt\n",
    "\n",
    "plt.plot(history.history['loss'])\n",
    "plt.plot(history.history['val_loss'])"
   ]
  },
  {
   "cell_type": "code",
   "execution_count": 38,
   "metadata": {
    "colab": {
     "base_uri": "https://localhost:8080/",
     "height": 283
    },
    "executionInfo": {
     "elapsed": 39,
     "status": "ok",
     "timestamp": 1676449970456,
     "user": {
      "displayName": "Vishnu Pandey",
      "userId": "14136930795597363772"
     },
     "user_tz": -330
    },
    "id": "Vp2tB7cwLN7e",
    "outputId": "e18da9b3-3af0-4ed8-d7b7-1bed047abd00"
   },
   "outputs": [
    {
     "data": {
      "text/plain": [
       "[<matplotlib.lines.Line2D at 0x7f3997fdfd00>]"
      ]
     },
     "execution_count": 38,
     "metadata": {},
     "output_type": "execute_result"
    },
    {
     "data": {
      "image/png": "[encoded data removed]",
      "text/plain": [
       "<Figure size 432x288 with 1 Axes>"
      ]
     },
     "metadata": {
      "needs_background": "light"
     },
     "output_type": "display_data"
    }
   ],
   "source": [
    "plt.plot(history.history['accuracy'])\n",
    "plt.plot(history.history['val_accuracy'])"
   ]
  }
 ],
 "metadata": {
  "colab": {
   "authorship_tag": "ABX9TyNfpIP8oOMVNttWrFYpodOd",
   "provenance": []
  },
  "kernelspec": {
   "display_name": "Python 3 (ipykernel)",
   "language": "python",
   "name": "python3"
  },
  "language_info": {
   "codemirror_mode": {
    "name": "ipython",
    "version": 3
   },
   "file_extension": ".py",
   "mimetype": "text/x-python",
   "name": "python",
   "nbconvert_exporter": "python",
   "pygments_lexer": "ipython3",
   "version": "3.10.5"
  }
 },
 "nbformat": 4,
 "nbformat_minor": 1
}

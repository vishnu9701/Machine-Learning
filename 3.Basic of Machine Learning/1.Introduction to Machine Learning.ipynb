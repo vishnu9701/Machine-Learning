{
 "cells": [
  {
   "cell_type": "markdown",
   "metadata": {
    "id": "XOT9lrl0KoHq"
   },
   "source": [
    "# Machine Learning"
   ]
  },
  {
   "cell_type": "markdown",
   "metadata": {
    "id": "sb3MQF-CP7Ya"
   },
   "source": [
    "## 1. What is Machine Learning?\n",
    "Machine Learning system learns from historical data, builds the prediction models, and whenever it receives new data, predicts the output for it.<br>"
   ]
  },
  {
   "cell_type": "markdown",
   "metadata": {
    "id": "aMmh3V-iQFol"
   },
   "source": [
    "*   The accuracy of predicted output depends upon the amount of data, as the huge amount of data helps to build a better model which predicts the output more accurately.\n",
    "*   Suppose we have a complex problem, where we need to perform some predictions, so instead of writing a code for it, we just need to feed the data to generic algorithms, and with the help of these algorithms, machine builds the logic as per the data and predict the output. Machine learning has changed our way of thinking about the problem\n",
    "\n",
    "\n"
   ]
  },
  {
   "cell_type": "markdown",
   "metadata": {
    "id": "VIEWFHRRQihF"
   },
   "source": [
    "\n",
    "![image.png](https://static.javatpoint.com/tutorial/machine-learning/images/introduction-to-machine-learning2.png)\n"
   ]
  },
  {
   "cell_type": "markdown",
   "metadata": {
    "id": "GTnHxIXPQ1Fu"
   },
   "source": [
    "## 2.Features of Machine Learning:\n",
    "1.   Machine learning uses data to detect various patterns in a given dataset\n",
    "2.   It can learn from past data and improve automatically.\n",
    "3.  It can learn from past data and improve automatically.\n",
    "4.  Machine learning is much similar to data mining as it also deals with the huge amount of the data."
   ]
  },
  {
   "cell_type": "markdown",
   "metadata": {
    "id": "5qFGdeGlRePs"
   },
   "source": [
    "### 3. Classification of Machine Learning\n",
    "\n",
    "\n",
    "1. **Supervised Learning**\n",
    "\n",
    "\n",
    "*   Supervised learning is a type of machine learning method in which we provide sample labeled data to the machine learning system in order to train it, and on that basis, it predicts the output.\n",
    "*  The system creates a model using labeled data to understand the datasets and learn about each data, once the training and processing are done then we test the model by providing a sample data to check whether it is predicting the exact output or not.\n",
    "* The goal of supervised learning is to map input data with the output data. The supervised learning is based on supervision, and it is the same as when a student learns things in the supervision of the teacher\n",
    "\n",
    "2.  **Unsupervised Learning**\n",
    "\n",
    "\n",
    "*   The training is provided to the machine with the set of data that has not been labeled, classified, or categorized, and the algorithm needs to act on that data without any supervision. The goal of unsupervised learning is to restructure the input data into new features or a group of objects with similar patterns.\n",
    "*   In unsupervised learning, we don't have a predetermined result. The machine tries to find useful insights from the huge amount of data.\n",
    "\n",
    "\n",
    "3. **Reinforcement Learning**\n",
    "\n",
    "\n",
    "*   Reinforcement learning is a feedback-based learning method, in which a learning agent gets a reward for each right action and gets a penalty for each wrong action. The agent learns automatically with these feedbacks and improves its performance.\n",
    "*  Using this algorithm, the machine is trained to make specific\n",
    "decisions. It works this way: the machine is exposed to an environment where it trains itself continually using trial and error. This machine learns from past experience and tries to capture the best possible knowledge to make accurate business decisions\n",
    "\n",
    "\n",
    "\n"
   ]
  },
  {
   "cell_type": "markdown",
   "metadata": {
    "id": "yY9efmLJTFo0"
   },
   "source": [
    "## 4. Application of Machine Learning\n"
   ]
  },
  {
   "cell_type": "markdown",
   "metadata": {
    "id": "DY6ujkZbTVUT"
   },
   "source": [
    "* **Computer vision**: Machine learning algorithms can be used to recognize objects, people, and other elements in images and videos.\n",
    "* **Natural language processing** : Machine learning algorithms can be used to understand and generate human language, including tasks such as translation and text classification.\n",
    "* **Recommendation systems**: Machine learning algorithms can be used to recommend products or content to users based on their past behavior and preferences.\n",
    "* **Fraud detection**: Machine learning algorithms can be used to identify fraudulent activity in areas such as credit card transactions and insurance claims.\n",
    "* **Healthcare**: Machine learning algorithms can be used to predict disease outbreaks, identify potential outbreaks, or predict patient outcomes.\n",
    "* **Finance:** : Machine learning algorithms can be used to predict stock prices, identify fraudulent activity, or identify potential investment opportunities.\n",
    "\n"
   ]
  },
  {
   "cell_type": "markdown",
   "metadata": {
    "id": "w4qaM6izUlLM"
   },
   "source": [
    "## 5. Life cycle at Machine Learning Project\n"
   ]
  },
  {
   "cell_type": "markdown",
   "metadata": {
    "id": "LVw6r5aCUx28"
   },
   "source": [
    "* **Problem definition** involves converting a Business Problem to a machine learning problem.\n",
    "* **Hypothesis generation** is the process of creating possible business hypothesis and potential features for the model.\n",
    "* **Data Collection** requires you to collect the data for testing your hypothesis and building the model.\n",
    "* **Data Exploration and cleaning** helps you remove outliers, missing values and then transform data into required format.\n",
    "* **Modelling** is where you actually build the machine learning models.\n",
    "* **Deploy the models.**\n"
   ]
  },
  {
   "cell_type": "markdown",
   "metadata": {
    "id": "h8gCH1-6VlLL"
   },
   "source": [
    "# 6. Steps for Buliding Machine Learning Project"
   ]
  },
  {
   "cell_type": "markdown",
   "metadata": {
    "id": "l6GzqJ5_Vx8L"
   },
   "source": [
    "### Step 1: Business context and define a problem"
   ]
  },
  {
   "cell_type": "markdown",
   "metadata": {
    "id": "MzfTt-LBV-j5"
   },
   "source": [
    "*   Understanding the business context and also figuring out what are the exact challenges business is facing.\n"
   ]
  },
  {
   "cell_type": "markdown",
   "metadata": {
    "id": "d5DFXhBIV-r6"
   },
   "source": [
    "### Step 2: Translating to AI problem and approach"
   ]
  },
  {
   "cell_type": "markdown",
   "metadata": {
    "id": "kLL4yQGiWaoS"
   },
   "source": [
    "*  If the problem is not translated into a proper AI problem, then the final model is not deployable for the business use case. From an AI point of view, business problems need to be translated. As the approaches can be many, finding the right approach is skilful. The end-to-end framework of the approach needs to be planned in this step.\n",
    "\n",
    "\n"
   ]
  },
  {
   "cell_type": "markdown",
   "metadata": {
    "id": "Z-TLV3qqWirr"
   },
   "source": [
    "### Step 3: Milestones and Planning"
   ]
  },
  {
   "cell_type": "markdown",
   "metadata": {
    "id": "CtxN9QP1WqZ5"
   },
   "source": [
    "*   If the data is too large to handle, the computational time for local machines will be more. This kind of cases need to be planned and deadlines need to be planned\n",
    "\n",
    "\n"
   ]
  },
  {
   "cell_type": "markdown",
   "metadata": {
    "id": "miL2u4K1Wvyq"
   },
   "source": [
    "### Step 4: Data gathering and understanding"
   ]
  },
  {
   "cell_type": "markdown",
   "metadata": {
    "id": "Q8cxRfbMW2n6"
   },
   "source": [
    "*  Data understanding involves having good knowledge on what are the features involved in the data, what they represent exactly, and how they are derived.\n",
    "\n",
    "\n"
   ]
  },
  {
   "cell_type": "markdown",
   "metadata": {
    "id": "HUIbTIRDW6wN"
   },
   "source": [
    "### Step 5: Data preparation"
   ]
  },
  {
   "cell_type": "markdown",
   "metadata": {
    "id": "B7NjjDgxW-rL"
   },
   "source": [
    "\n",
    "\n",
    "*   Data can be from different database management systems like SQL, Oracle DBMS. Prior knowledge is needed on clubbing the data from different data sources.\n",
    "\n"
   ]
  },
  {
   "cell_type": "markdown",
   "metadata": {
    "id": "l4JzfLrUXDBS"
   },
   "source": [
    "### Step 6: Data Cleaning"
   ]
  },
  {
   "cell_type": "markdown",
   "metadata": {
    "id": "Rh_sr9RxXLJc"
   },
   "source": [
    "1. Duplicates\n",
    "2. Data validity check\n",
    "3. Missing values\n",
    "4. Outliers"
   ]
  },
  {
   "cell_type": "markdown",
   "metadata": {
    "id": "jcnUVpkWXPvb"
   },
   "source": [
    "### Step 7: Exploratory data analysis"
   ]
  },
  {
   "cell_type": "markdown",
   "metadata": {
    "id": "Hkmd58iZXTOq"
   },
   "source": [
    "1. Uni-variate analysis\n",
    "2. Bi-variate/Multi-variate analysis\n",
    "3. Pivots\n",
    "4. Visualization and Data Insights"
   ]
  },
  {
   "cell_type": "markdown",
   "metadata": {
    "id": "Mb3lfZ6UXW6o"
   },
   "source": [
    "### Step 8: Feature engineering and selection"
   ]
  },
  {
   "cell_type": "markdown",
   "metadata": {
    "id": "7efEIT9fXXD5"
   },
   "source": [
    "\n",
    "\n",
    "*   Need to identify the right drivers/features which affect the target variable. This requires a solid understanding of business context and use case.\n",
    "\n",
    "\n"
   ]
  },
  {
   "cell_type": "markdown",
   "metadata": {
    "id": "VX0STq4EXiAh"
   },
   "source": [
    "### Step 9: ML model assumption checks"
   ]
  },
  {
   "cell_type": "markdown",
   "metadata": {
    "id": "brXt-kmXXnHa"
   },
   "source": [
    "\n",
    "\n",
    "*   Some of the ML models have assumptions check which needs to be done before proceeding to the model building.\n",
    "\n"
   ]
  },
  {
   "cell_type": "markdown",
   "metadata": {
    "id": "d8ybzOnNXroS"
   },
   "source": [
    "### Step 10: Data Preparation for Modelling"
   ]
  },
  {
   "cell_type": "markdown",
   "metadata": {
    "id": "Q6iZgQ4kXxdp"
   },
   "source": [
    "1. Creating dummy variables\n",
    "2. Over Sampling and Under Sampling (if the data is imbalanced)\n",
    "3. Split the data into train and test"
   ]
  },
  {
   "cell_type": "markdown",
   "metadata": {
    "id": "z7oqVCBDX0NB"
   },
   "source": [
    "### Step 11: Model Building"
   ]
  },
  {
   "cell_type": "markdown",
   "metadata": {
    "id": "L4pbeD2QX3nh"
   },
   "source": [
    "\n",
    "\n",
    "*   Model building is the process of developing a probabilistic model that best describes the relationship between independent and dependent variables. Various ML models are to be built based on the problem statement.\n",
    "\n",
    "\n"
   ]
  },
  {
   "cell_type": "markdown",
   "metadata": {
    "id": "GivUTixjX8hC"
   },
   "source": [
    "### Step 12 : Model Validation & Evaluation"
   ]
  },
  {
   "cell_type": "markdown",
   "metadata": {
    "id": "LQIV8Bn9X_Zp"
   },
   "source": [
    "1. Testing the model\n",
    "2. Tuning the model\n",
    "3. Cross-validation\n",
    "4. Model evaluation metrics trade-off\n",
    "5. Model Underfitting/Overfitting"
   ]
  },
  {
   "cell_type": "markdown",
   "metadata": {
    "id": "DPhgzk92YDXr"
   },
   "source": [
    "### Step 13: Prediction & Model deployment"
   ]
  },
  {
   "cell_type": "markdown",
   "metadata": {
    "id": "ZjtnZDXMYJqK"
   },
   "source": [
    "\n",
    "\n",
    "*  This step covers model deployment and also to production models for real-time use\n",
    "\n",
    "\n"
   ]
  }
 ],
 "metadata": {
  "colab": {
   "authorship_tag": "ABX9TyPO2lsc4NmJkDf3rdF/uPKy",
   "provenance": []
  },
  "kernelspec": {
   "display_name": "Python 3 (ipykernel)",
   "language": "python",
   "name": "python3"
  },
  "language_info": {
   "codemirror_mode": {
    "name": "ipython",
    "version": 3
   },
   "file_extension": ".py",
   "mimetype": "text/x-python",
   "name": "python",
   "nbconvert_exporter": "python",
   "pygments_lexer": "ipython3",
   "version": "3.10.5"
  }
 },
 "nbformat": 4,
 "nbformat_minor": 1
}

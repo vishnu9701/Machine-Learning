{
 "cells": [
  {
   "cell_type": "markdown",
   "metadata": {
    "id": "5jzLBW73srxI"
   },
   "source": [
    "# Random Forest Classifier\n",
    "Random Forest is a classifier that contains a number of decision trees on various subsets of the given dataset and takes the average to improve the predictive accuracy of that dataset.\" Instead of relying on one decision tree, the random forest takes the prediction from each tree and based on the majority votes of predictions, and it predicts the final outpu"
   ]
  },
  {
   "cell_type": "markdown",
   "metadata": {
    "id": "BURY1B2BtKdF"
   },
   "source": [
    "The greater number of trees in the forest leads to higher accuracy and prevents the problem of overfitting."
   ]
  },
  {
   "cell_type": "markdown",
   "metadata": {
    "id": "aY42QCputKfQ"
   },
   "source": [
    "![image.png](data:image/png;base64,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)"
   ]
  },
  {
   "cell_type": "markdown",
   "metadata": {
    "id": "5yKo7Qyftnrj"
   },
   "source": [
    "* It takes less training time as compared to other algorithms.\n",
    "* It predicts output with high accuracy, even for the large dataset it runs efficiently.\n",
    "* It can also maintain accuracy when a large proportion of data is missing."
   ]
  },
  {
   "cell_type": "markdown",
   "metadata": {
    "id": "hMjaQh6TtKiZ"
   },
   "source": [
    "# Advantages of Random Forest\n",
    "* Random Forest is capable of performing both Classification and Regression tasks.\n",
    "* It is capable of handling large datasets with high dimensionality.\n",
    "* It enhances the accuracy of the model and prevents the overfitting issue.\n",
    "\n"
   ]
  },
  {
   "cell_type": "markdown",
   "metadata": {
    "id": "kr_t6_attZrj"
   },
   "source": [
    "# Disadvantages of Random Forest\n",
    " * Although random forest can be used for both classification and regression tasks, it is not more suitable for Regression tasks."
   ]
  },
  {
   "cell_type": "code",
   "execution_count": 1,
   "metadata": {
    "colab": {
     "base_uri": "https://localhost:8080/"
    },
    "executionInfo": {
     "elapsed": 1812,
     "status": "ok",
     "timestamp": 1677129952802,
     "user": {
      "displayName": "Vishnu Pandey",
      "userId": "14136930795597363772"
     },
     "user_tz": -330
    },
    "id": "UlAXorU9uq8L",
    "outputId": "90261470-1664-43d0-ce91-2402f100ac5e"
   },
   "outputs": [
    {
     "data": {
      "text/plain": [
       "['DESCR',\n",
       " 'data',\n",
       " 'data_module',\n",
       " 'feature_names',\n",
       " 'filename',\n",
       " 'frame',\n",
       " 'target',\n",
       " 'target_names']"
      ]
     },
     "execution_count": 1,
     "metadata": {},
     "output_type": "execute_result"
    }
   ],
   "source": [
    "from sklearn.datasets import load_iris\n",
    "iris = load_iris()\n",
    "dir(iris)"
   ]
  },
  {
   "cell_type": "code",
   "execution_count": 2,
   "metadata": {
    "colab": {
     "base_uri": "https://localhost:8080/",
     "height": 206
    },
    "executionInfo": {
     "elapsed": 16,
     "status": "ok",
     "timestamp": 1677129955482,
     "user": {
      "displayName": "Vishnu Pandey",
      "userId": "14136930795597363772"
     },
     "user_tz": -330
    },
    "id": "TKn1LJntvB9R",
    "outputId": "6bd61719-85a5-4ea9-ddd7-1a92018661bd"
   },
   "outputs": [
    {
     "data": {
      "text/html": [
       "<div>\n",
       "<style scoped>\n",
       "    .dataframe tbody tr th:only-of-type {\n",
       "        vertical-align: middle;\n",
       "    }\n",
       "\n",
       "    .dataframe tbody tr th {\n",
       "        vertical-align: top;\n",
       "    }\n",
       "\n",
       "    .dataframe thead th {\n",
       "        text-align: right;\n",
       "    }\n",
       "</style>\n",
       "<table border=\"1\" class=\"dataframe\">\n",
       "  <thead>\n",
       "    <tr style=\"text-align: right;\">\n",
       "      <th></th>\n",
       "      <th>sepal length (cm)</th>\n",
       "      <th>sepal width (cm)</th>\n",
       "      <th>petal length (cm)</th>\n",
       "      <th>petal width (cm)</th>\n",
       "    </tr>\n",
       "  </thead>\n",
       "  <tbody>\n",
       "    <tr>\n",
       "      <th>0</th>\n",
       "      <td>5.1</td>\n",
       "      <td>3.5</td>\n",
       "      <td>1.4</td>\n",
       "      <td>0.2</td>\n",
       "    </tr>\n",
       "    <tr>\n",
       "      <th>1</th>\n",
       "      <td>4.9</td>\n",
       "      <td>3.0</td>\n",
       "      <td>1.4</td>\n",
       "      <td>0.2</td>\n",
       "    </tr>\n",
       "    <tr>\n",
       "      <th>2</th>\n",
       "      <td>4.7</td>\n",
       "      <td>3.2</td>\n",
       "      <td>1.3</td>\n",
       "      <td>0.2</td>\n",
       "    </tr>\n",
       "    <tr>\n",
       "      <th>3</th>\n",
       "      <td>4.6</td>\n",
       "      <td>3.1</td>\n",
       "      <td>1.5</td>\n",
       "      <td>0.2</td>\n",
       "    </tr>\n",
       "    <tr>\n",
       "      <th>4</th>\n",
       "      <td>5.0</td>\n",
       "      <td>3.6</td>\n",
       "      <td>1.4</td>\n",
       "      <td>0.2</td>\n",
       "    </tr>\n",
       "  </tbody>\n",
       "</table>\n",
       "</div>"
      ],
      "text/plain": [
       "   sepal length (cm)  sepal width (cm)  petal length (cm)  petal width (cm)\n",
       "0                5.1               3.5                1.4               0.2\n",
       "1                4.9               3.0                1.4               0.2\n",
       "2                4.7               3.2                1.3               0.2\n",
       "3                4.6               3.1                1.5               0.2\n",
       "4                5.0               3.6                1.4               0.2"
      ]
     },
     "execution_count": 2,
     "metadata": {},
     "output_type": "execute_result"
    }
   ],
   "source": [
    "import pandas as pd\n",
    "df = pd.DataFrame(iris.data, columns=iris.feature_names)\n",
    "df.head()"
   ]
  },
  {
   "cell_type": "code",
   "execution_count": 3,
   "metadata": {
    "colab": {
     "base_uri": "https://localhost:8080/",
     "height": 206
    },
    "executionInfo": {
     "elapsed": 11,
     "status": "ok",
     "timestamp": 1677129964939,
     "user": {
      "displayName": "Vishnu Pandey",
      "userId": "14136930795597363772"
     },
     "user_tz": -330
    },
    "id": "W-vAAoPgvDJR",
    "outputId": "3af62b90-5662-4b76-f913-1026502600d0"
   },
   "outputs": [
    {
     "data": {
      "text/html": [
       "<div>\n",
       "<style scoped>\n",
       "    .dataframe tbody tr th:only-of-type {\n",
       "        vertical-align: middle;\n",
       "    }\n",
       "\n",
       "    .dataframe tbody tr th {\n",
       "        vertical-align: top;\n",
       "    }\n",
       "\n",
       "    .dataframe thead th {\n",
       "        text-align: right;\n",
       "    }\n",
       "</style>\n",
       "<table border=\"1\" class=\"dataframe\">\n",
       "  <thead>\n",
       "    <tr style=\"text-align: right;\">\n",
       "      <th></th>\n",
       "      <th>sepal length (cm)</th>\n",
       "      <th>sepal width (cm)</th>\n",
       "      <th>petal length (cm)</th>\n",
       "      <th>petal width (cm)</th>\n",
       "      <th>target</th>\n",
       "    </tr>\n",
       "  </thead>\n",
       "  <tbody>\n",
       "    <tr>\n",
       "      <th>0</th>\n",
       "      <td>5.1</td>\n",
       "      <td>3.5</td>\n",
       "      <td>1.4</td>\n",
       "      <td>0.2</td>\n",
       "      <td>0</td>\n",
       "    </tr>\n",
       "    <tr>\n",
       "      <th>1</th>\n",
       "      <td>4.9</td>\n",
       "      <td>3.0</td>\n",
       "      <td>1.4</td>\n",
       "      <td>0.2</td>\n",
       "      <td>0</td>\n",
       "    </tr>\n",
       "    <tr>\n",
       "      <th>2</th>\n",
       "      <td>4.7</td>\n",
       "      <td>3.2</td>\n",
       "      <td>1.3</td>\n",
       "      <td>0.2</td>\n",
       "      <td>0</td>\n",
       "    </tr>\n",
       "    <tr>\n",
       "      <th>3</th>\n",
       "      <td>4.6</td>\n",
       "      <td>3.1</td>\n",
       "      <td>1.5</td>\n",
       "      <td>0.2</td>\n",
       "      <td>0</td>\n",
       "    </tr>\n",
       "    <tr>\n",
       "      <th>4</th>\n",
       "      <td>5.0</td>\n",
       "      <td>3.6</td>\n",
       "      <td>1.4</td>\n",
       "      <td>0.2</td>\n",
       "      <td>0</td>\n",
       "    </tr>\n",
       "  </tbody>\n",
       "</table>\n",
       "</div>"
      ],
      "text/plain": [
       "   sepal length (cm)  sepal width (cm)  petal length (cm)  petal width (cm)  \\\n",
       "0                5.1               3.5                1.4               0.2   \n",
       "1                4.9               3.0                1.4               0.2   \n",
       "2                4.7               3.2                1.3               0.2   \n",
       "3                4.6               3.1                1.5               0.2   \n",
       "4                5.0               3.6                1.4               0.2   \n",
       "\n",
       "   target  \n",
       "0       0  \n",
       "1       0  \n",
       "2       0  \n",
       "3       0  \n",
       "4       0  "
      ]
     },
     "execution_count": 3,
     "metadata": {},
     "output_type": "execute_result"
    }
   ],
   "source": [
    "df['target'] = iris.target\n",
    "df.head()"
   ]
  },
  {
   "cell_type": "code",
   "execution_count": 4,
   "metadata": {
    "executionInfo": {
     "elapsed": 5,
     "status": "ok",
     "timestamp": 1677129975361,
     "user": {
      "displayName": "Vishnu Pandey",
      "userId": "14136930795597363772"
     },
     "user_tz": -330
    },
    "id": "awqcFujmvFiJ"
   },
   "outputs": [],
   "source": [
    "from sklearn.model_selection import train_test_split\n",
    "X_train, X_test, y_train, y_test = train_test_split(df.drop(['target'],axis='columns'),iris.target,test_size=0.2)"
   ]
  },
  {
   "cell_type": "code",
   "execution_count": 5,
   "metadata": {
    "colab": {
     "base_uri": "https://localhost:8080/"
    },
    "executionInfo": {
     "elapsed": 1690,
     "status": "ok",
     "timestamp": 1677129985827,
     "user": {
      "displayName": "Vishnu Pandey",
      "userId": "14136930795597363772"
     },
     "user_tz": -330
    },
    "id": "l702vek8vH8P",
    "outputId": "22df327c-7a85-43b9-a2b8-df0270dbd8e6"
   },
   "outputs": [
    {
     "data": {
      "text/html": [
       "<style>#sk-container-id-1 {color: black;background-color: white;}#sk-container-id-1 pre{padding: 0;}#sk-container-id-1 div.sk-toggleable {background-color: white;}#sk-container-id-1 label.sk-toggleable__label {cursor: pointer;display: block;width: 100%;margin-bottom: 0;padding: 0.3em;box-sizing: border-box;text-align: center;}#sk-container-id-1 label.sk-toggleable__label-arrow:before {content: \"▸\";float: left;margin-right: 0.25em;color: #696969;}#sk-container-id-1 label.sk-toggleable__label-arrow:hover:before {color: black;}#sk-container-id-1 div.sk-estimator:hover label.sk-toggleable__label-arrow:before {color: black;}#sk-container-id-1 div.sk-toggleable__content {max-height: 0;max-width: 0;overflow: hidden;text-align: left;background-color: #f0f8ff;}#sk-container-id-1 div.sk-toggleable__content pre {margin: 0.2em;color: black;border-radius: 0.25em;background-color: #f0f8ff;}#sk-container-id-1 input.sk-toggleable__control:checked~div.sk-toggleable__content {max-height: 200px;max-width: 100%;overflow: auto;}#sk-container-id-1 input.sk-toggleable__control:checked~label.sk-toggleable__label-arrow:before {content: \"▾\";}#sk-container-id-1 div.sk-estimator input.sk-toggleable__control:checked~label.sk-toggleable__label {background-color: #d4ebff;}#sk-container-id-1 div.sk-label input.sk-toggleable__control:checked~label.sk-toggleable__label {background-color: #d4ebff;}#sk-container-id-1 input.sk-hidden--visually {border: 0;clip: rect(1px 1px 1px 1px);clip: rect(1px, 1px, 1px, 1px);height: 1px;margin: -1px;overflow: hidden;padding: 0;position: absolute;width: 1px;}#sk-container-id-1 div.sk-estimator {font-family: monospace;background-color: #f0f8ff;border: 1px dotted black;border-radius: 0.25em;box-sizing: border-box;margin-bottom: 0.5em;}#sk-container-id-1 div.sk-estimator:hover {background-color: #d4ebff;}#sk-container-id-1 div.sk-parallel-item::after {content: \"\";width: 100%;border-bottom: 1px solid gray;flex-grow: 1;}#sk-container-id-1 div.sk-label:hover label.sk-toggleable__label {background-color: #d4ebff;}#sk-container-id-1 div.sk-serial::before {content: \"\";position: absolute;border-left: 1px solid gray;box-sizing: border-box;top: 0;bottom: 0;left: 50%;z-index: 0;}#sk-container-id-1 div.sk-serial {display: flex;flex-direction: column;align-items: center;background-color: white;padding-right: 0.2em;padding-left: 0.2em;position: relative;}#sk-container-id-1 div.sk-item {position: relative;z-index: 1;}#sk-container-id-1 div.sk-parallel {display: flex;align-items: stretch;justify-content: center;background-color: white;position: relative;}#sk-container-id-1 div.sk-item::before, #sk-container-id-1 div.sk-parallel-item::before {content: \"\";position: absolute;border-left: 1px solid gray;box-sizing: border-box;top: 0;bottom: 0;left: 50%;z-index: -1;}#sk-container-id-1 div.sk-parallel-item {display: flex;flex-direction: column;z-index: 1;position: relative;background-color: white;}#sk-container-id-1 div.sk-parallel-item:first-child::after {align-self: flex-end;width: 50%;}#sk-container-id-1 div.sk-parallel-item:last-child::after {align-self: flex-start;width: 50%;}#sk-container-id-1 div.sk-parallel-item:only-child::after {width: 0;}#sk-container-id-1 div.sk-dashed-wrapped {border: 1px dashed gray;margin: 0 0.4em 0.5em 0.4em;box-sizing: border-box;padding-bottom: 0.4em;background-color: white;}#sk-container-id-1 div.sk-label label {font-family: monospace;font-weight: bold;display: inline-block;line-height: 1.2em;}#sk-container-id-1 div.sk-label-container {text-align: center;}#sk-container-id-1 div.sk-container {/* jupyter's `normalize.less` sets `[hidden] { display: none; }` but bootstrap.min.css set `[hidden] { display: none !important; }` so we also need the `!important` here to be able to override the default hidden behavior on the sphinx rendered scikit-learn.org. See: https://github.com/scikit-learn/scikit-learn/issues/21755 */display: inline-block !important;position: relative;}#sk-container-id-1 div.sk-text-repr-fallback {display: none;}</style><div id=\"sk-container-id-1\" class=\"sk-top-container\"><div class=\"sk-text-repr-fallback\"><pre>RandomForestClassifier()</pre><b>In a Jupyter environment, please rerun this cell to show the HTML representation or trust the notebook. <br />On GitHub, the HTML representation is unable to render, please try loading this page with nbviewer.org.</b></div><div class=\"sk-container\" hidden><div class=\"sk-item\"><div class=\"sk-estimator sk-toggleable\"><input class=\"sk-toggleable__control sk-hidden--visually\" id=\"sk-estimator-id-1\" type=\"checkbox\" checked><label for=\"sk-estimator-id-1\" class=\"sk-toggleable__label sk-toggleable__label-arrow\">RandomForestClassifier</label><div class=\"sk-toggleable__content\"><pre>RandomForestClassifier()</pre></div></div></div></div></div>"
      ],
      "text/plain": [
       "RandomForestClassifier()"
      ]
     },
     "execution_count": 5,
     "metadata": {},
     "output_type": "execute_result"
    }
   ],
   "source": [
    "from sklearn.ensemble import RandomForestClassifier\n",
    "model = RandomForestClassifier()\n",
    "model.fit(X_train, y_train)"
   ]
  },
  {
   "cell_type": "code",
   "execution_count": 6,
   "metadata": {
    "colab": {
     "base_uri": "https://localhost:8080/"
    },
    "executionInfo": {
     "elapsed": 8,
     "status": "ok",
     "timestamp": 1677129994629,
     "user": {
      "displayName": "Vishnu Pandey",
      "userId": "14136930795597363772"
     },
     "user_tz": -330
    },
    "id": "lffZnueRvKWf",
    "outputId": "fd0bebe0-9c1e-4e1b-e3e0-909dbe8fafcf"
   },
   "outputs": [
    {
     "data": {
      "text/plain": [
       "0.9666666666666667"
      ]
     },
     "execution_count": 6,
     "metadata": {},
     "output_type": "execute_result"
    }
   ],
   "source": [
    "model.score(X_test,y_test)"
   ]
  },
  {
   "cell_type": "code",
   "execution_count": 7,
   "metadata": {
    "colab": {
     "base_uri": "https://localhost:8080/"
    },
    "executionInfo": {
     "elapsed": 960,
     "status": "ok",
     "timestamp": 1677130003666,
     "user": {
      "displayName": "Vishnu Pandey",
      "userId": "14136930795597363772"
     },
     "user_tz": -330
    },
    "id": "3TTqTwrbvMbY",
    "outputId": "a5264b9e-4745-4127-ab1a-08c6d3433b0b"
   },
   "outputs": [
    {
     "data": {
      "text/plain": [
       "0.9666666666666667"
      ]
     },
     "execution_count": 7,
     "metadata": {},
     "output_type": "execute_result"
    }
   ],
   "source": [
    "model = RandomForestClassifier(n_estimators=40)\n",
    "model.fit(X_train, y_train)\n",
    "model.score(X_test,y_test)"
   ]
  }
 ],
 "metadata": {
  "colab": {
   "authorship_tag": "ABX9TyMrJNPydSIpn1cZzzk61/na",
   "provenance": []
  },
  "kernelspec": {
   "display_name": "Python 3 (ipykernel)",
   "language": "python",
   "name": "python3"
  },
  "language_info": {
   "codemirror_mode": {
    "name": "ipython",
    "version": 3
   },
   "file_extension": ".py",
   "mimetype": "text/x-python",
   "name": "python",
   "nbconvert_exporter": "python",
   "pygments_lexer": "ipython3",
   "version": "3.10.5"
  }
 },
 "nbformat": 4,
 "nbformat_minor": 1
}

{
 "cells": [
  {
   "cell_type": "markdown",
   "metadata": {
    "id": "iAGATR9R5S6n"
   },
   "source": [
    "# K-Cross Valdiation\n",
    "K-fold cross-validation approach divides the input dataset into K groups of samples of equal sizes. These samples are called folds. For each learning set, the prediction function uses k-1 folds, and the rest of the folds are used for the test set."
   ]
  },
  {
   "cell_type": "markdown",
   "metadata": {
    "id": "3CWkxz4v5c5m"
   },
   "source": [
    "![image.png](data:image/png;base64,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)"
   ]
  },
  {
   "cell_type": "markdown",
   "metadata": {
    "id": "-WUe4e0k5c75"
   },
   "source": [
    "Cross-Validation dataset: It is used to overcome the disadvantage of train/test split by splitting the dataset into groups of train/test splits, and averaging the result. It can be used if we want to optimize our model that has been trained on the training dataset for the best performance. It is more efficient as compared to train/test split as every observation is used for the training and testing both."
   ]
  },
  {
   "cell_type": "markdown",
   "metadata": {
    "id": "Xlxb1SU_5c-T"
   },
   "source": [
    "# Applications of Cross-Validation\n",
    "* This technique can be used to compare the performance of different predictive modeling methods.\n",
    "* It has great scope in the medical research field.\n",
    "* It can also be used for the meta-analysis, as it is already being used by the data scientists in the field of medical statistics."
   ]
  },
  {
   "cell_type": "code",
   "execution_count": 1,
   "metadata": {
    "executionInfo": {
     "elapsed": 2067,
     "status": "ok",
     "timestamp": 1677133148718,
     "user": {
      "displayName": "Vishnu Pandey",
      "userId": "14136930795597363772"
     },
     "user_tz": -330
    },
    "id": "Ih0MDnbQ7CLP"
   },
   "outputs": [],
   "source": [
    "from sklearn.datasets import load_iris\n",
    "from sklearn.model_selection import cross_val_score\n",
    "from sklearn.linear_model import LogisticRegression\n",
    "from sklearn.tree import DecisionTreeClassifier\n",
    "from sklearn.svm import SVC\n",
    "from sklearn.ensemble import RandomForestClassifier\n",
    "import numpy as np"
   ]
  },
  {
   "cell_type": "code",
   "execution_count": 2,
   "metadata": {
    "executionInfo": {
     "elapsed": 442,
     "status": "ok",
     "timestamp": 1677133192586,
     "user": {
      "displayName": "Vishnu Pandey",
      "userId": "14136930795597363772"
     },
     "user_tz": -330
    },
    "id": "DFIMntJw7MDZ"
   },
   "outputs": [],
   "source": [
    "iris = load_iris()"
   ]
  },
  {
   "cell_type": "markdown",
   "metadata": {
    "id": "e2XkVcj17F4_"
   },
   "source": [
    "## Logistic Regression"
   ]
  },
  {
   "cell_type": "code",
   "execution_count": 3,
   "metadata": {
    "colab": {
     "base_uri": "https://localhost:8080/"
    },
    "executionInfo": {
     "elapsed": 17,
     "status": "ok",
     "timestamp": 1677133194668,
     "user": {
      "displayName": "Vishnu Pandey",
      "userId": "14136930795597363772"
     },
     "user_tz": -330
    },
    "id": "V4guXlao7FPy",
    "outputId": "0d432850-e404-4d1a-ffd6-70367ab4e448"
   },
   "outputs": [
    {
     "name": "stderr",
     "output_type": "stream",
     "text": [
      "C:\\Python\\lib\\site-packages\\sklearn\\linear_model\\_logistic.py:444: ConvergenceWarning: lbfgs failed to converge (status=1):\n",
      "STOP: TOTAL NO. of ITERATIONS REACHED LIMIT.\n",
      "\n",
      "Increase the number of iterations (max_iter) or scale the data as shown in:\n",
      "    https://scikit-learn.org/stable/modules/preprocessing.html\n",
      "Please also refer to the documentation for alternative solver options:\n",
      "    https://scikit-learn.org/stable/modules/linear_model.html#logistic-regression\n",
      "  n_iter_i = _check_optimize_result(\n"
     ]
    },
    {
     "data": {
      "text/plain": [
       "array([0.96666667, 1.        , 0.93333333, 0.96666667, 1.        ])"
      ]
     },
     "execution_count": 3,
     "metadata": {},
     "output_type": "execute_result"
    }
   ],
   "source": [
    "l_scores = cross_val_score(LogisticRegression(), iris.data, iris.target)\n",
    "l_scores"
   ]
  },
  {
   "cell_type": "code",
   "execution_count": 4,
   "metadata": {
    "colab": {
     "base_uri": "https://localhost:8080/"
    },
    "executionInfo": {
     "elapsed": 11,
     "status": "ok",
     "timestamp": 1677133199393,
     "user": {
      "displayName": "Vishnu Pandey",
      "userId": "14136930795597363772"
     },
     "user_tz": -330
    },
    "id": "DQRLpMGn7TeX",
    "outputId": "1fdc97e1-8746-4451-8f3f-c1a4cdab1f93"
   },
   "outputs": [
    {
     "data": {
      "text/plain": [
       "0.9733333333333334"
      ]
     },
     "execution_count": 4,
     "metadata": {},
     "output_type": "execute_result"
    }
   ],
   "source": [
    "np.average(l_scores)"
   ]
  },
  {
   "cell_type": "markdown",
   "metadata": {
    "id": "yIlSBcSH7f4F"
   },
   "source": [
    "# Decision Tree"
   ]
  },
  {
   "cell_type": "code",
   "execution_count": 5,
   "metadata": {
    "colab": {
     "base_uri": "https://localhost:8080/"
    },
    "executionInfo": {
     "elapsed": 14,
     "status": "ok",
     "timestamp": 1677133241893,
     "user": {
      "displayName": "Vishnu Pandey",
      "userId": "14136930795597363772"
     },
     "user_tz": -330
    },
    "id": "yu1ELnCB7fd0",
    "outputId": "edd0deb7-47d0-472b-861d-29bd8d8663f1"
   },
   "outputs": [
    {
     "data": {
      "text/plain": [
       "array([0.96666667, 0.96666667, 0.9       , 0.96666667, 1.        ])"
      ]
     },
     "execution_count": 5,
     "metadata": {},
     "output_type": "execute_result"
    }
   ],
   "source": [
    "d_scores = cross_val_score(DecisionTreeClassifier(), iris.data, iris.target)\n",
    "d_scores"
   ]
  },
  {
   "cell_type": "code",
   "execution_count": 6,
   "metadata": {
    "colab": {
     "base_uri": "https://localhost:8080/"
    },
    "executionInfo": {
     "elapsed": 14,
     "status": "ok",
     "timestamp": 1677133253193,
     "user": {
      "displayName": "Vishnu Pandey",
      "userId": "14136930795597363772"
     },
     "user_tz": -330
    },
    "id": "tC1QtTmg7aq4",
    "outputId": "91284ad2-e659-467b-8013-d31f305d58e1"
   },
   "outputs": [
    {
     "data": {
      "text/plain": [
       "0.9600000000000002"
      ]
     },
     "execution_count": 6,
     "metadata": {},
     "output_type": "execute_result"
    }
   ],
   "source": [
    "np.average(d_scores)"
   ]
  },
  {
   "cell_type": "markdown",
   "metadata": {
    "id": "7fNnH-4n7p07"
   },
   "source": [
    "## Support Vector Machine (SVM)"
   ]
  },
  {
   "cell_type": "code",
   "execution_count": 7,
   "metadata": {
    "colab": {
     "base_uri": "https://localhost:8080/"
    },
    "executionInfo": {
     "elapsed": 65,
     "status": "ok",
     "timestamp": 1677133274035,
     "user": {
      "displayName": "Vishnu Pandey",
      "userId": "14136930795597363772"
     },
     "user_tz": -330
    },
    "id": "KGkEO5ey7oHj",
    "outputId": "238caf05-d4c3-4eda-9b57-b0cb3ce03373"
   },
   "outputs": [
    {
     "data": {
      "text/plain": [
       "array([0.96666667, 0.96666667, 0.96666667, 0.93333333, 1.        ])"
      ]
     },
     "execution_count": 7,
     "metadata": {},
     "output_type": "execute_result"
    }
   ],
   "source": [
    "s_scores = cross_val_score(SVC(), iris.data, iris.target)\n",
    "s_scores"
   ]
  },
  {
   "cell_type": "code",
   "execution_count": 8,
   "metadata": {
    "colab": {
     "base_uri": "https://localhost:8080/"
    },
    "executionInfo": {
     "elapsed": 22,
     "status": "ok",
     "timestamp": 1677133279226,
     "user": {
      "displayName": "Vishnu Pandey",
      "userId": "14136930795597363772"
     },
     "user_tz": -330
    },
    "id": "GUXXwXWj7st6",
    "outputId": "145e99c3-35e6-4a8b-d3a4-d438b46714fe"
   },
   "outputs": [
    {
     "data": {
      "text/plain": [
       "0.9666666666666666"
      ]
     },
     "execution_count": 8,
     "metadata": {},
     "output_type": "execute_result"
    }
   ],
   "source": [
    "np.average(s_scores)"
   ]
  },
  {
   "cell_type": "markdown",
   "metadata": {
    "id": "UnUkBhno7xe0"
   },
   "source": [
    "## Random Forest"
   ]
  },
  {
   "cell_type": "code",
   "execution_count": 9,
   "metadata": {
    "colab": {
     "base_uri": "https://localhost:8080/"
    },
    "executionInfo": {
     "elapsed": 735,
     "status": "ok",
     "timestamp": 1677133303592,
     "user": {
      "displayName": "Vishnu Pandey",
      "userId": "14136930795597363772"
     },
     "user_tz": -330
    },
    "id": "vt3spguK7ul8",
    "outputId": "0eb547fe-7f3d-4e6a-cb51-168ab4dcdf87"
   },
   "outputs": [
    {
     "data": {
      "text/plain": [
       "array([0.96666667, 0.96666667, 0.93333333, 0.93333333, 1.        ])"
      ]
     },
     "execution_count": 9,
     "metadata": {},
     "output_type": "execute_result"
    }
   ],
   "source": [
    "r_scores = cross_val_score(RandomForestClassifier(n_estimators=40), iris.data, iris.target)\n",
    "r_scores"
   ]
  },
  {
   "cell_type": "code",
   "execution_count": 10,
   "metadata": {
    "colab": {
     "base_uri": "https://localhost:8080/"
    },
    "executionInfo": {
     "elapsed": 15,
     "status": "ok",
     "timestamp": 1677133308385,
     "user": {
      "displayName": "Vishnu Pandey",
      "userId": "14136930795597363772"
     },
     "user_tz": -330
    },
    "id": "GK526v9E7z86",
    "outputId": "1645b729-d130-4529-8d76-8aa0089a6780"
   },
   "outputs": [
    {
     "data": {
      "text/plain": [
       "0.96"
      ]
     },
     "execution_count": 10,
     "metadata": {},
     "output_type": "execute_result"
    }
   ],
   "source": [
    "np.average(r_scores)"
   ]
  },
  {
   "cell_type": "markdown",
   "metadata": {
    "id": "Aw6bJSL573s2"
   },
   "source": [
    "## Best score so far is from SVM: 0.97344771241830064"
   ]
  }
 ],
 "metadata": {
  "colab": {
   "authorship_tag": "ABX9TyPf5QGIX1cgjeqrmAxu/5Oi",
   "provenance": []
  },
  "kernelspec": {
   "display_name": "Python 3 (ipykernel)",
   "language": "python",
   "name": "python3"
  },
  "language_info": {
   "codemirror_mode": {
    "name": "ipython",
    "version": 3
   },
   "file_extension": ".py",
   "mimetype": "text/x-python",
   "name": "python",
   "nbconvert_exporter": "python",
   "pygments_lexer": "ipython3",
   "version": "3.10.5"
  }
 },
 "nbformat": 4,
 "nbformat_minor": 1
}
